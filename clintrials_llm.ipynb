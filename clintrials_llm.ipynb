{
 "cells": [
  {
   "cell_type": "markdown",
   "metadata": {
    "id": "zC4VECvm7aD_"
   },
   "source": [
    "## Set up API and some functions"
   ]
  },
  {
   "cell_type": "code",
   "execution_count": 2,
   "metadata": {
    "colab": {
     "base_uri": "https://localhost:8080/"
    },
    "id": "hXk_FjIO6sPv",
    "outputId": "ca8e5c63-8a44-4373-a2ba-8d40917a9112"
   },
   "outputs": [
    {
     "name": "stdout",
     "output_type": "stream",
     "text": [
      "Collecting openai==0.28\n",
      "  Downloading openai-0.28.0-py3-none-any.whl.metadata (13 kB)\n",
      "Requirement already satisfied: requests>=2.20 in /usr/local/lib/python3.10/dist-packages (from openai==0.28) (2.32.3)\n",
      "Requirement already satisfied: tqdm in /usr/local/lib/python3.10/dist-packages (from openai==0.28) (4.66.6)\n",
      "Requirement already satisfied: aiohttp in /usr/local/lib/python3.10/dist-packages (from openai==0.28) (3.11.2)\n",
      "Requirement already satisfied: charset-normalizer<4,>=2 in /usr/local/lib/python3.10/dist-packages (from requests>=2.20->openai==0.28) (3.4.0)\n",
      "Requirement already satisfied: idna<4,>=2.5 in /usr/local/lib/python3.10/dist-packages (from requests>=2.20->openai==0.28) (3.10)\n",
      "Requirement already satisfied: urllib3<3,>=1.21.1 in /usr/local/lib/python3.10/dist-packages (from requests>=2.20->openai==0.28) (2.2.3)\n",
      "Requirement already satisfied: certifi>=2017.4.17 in /usr/local/lib/python3.10/dist-packages (from requests>=2.20->openai==0.28) (2024.8.30)\n",
      "Requirement already satisfied: aiohappyeyeballs>=2.3.0 in /usr/local/lib/python3.10/dist-packages (from aiohttp->openai==0.28) (2.4.3)\n",
      "Requirement already satisfied: aiosignal>=1.1.2 in /usr/local/lib/python3.10/dist-packages (from aiohttp->openai==0.28) (1.3.1)\n",
      "Requirement already satisfied: attrs>=17.3.0 in /usr/local/lib/python3.10/dist-packages (from aiohttp->openai==0.28) (24.2.0)\n",
      "Requirement already satisfied: frozenlist>=1.1.1 in /usr/local/lib/python3.10/dist-packages (from aiohttp->openai==0.28) (1.5.0)\n",
      "Requirement already satisfied: multidict<7.0,>=4.5 in /usr/local/lib/python3.10/dist-packages (from aiohttp->openai==0.28) (6.1.0)\n",
      "Requirement already satisfied: propcache>=0.2.0 in /usr/local/lib/python3.10/dist-packages (from aiohttp->openai==0.28) (0.2.0)\n",
      "Requirement already satisfied: yarl<2.0,>=1.17.0 in /usr/local/lib/python3.10/dist-packages (from aiohttp->openai==0.28) (1.17.2)\n",
      "Requirement already satisfied: async-timeout<6.0,>=4.0 in /usr/local/lib/python3.10/dist-packages (from aiohttp->openai==0.28) (4.0.3)\n",
      "Requirement already satisfied: typing-extensions>=4.1.0 in /usr/local/lib/python3.10/dist-packages (from multidict<7.0,>=4.5->aiohttp->openai==0.28) (4.12.2)\n",
      "Downloading openai-0.28.0-py3-none-any.whl (76 kB)\n",
      "\u001b[2K   \u001b[90m━━━━━━━━━━━━━━━━━━━━━━━━━━━━━━━━━━━━━━━━\u001b[0m \u001b[32m76.5/76.5 kB\u001b[0m \u001b[31m2.1 MB/s\u001b[0m eta \u001b[36m0:00:00\u001b[0m\n",
      "\u001b[?25hInstalling collected packages: openai\n",
      "  Attempting uninstall: openai\n",
      "    Found existing installation: openai 1.54.4\n",
      "    Uninstalling openai-1.54.4:\n",
      "      Successfully uninstalled openai-1.54.4\n",
      "Successfully installed openai-0.28.0\n"
     ]
    }
   ],
   "source": [
    "!pip install openai==0.28"
   ]
  },
  {
   "cell_type": "code",
   "execution_count": null,
   "metadata": {
    "id": "L7en3IWa6sPz"
   },
   "outputs": [],
   "source": [
    "import openai\n",
    "\n",
    "# see: https://platform.openai.com/docs/quickstart\n",
    "openai.api_key = \"\"  # add your key here\n",
    "from IPython.display import display, Markdown\n",
    "import requests\n",
    "import json"
   ]
  },
  {
   "cell_type": "code",
   "execution_count": 4,
   "metadata": {
    "id": "PUvKkhBY6sPz"
   },
   "outputs": [],
   "source": [
    "# Define the DotDict class\n",
    "class DotDict(dict):\n",
    "    __getattr__ = dict.__getitem__\n",
    "    __setattr__ = dict.__setitem__\n",
    "    __delattr__ = dict.__delitem__\n",
    "\n",
    "    def __init__(self, dct):\n",
    "        for key, value in dct.items():\n",
    "            if hasattr(value, \"keys\"):\n",
    "                value = DotDict(value)\n",
    "            self[key] = value"
   ]
  },
  {
   "cell_type": "code",
   "execution_count": 5,
   "metadata": {
    "id": "GqnML-Mb6sP0"
   },
   "outputs": [],
   "source": [
    "def clinical_trials_api(condition, terms, intervention, topK=5):\n",
    "    assert topK <= 10\n",
    "\n",
    "    # Define the payload for the request\n",
    "    payload = {\n",
    "        \"query.cond\": condition,\n",
    "        \"query.term\": terms,\n",
    "        \"query.intr\": intervention,\n",
    "        # \"filter.overallStatus\": 'COMPLETED',\n",
    "    }\n",
    "\n",
    "    # Define the URL and make the request\n",
    "    url = \"https://clinicaltrials.gov/api/v2/studies\"\n",
    "    response = requests.get(url, params=payload)\n",
    "\n",
    "    trial_ids = []\n",
    "    clinical_trial_data = []\n",
    "\n",
    "    # Check if the request was successful\n",
    "    if response.status_code == 200:\n",
    "        try:\n",
    "            data = response.json()\n",
    "            studies = data.get(\"studies\", [])[:topK]\n",
    "\n",
    "            for idx, study_data in enumerate(studies):\n",
    "                study = DotDict(study_data)\n",
    "                try:\n",
    "                    # Get the study number (nctId)\n",
    "                    nct_id = study.protocolSection.identificationModule.nctId\n",
    "                    trial_ids.append(\"https://clinicaltrials.gov/study/\" + str(nct_id))\n",
    "                    clinical_trial_data.append(\n",
    "                        \"Clinical Trial Details #{} in Nested JSON format:\".format(\n",
    "                            idx + 1\n",
    "                        )\n",
    "                    )\n",
    "                    clinical_trial_data.append(json.dumps(study))\n",
    "                except (KeyError, AttributeError):\n",
    "                    continue\n",
    "\n",
    "            # Save clinical trial data as a string in results_dict\n",
    "            clinical_trial_data = \"\\n\".join(clinical_trial_data)\n",
    "\n",
    "        except requests.exceptions.JSONDecodeError:\n",
    "            print(\"Failed to decode JSON. Here is the raw response:\")\n",
    "            print(response.text)\n",
    "    else:\n",
    "        print(f\"Request failed with status code: {response.status_code}\")\n",
    "        print(response.text)\n",
    "\n",
    "    # Print the collected clinical trial data\n",
    "    print(\"The following top {} clinical trials are pulled:\".format(topK))\n",
    "    print(\"\\n\".join(trial_ids))\n",
    "    # print(clinical_trial_data)\n",
    "\n",
    "    return trial_ids, clinical_trial_data"
   ]
  },
  {
   "cell_type": "code",
   "execution_count": 6,
   "metadata": {
    "id": "BkhBxgMU6sP0"
   },
   "outputs": [],
   "source": [
    "def chatgpt_summary(context):\n",
    "    response = openai.ChatCompletion.create(\n",
    "        model=\"gpt-4o-mini\",  # \"o1-mini\" (more expensive) or \"gpt-4o-mini\" (cheaper)\n",
    "        messages=[\n",
    "            {\"role\": \"system\", \"content\": \"You are a helpful assistant.\"},\n",
    "            {\n",
    "                \"role\": \"user\",\n",
    "                \"content\": \"Please summarize the most clinically relevant information out of these nested JSON responses from a Clinical Trial Database for various related clinical trials. Please start with summary right away without any small talk. This is the trial data: {}\".format(\n",
    "                    context\n",
    "                ),\n",
    "            },\n",
    "        ],\n",
    "    )\n",
    "    display(Markdown(response[\"choices\"][0][\"message\"][\"content\"]))\n",
    "    return response"
   ]
  },
  {
   "cell_type": "code",
   "execution_count": 7,
   "metadata": {
    "id": "y7FQigXX6sP1"
   },
   "outputs": [],
   "source": [
    "def chatgpt_ask(context, question):\n",
    "    response = openai.ChatCompletion.create(\n",
    "        model=\"gpt-4o-mini\",  # \"o1-mini\" (more expensive) or \"gpt-4o-mini\" (cheaper)\n",
    "        messages=[\n",
    "            {\"role\": \"system\", \"content\": \"You are a helpful assistant.\"},\n",
    "            {\n",
    "                \"role\": \"user\",\n",
    "                \"content\": \"Please thoroughly understand clinically important information encoded in the following nested JSON responses from a Clinical Trial Database for various related clinical trials. Please answer the subsequent questions based on this data. Please be factual and always cite the clinical trial source when you use a certain piece of information from there. Here is the trial data: {}\".format(\n",
    "                    context\n",
    "                ),\n",
    "            },\n",
    "            {\n",
    "                \"role\": \"user\",\n",
    "                \"content\": \"Now answer the following question: {}\".format(question),\n",
    "            },\n",
    "        ],\n",
    "    )\n",
    "    display(Markdown(response[\"choices\"][0][\"message\"][\"content\"]))\n",
    "    return response"
   ]
  },
  {
   "cell_type": "code",
   "execution_count": 7,
   "metadata": {
    "id": "4KaDFgcT6sP1"
   },
   "outputs": [],
   "source": []
  },
  {
   "cell_type": "markdown",
   "metadata": {
    "id": "tvdYuQwj6sP1"
   },
   "source": [
    "# Demo"
   ]
  },
  {
   "cell_type": "code",
   "execution_count": 8,
   "metadata": {
    "id": "eQGiDX9P6sP3"
   },
   "outputs": [],
   "source": [
    "condition = \"infarction\"\n",
    "terms = \"diabetes\"\n",
    "intervention = \"heart attack\"\n",
    "top_number_of_trials_to_consider = 10 # up to 10 supported for now"
   ]
  },
  {
   "cell_type": "code",
   "execution_count": 9,
   "metadata": {
    "colab": {
     "base_uri": "https://localhost:8080/"
    },
    "id": "bl_VXIFj6sP3",
    "outputId": "cae0bab0-165b-4209-eed9-f6f3e4e11203"
   },
   "outputs": [
    {
     "name": "stdout",
     "output_type": "stream",
     "text": [
      "The following top 10 clinical trials are pulled:\n",
      "https://clinicaltrials.gov/study/NCT03620266\n",
      "https://clinicaltrials.gov/study/NCT06017544\n",
      "https://clinicaltrials.gov/study/NCT03646357\n",
      "https://clinicaltrials.gov/study/NCT04188457\n",
      "https://clinicaltrials.gov/study/NCT03658031\n",
      "https://clinicaltrials.gov/study/NCT01887080\n",
      "https://clinicaltrials.gov/study/NCT06245980\n",
      "https://clinicaltrials.gov/study/NCT00725127\n",
      "https://clinicaltrials.gov/study/NCT00921960\n",
      "https://clinicaltrials.gov/study/NCT05535582\n"
     ]
    }
   ],
   "source": [
    "clinical_trials_context = clinical_trials_api(\n",
    "    condition, terms, intervention, topK=top_number_of_trials_to_consider\n",
    ")"
   ]
  },
  {
   "cell_type": "code",
   "execution_count": 10,
   "metadata": {
    "colab": {
     "base_uri": "https://localhost:8080/",
     "height": 1000
    },
    "id": "C8MKyK3W6sP4",
    "outputId": "79ce2f1c-afb0-4060-d1bd-3db3acc5be0b"
   },
   "outputs": [
    {
     "data": {
      "text/markdown": [
       "### Summary of Clinical Trials\n",
       "\n",
       "1. **BioDiaMI (NCT03620266)**  \n",
       "   - **Objective**: Investigate the effects of bilberry and oat intake on lipid profiles, inflammation, and exercise capacity in patients with Type 2 Diabetes Mellitus (T2DM) or Myocardial Infarction (MI).  \n",
       "   - **Design**: Randomized, double-blind, placebo-controlled trial with an estimated enrollment of 900 participants.  \n",
       "   - **Primary Endpoint**: LDL cholesterol change after three months.  \n",
       "   - **Eligibility**: Adults with T2DM and/or within three years of MI.  \n",
       "   - **Status**: Recruiting.\n",
       "\n",
       "2. **GLP-1RAs and SGLT2is Therapy (NCT06017544)**  \n",
       "   - **Objective**: Evaluate the combination therapy of GLP-1 receptor agonists (GLP-1RAs) and SGLT2 inhibitors (SGLT2is) on major adverse cardiovascular events (MACE) in T2DM patients post-MI.  \n",
       "   - **Design**: Observational study with an estimated enrollment of 257 participants.  \n",
       "   - **Primary Outcome**: Composite of MACE, including mortality and heart failure.  \n",
       "   - **Eligibility**: Adults with T2DM hospitalized due to AMI.  \n",
       "   - **Status**: Recruiting.\n",
       "\n",
       "3. **BETAMI (NCT03646357)**  \n",
       "   - **Objective**: Study the efficacy of beta-blocker therapy post-AMI in patients without reduced left ventricular systolic function.  \n",
       "   - **Design**: Randomized, open-label trial. Estimated enrollment of 2895 participants.  \n",
       "   - **Primary Endpoint**: Composite of death, recurrent MI, heart failure, etc. over 6 months to 6 years.  \n",
       "   - **Eligibility**: Adults ≥18 years diagnosed with AMI treated with PCI or thrombolysis.  \n",
       "   - **Status**: Active, not recruiting.\n",
       "\n",
       "4. **DiVa (NCT04188457)**  \n",
       "   - **Objective**: Evaluate intensive outpatient monitoring versus usual care for neuro-cardiovascular diseases post-MI.  \n",
       "   - **Design**: Observational study with an estimated enrollment of 1720 participants.  \n",
       "   - **Primary Outcome**: Cost-utility ratio associated with intensive monitoring.  \n",
       "   - **Eligibility**: Adults with recent cardiac events.  \n",
       "   - **Status**: Recruiting.\n",
       "\n",
       "5. **Dapagliflozin Study (NCT03658031)**  \n",
       "   - **Objective**: Assess the impact of dapagliflozin on the progression from prediabetes to T2DM in post-MI patients.  \n",
       "   - **Design**: Randomized, double-blind trial with an estimated enrollment of 576 participants.  \n",
       "   - **Primary Outcome**: Incidence of T2DM at 36 months.  \n",
       "   - **Eligibility**: Adults with prediabetes and recent MI.  \n",
       "   - **Status**: Not yet recruiting.\n",
       "\n",
       "6. **Microcurrent in Cardiac Rehab (NCT01887080)**  \n",
       "   - **Objective**: Investigate the effects of microcurrent therapy in a home-based cardiac rehabilitation program post-MI.  \n",
       "   - **Design**: Completed interventional trial with a sample size of 40.  \n",
       "   - **Primary Outcome**: Change in cardiorespiratory fitness at 8 weeks.  \n",
       "   - **Eligibility**: Adults aged 40-75 with stabilized heart disease post-MI.  \n",
       "   - **Status**: Completed.\n",
       "\n",
       "7. **Role of SGLT2I (NCT06245980)**  \n",
       "   - **Objective**: Investigate the role of SGLT2 inhibitors in diabetic patients post-MI.  \n",
       "   - **Design**: Observational cohort study with an estimated enrollment of 1200 participants.  \n",
       "   - **Primary Outcomes**: MACE, recurrent MI, heart failure readmission over 24 months.  \n",
       "   - **Eligibility**: Diabetic patients with acute MI.  \n",
       "   - **Status**: Recruiting.\n",
       "\n",
       "8. **Chronotherapy with Aspirin (NCT00725127)**  \n",
       "   - **Objective**: Examine the effects of taking low-dose aspirin in the morning versus at bedtime on preventing cardiovascular events.  \n",
       "   - **Design**: Randomized trial with an estimated 3200 participants.  \n",
       "   - **Primary Outcome**: Effects on cardiovascular events over 5 years.  \n",
       "   - **Eligibility**: Adults ≥50 years with impaired fasting glucose or T2DM.  \n",
       "   - **Status**: Recruiting.\n",
       "\n",
       "9. **STOP-HF Study (NCT00921960)**  \n",
       "   - **Objective**: Identify and prevent left ventricular dysfunction in at-risk asymptomatic individuals using natriuretic peptides.  \n",
       "   - **Design**: Completed interventional study with an enrollment of 1378 participants.  \n",
       "   - **Primary Outcome**: Prevalence and severity of left ventricular dysfunction after 5 years.  \n",
       "   - **Eligibility**: Adults with cardiovascular risk factors.  \n",
       "   - **Status**: Completed.\n",
       "\n",
       "10. **Beyond-SMuRFs Study (NCT05535582)**  \n",
       "    - **Objective**: Investigate clinical, laboratory, and imaging biomarkers associated with acute myocardial infarction in patients without standard modifiable risk factors.  \n",
       "    - **Design**: Observational cohort study with a planned 750 participants.  \n",
       "    - **Primary Outcome**: Differences in clinical features and biomarkers between patients with and without SMuRFs over 2 years.  \n",
       "    - **Eligibility**: Adults >25 years presenting with AMI.  \n",
       "    - **Status**: Active, not recruiting.\n",
       "\n",
       "### Note\n",
       "This summary captures the key clinical aspects of the listed trials, including objectives, design, primary outcomes, eligibility criteria, and current status."
      ],
      "text/plain": [
       "<IPython.core.display.Markdown object>"
      ]
     },
     "metadata": {},
     "output_type": "display_data"
    }
   ],
   "source": [
    "response = chatgpt_summary(clinical_trials_context)"
   ]
  },
  {
   "cell_type": "code",
   "execution_count": 11,
   "metadata": {
    "colab": {
     "base_uri": "https://localhost:8080/",
     "height": 832
    },
    "id": "-wGG84DT6sP4",
    "outputId": "972b2b2f-f805-4d2c-8555-a1e72cfa57ae"
   },
   "outputs": [
    {
     "data": {
      "text/markdown": [
       "### Innovative Ideas in Recent Clinical Trials\n",
       "\n",
       "Several clinical trials in the dataset employ innovative methodologies that differentiate them from conventional trial execution:\n",
       "\n",
       "1. **Combination Therapies**: Trials like NCT06017544 (GLP-1RAs and SGLT2is Combination Therapy) explore combining medications with complementary mechanisms to improve outcomes in patients post-myocardial infarction, which is more tailored to individual patient needs.\n",
       "\n",
       "2. **Dietary Interventions**: The NCT03620266 trial, which examines the effects of bilberry and oat intake on cardiovascular health, takes a non-pharmacological approach to intervention, focusing on dietary changes rather than solely drug interventions. This trial acknowledges the importance of nutrition in managing chronic conditions like type 2 diabetes and myocardial infarction.\n",
       "\n",
       "3. **Use of Biomarkers**: The NCT05535582 study focuses on identifying patients without standard modifiable risk factors (SMuRFs) for acute myocardial infarction through clinical, laboratory, and echocardiographic biomarkers. This screening could lead to new predictive models for at-risk patients that deviate from traditional risk assessments based on conventional factors.\n",
       "\n",
       "4. **Chronotherapy**: The NCT00725127 trial (CARING Study) investigates the timing of aspirin administration and its impact on cardiovascular events in patients with impaired fasting glucose or diabetes, which takes advantage of chronobiology.\n",
       "\n",
       "**Hopefulness and Recruitment Status**:\n",
       "Many of these trials appear hopeful as they address significant issues in cardiovascular care and diabetes management, potentially leading to improved health outcomes. As of the latest information:\n",
       "- Clinical trials such as NCT03620266, NCT06017544, NCT04188457, and NCT06245980 are actively recruiting participants.\n",
       "\n",
       "### Specific Questions Answered\n",
       "\n",
       "1. **Trial with More Men Registered than Women**:\n",
       "   - Unfortunately, the provided data does not include detailed information about the gender distribution of registered participants for each trial. Thus, I cannot specify which trial has more men than women based on the given information.\n",
       "\n",
       "2. **Trial Dealing with Interventions with More Side Effects**:\n",
       "   - NCT04188457 (BETAMI Study) appears to deal with beta-blockers, which are known to have a range of side effects, including fatigue, dizziness, and in some cases, more severe complications. This contrasts with dietary supplements or observational studies, which typically have a lower risk of side effects compared to pharmacological interventions.\n",
       "\n",
       "3. **SMILE Strings of Drugs Used in Trials**:\n",
       "   - **NCT03620266**: No specific drug mentioned; focuses on dietary supplements (bilberry, oat).\n",
       "   - **NCT06017544**: GLP-1RAs, SGLT2 inhibitors.\n",
       "   - **NCT04188457**: Beta-blockers.\n",
       "   - **NCT03658031**: Dapagliflozin.\n",
       "   - **NCT01887080**: Microcurrent (not a drug, but a therapy).\n",
       "   - **NCT00725127**: Aspirin.\n",
       "   - **NCT00921960**: Not applicable as it's a screening study.\n",
       "\n",
       "4. **New Learning from the List of Trials**:\n",
       "   - One notable learning is the increasing movement towards integrating lifestyle changes and complementary therapies in conjunction with or as alternatives to traditional pharmacological treatments in managing chronic diseases. The use of guidelines that encompass lifestyle interventions to reduce cardiovascular risk signifies a shift towards holistic care approaches. \n",
       "\n",
       "Overall, the trials reflect a blend of emerging pharmacological strategies, novel therapeutic approaches, and an emphasis on personalized medicine, providing exciting prospects for addressing complex health challenges."
      ],
      "text/plain": [
       "<IPython.core.display.Markdown object>"
      ]
     },
     "metadata": {},
     "output_type": "display_data"
    }
   ],
   "source": [
    "question = \"\"\"\n",
    "\n",
    "What are the innovative ideas have been introduced in the clinical trials recently that are quite differentiating from the regular/conventional way\n",
    "of executing clinical trials? Do the trials look hopeful at all? Are any of them still recruiting?\n",
    "\n",
    "Also, answer the following questions please:\n",
    "1) Which trial has more men registered than women?\n",
    "2) Which trial deals with interventions that are generally thought to hold the most number of side affects than the others?\n",
    "3) Can you also please return the SMILE strings of drugs used in each of the trials, if any.\n",
    "4) If there is one thing you learnt from this list of trials that you haven't had an idea of before, what is that one learning?\n",
    "\n",
    "\"\"\"\n",
    "response = chatgpt_ask(clinical_trials_context, question.strip())"
   ]
  },
  {
   "cell_type": "code",
   "execution_count": null,
   "metadata": {
    "id": "ysLrqrLO6sP5"
   },
   "outputs": [],
   "source": []
  }
 ],
 "metadata": {
  "colab": {
   "collapsed_sections": [
    "zC4VECvm7aD_"
   ],
   "provenance": []
  },
  "kernelspec": {
   "display_name": "Python 3",
   "name": "python3"
  },
  "language_info": {
   "codemirror_mode": {
    "name": "ipython",
    "version": 3
   },
   "file_extension": ".py",
   "mimetype": "text/x-python",
   "name": "python",
   "nbconvert_exporter": "python",
   "pygments_lexer": "ipython3",
   "version": "3.8.12"
  }
 },
 "nbformat": 4,
 "nbformat_minor": 0
}
