{
 "cells": [
  {
   "cell_type": "code",
   "execution_count": null,
   "metadata": {},
   "outputs": [],
   "source": [
    "# !pip install openai==0.28"
   ]
  },
  {
   "cell_type": "code",
   "execution_count": null,
   "metadata": {},
   "outputs": [],
   "source": [
    "import openai\n",
    "\n",
    "# see: https://platform.openai.com/docs/quickstart\n",
    "openai.api_key = \"\"  # add your key here\n",
    "from IPython.display import display, Markdown\n",
    "import requests\n",
    "import json"
   ]
  },
  {
   "cell_type": "code",
   "execution_count": null,
   "metadata": {},
   "outputs": [],
   "source": [
    "# Define the DotDict class\n",
    "class DotDict(dict):\n",
    "    __getattr__ = dict.__getitem__\n",
    "    __setattr__ = dict.__setitem__\n",
    "    __delattr__ = dict.__delitem__\n",
    "\n",
    "    def __init__(self, dct):\n",
    "        for key, value in dct.items():\n",
    "            if hasattr(value, \"keys\"):\n",
    "                value = DotDict(value)\n",
    "            self[key] = value"
   ]
  },
  {
   "cell_type": "code",
   "execution_count": 55,
   "metadata": {},
   "outputs": [],
   "source": [
    "def clinical_trials_api(condition, terms, intervention, topK=5):\n",
    "    assert topK <= 10\n",
    "\n",
    "    # Define the payload for the request\n",
    "    payload = {\n",
    "        \"query.cond\": condition,\n",
    "        \"query.term\": terms,\n",
    "        \"query.intr\": intervention,\n",
    "        # \"filter.overallStatus\": 'COMPLETED',\n",
    "    }\n",
    "\n",
    "    # Define the URL and make the request\n",
    "    url = \"https://clinicaltrials.gov/api/v2/studies\"\n",
    "    response = requests.get(url, params=payload)\n",
    "\n",
    "    trial_ids = []\n",
    "    clinical_trial_data = []\n",
    "\n",
    "    # Check if the request was successful\n",
    "    if response.status_code == 200:\n",
    "        try:\n",
    "            data = response.json()\n",
    "            studies = data.get(\"studies\", [])[:topK]\n",
    "\n",
    "            for idx, study_data in enumerate(studies):\n",
    "                study = DotDict(study_data)\n",
    "                try:\n",
    "                    # Get the study number (nctId)\n",
    "                    nct_id = study.protocolSection.identificationModule.nctId\n",
    "                    trial_ids.append(\"https://clinicaltrials.gov/study/\" + str(nct_id))\n",
    "                    clinical_trial_data.append(\n",
    "                        \"Clinical Trial Details #{} in Nested JSON format:\".format(\n",
    "                            idx + 1\n",
    "                        )\n",
    "                    )\n",
    "                    clinical_trial_data.append(json.dumps(study))\n",
    "                except (KeyError, AttributeError):\n",
    "                    continue\n",
    "\n",
    "            # Save clinical trial data as a string in results_dict\n",
    "            clinical_trial_data = \"\\n\".join(clinical_trial_data)\n",
    "\n",
    "        except requests.exceptions.JSONDecodeError:\n",
    "            print(\"Failed to decode JSON. Here is the raw response:\")\n",
    "            print(response.text)\n",
    "    else:\n",
    "        print(f\"Request failed with status code: {response.status_code}\")\n",
    "        print(response.text)\n",
    "\n",
    "    # Print the collected clinical trial data\n",
    "    print(\"The following top {} clinical trials are pulled:\".format(topK))\n",
    "    print(\"\\n\".join(trial_ids))\n",
    "    # print(clinical_trial_data)\n",
    "\n",
    "    return trial_ids, clinical_trial_data"
   ]
  },
  {
   "cell_type": "code",
   "execution_count": 49,
   "metadata": {},
   "outputs": [],
   "source": [
    "def chatgpt_summary(context):\n",
    "    response = openai.ChatCompletion.create(\n",
    "        model=\"gpt-4o-mini\",  # \"o1-mini\" (more expensive) or \"gpt-4o-mini\" (cheaper)\n",
    "        messages=[\n",
    "            {\"role\": \"system\", \"content\": \"You are a helpful assistant.\"},\n",
    "            {\n",
    "                \"role\": \"user\",\n",
    "                \"content\": \"Please summarize the most clinically relevant information out of these nested JSON responses from a Clinical Trial Database for various related clinical trials. Please start with summary right away without any small talk. This is the trial data: {}\".format(\n",
    "                    context\n",
    "                ),\n",
    "            },\n",
    "        ],\n",
    "    )\n",
    "    display(Markdown(response[\"choices\"][0][\"message\"][\"content\"]))\n",
    "    return response"
   ]
  },
  {
   "cell_type": "code",
   "execution_count": 50,
   "metadata": {},
   "outputs": [],
   "source": [
    "def chatgpt_ask(context, question):\n",
    "    response = openai.ChatCompletion.create(\n",
    "        model=\"gpt-4o-mini\",  # \"o1-mini\" (more expensive) or \"gpt-4o-mini\" (cheaper)\n",
    "        messages=[\n",
    "            {\"role\": \"system\", \"content\": \"You are a helpful assistant.\"},\n",
    "            {\n",
    "                \"role\": \"user\",\n",
    "                \"content\": \"Please thoroughly understand clinically important information encoded in the following nested JSON responses from a Clinical Trial Database for various related clinical trials. Please answer the subsequent questions based on this data. Please be factual and always cite the clinical trial source when you use a certain piece of information from there. Here is the trial data: {}\".format(\n",
    "                    context\n",
    "                ),\n",
    "            },\n",
    "            {\n",
    "                \"role\": \"user\",\n",
    "                \"content\": \"Now answer the following question: {}\".format(question),\n",
    "            },\n",
    "        ],\n",
    "    )\n",
    "    display(Markdown(response[\"choices\"][0][\"message\"][\"content\"]))\n",
    "    return response"
   ]
  },
  {
   "cell_type": "code",
   "execution_count": null,
   "metadata": {},
   "outputs": [],
   "source": []
  },
  {
   "cell_type": "markdown",
   "metadata": {},
   "source": [
    "# Demo"
   ]
  },
  {
   "cell_type": "code",
   "execution_count": 57,
   "metadata": {},
   "outputs": [],
   "source": [
    "condition = \"infarction\"\n",
    "terms = \"diabetes\"\n",
    "intervention = \"heart attack\"\n",
    "top_number_of_trials_to_consider = 3\n",
    "\n",
    "question = \"\"\"\n",
    "\n",
    "What are the innovative ideas have been introduced in the clinical trials recently that are quite differentiating from the regular/conventional way \n",
    "of executing clinical trials? Do the trials look hopeful at all? Are any of them still recruiting?\n",
    "\n",
    "\"\"\""
   ]
  },
  {
   "cell_type": "code",
   "execution_count": 58,
   "metadata": {},
   "outputs": [
    {
     "name": "stdout",
     "output_type": "stream",
     "text": [
      "The following top 3 clinical trials are pulled:\n",
      "https://clinicaltrials.gov/study/NCT05332262\n",
      "https://clinicaltrials.gov/study/NCT06245980\n",
      "https://clinicaltrials.gov/study/NCT02542774\n"
     ]
    }
   ],
   "source": [
    "clinical_trials_context = clinical_trials_api(\n",
    "    condition, terms, intervention, topK=top_number_of_trials_to_consider\n",
    ")"
   ]
  },
  {
   "cell_type": "code",
   "execution_count": 59,
   "metadata": {},
   "outputs": [
    {
     "data": {
      "text/markdown": [
       "### Summary of Clinical Trials\n",
       "\n",
       "**1. NCT05332262 - A Precision Medicine Approach to Identify Patients Undergoing Elective PCI at Risk of Peri-PCI Myocardial Infarction**\n",
       "   - **Organization:** University of Florida\n",
       "   - **Recruitment Status:** Currently recruiting\n",
       "   - **Study Design:** Prospective observational cohort study\n",
       "   - **Population:** 500 stable CAD patients undergoing elective PCI with clopidogrel\n",
       "   - **Objective:** Validate ABCD-GENE score to identify patients at risk for peri-PCI myocardial infarction or myocardial injury\n",
       "   - **Primary Endpoint:** Rate of peri-PCI myocardial infarction/myocardial injury within 24 hours post-PCI, comparing high vs. low ABCD-GENE score cohorts.\n",
       "   - **Inclusion Criteria:** Stable CAD patients, age ≥18, troponin negative before PCI.\n",
       "   - **Exclusion Criteria:** Recent myocardial infarction, treatment with other P2Y12 inhibitors, hypersensitivity to clopidogrel, etc.\n",
       "\n",
       "**2. NCT06245980 - Role of SGLT2I in Diabetic Patients With Myocardial Infarction**\n",
       "   - **Organization:** Chongqing Medical University\n",
       "   - **Recruitment Status:** Currently recruiting\n",
       "   - **Study Design:** Prospective observational study\n",
       "   - **Population:** 1200 acute myocardial infarction patients with type 2 diabetes\n",
       "   - **Objective:** Assess the impact of SGLT2 inhibitors on outcomes in diabetic patients who experienced myocardial infarction\n",
       "   - **Primary Outcomes:** Major adverse cardiovascular events (MACE) and heart failure readmission within 24 months.\n",
       "   - **Inclusion Criteria:** Diabetic patients with acute myocardial infarction.\n",
       "   - **Exclusion Criteria:** Patients undergoing CABG, severe valvular heart disease, contraindications to preventive therapies, prior use of SGLT2i, severe hepatic and renal insufficiency.\n",
       "\n",
       "**3. NCT02542774 - Sex Differences in the Risk of Cardiovascular Diseases Associated With Diabetes**\n",
       "   - **Organization:** University College, London\n",
       "   - **Recruitment Status:** Active, but not recruiting\n",
       "   - **Study Design:** Retrospective observational cohort study\n",
       "   - **Population:** Estimated 80,000 patients linked through electronic health records with diabetes\n",
       "   - **Objective:** Evaluate cardiovascular event risk differences in men and women with diabetes, focusing on medication usage for blood glucose, blood pressure, and cholesterol control.\n",
       "   - **Primary Outcomes:** Incidence of various cardiovascular diseases over a 10-year follow-up, including myocardial infarction and other related conditions.\n",
       "   - **Inclusion Criteria:** Patients with diabetes (new-onset or existing), age ≥18 years.\n",
       "\n",
       "These clinical trials focus on identifying high-risk patients and evaluating treatment methodologies for those experiencing cardiovascular issues, particularly in the context of diabetes and elective PCI procedures."
      ],
      "text/plain": [
       "<IPython.core.display.Markdown object>"
      ]
     },
     "metadata": {},
     "output_type": "display_data"
    }
   ],
   "source": [
    "response = chatgpt_summary(clinical_trials_context)"
   ]
  },
  {
   "cell_type": "code",
   "execution_count": 60,
   "metadata": {},
   "outputs": [
    {
     "data": {
      "text/markdown": [
       "The clinical trials highlighted demonstrate several innovative ideas and approaches that differentiate them from conventional trial methodologies:\n",
       "\n",
       "1. **Use of Precision Medicine**: \n",
       "   - The first trial (NCT05332262) utilizes a precision medicine approach to identify patients at risk of peri-PCI myocardial infarction or myocardial injury. This study integrates genetic data with standard clinical variables to create an ABCD-GENE score, which stratifies patients into different risk cohorts. This method aims to tailor antiplatelet therapies based on individual patient risk profiles, moving away from a one-size-fits-all approach (ClinicalTrials.gov, NCT05332262).\n",
       "\n",
       "2. **Focus on Genetic Factors in Patient Stratification**: \n",
       "   - The incorporation of genetics (specifically the CYP2C19 LOF) alongside clinical factors provides a more individualized approach to patient management in the context of coronary interventions. This prospective validation is essential, as previous scores were developed retrospectively (ClinicalTrials.gov, NCT05332262).\n",
       "\n",
       "3. **Assessment of Medication Impact in Specific Populations**: \n",
       "   - The second trial (NCT06245980) investigates the role of SGLT2 inhibitors in diabetic patients who have experienced a myocardial infarction. This trial aims to observe the medication's specific effects in a defined population, emphasizing tailored therapeutic interventions over generalized findings (ClinicalTrials.gov, NCT06245980).\n",
       "\n",
       "4. **Utilization of Electronic Health Records for Large-Scale Data Analysis**: \n",
       "   - The third trial (NCT02542774) analyzes linked electronic health records from a significant database, CALIBER, to evaluate cardiovascular risk in men and women with diabetes. This observational approach allows for retrospective analysis on a large scale, leveraging existing health data to uncover insights on disease progression and treatment outcomes (ClinicalTrials.gov, NCT02542774).\n",
       "\n",
       "### Hopefulness of the Trials\n",
       "- **Hopefulness**: The first trial's innovative approach in identifying high-risk patients could significantly improve outcomes in elective PCI, as it aims to reduce complications through better risk stratification. The focus on diabetic patients in the second trial supports the growing recognition of tailored therapy in chronic disease management, promising to enhance care for this vulnerable population. The third trial aims to address disparities in health service delivery and cardiovascular risk, suggesting the potential for improved outcomes through targeted care.\n",
       "\n",
       "### Recruitment Status\n",
       "- **Recruitment Status**: \n",
       "  - The first trial (NCT05332262) is currently **recruiting** participants (ClinicalTrials.gov, NCT05332262).\n",
       "  - The second trial (NCT06245980) is also still **recruiting** individuals (ClinicalTrials.gov, NCT06245980).\n",
       "  - The third trial (NCT02542774), while originally active, is listed as **unknown** with a last known status of **active not recruiting**, indicating that no new participants may currently be enrolled (ClinicalTrials.gov, NCT02542774).\n",
       "\n",
       "In summary, these trials demonstrate promising innovations in clinical research design, focusing on personalized medicine, leveraging health data analytics, and aiming for better-targeted treatments. The ongoing recruitment in two of the trials indicates optimism for potential breakthroughs in treatment methodologies."
      ],
      "text/plain": [
       "<IPython.core.display.Markdown object>"
      ]
     },
     "metadata": {},
     "output_type": "display_data"
    }
   ],
   "source": [
    "response = chatgpt_ask(clinical_trials_context, question.strip())"
   ]
  },
  {
   "cell_type": "code",
   "execution_count": null,
   "metadata": {},
   "outputs": [],
   "source": []
  }
 ],
 "metadata": {
  "kernelspec": {
   "display_name": "pytorch_env",
   "language": "python",
   "name": "python3"
  },
  "language_info": {
   "codemirror_mode": {
    "name": "ipython",
    "version": 3
   },
   "file_extension": ".py",
   "mimetype": "text/x-python",
   "name": "python",
   "nbconvert_exporter": "python",
   "pygments_lexer": "ipython3",
   "version": "3.8.12"
  }
 },
 "nbformat": 4,
 "nbformat_minor": 2
}
