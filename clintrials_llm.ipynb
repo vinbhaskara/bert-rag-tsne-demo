{
 "cells": [
  {
   "cell_type": "code",
   "execution_count": 61,
   "metadata": {},
   "outputs": [],
   "source": [
    "# !pip install openai==0.28"
   ]
  },
  {
   "cell_type": "code",
   "execution_count": null,
   "metadata": {},
   "outputs": [],
   "source": [
    "import openai\n",
    "\n",
    "# see: https://platform.openai.com/docs/quickstart\n",
    "openai.api_key = \"\"  # add your key here\n",
    "from IPython.display import display, Markdown\n",
    "import requests\n",
    "import json"
   ]
  },
  {
   "cell_type": "code",
   "execution_count": 63,
   "metadata": {},
   "outputs": [],
   "source": [
    "# Define the DotDict class\n",
    "class DotDict(dict):\n",
    "    __getattr__ = dict.__getitem__\n",
    "    __setattr__ = dict.__setitem__\n",
    "    __delattr__ = dict.__delitem__\n",
    "\n",
    "    def __init__(self, dct):\n",
    "        for key, value in dct.items():\n",
    "            if hasattr(value, \"keys\"):\n",
    "                value = DotDict(value)\n",
    "            self[key] = value"
   ]
  },
  {
   "cell_type": "code",
   "execution_count": 64,
   "metadata": {},
   "outputs": [],
   "source": [
    "def clinical_trials_api(condition, terms, intervention, topK=5):\n",
    "    assert topK <= 10\n",
    "\n",
    "    # Define the payload for the request\n",
    "    payload = {\n",
    "        \"query.cond\": condition,\n",
    "        \"query.term\": terms,\n",
    "        \"query.intr\": intervention,\n",
    "        # \"filter.overallStatus\": 'COMPLETED',\n",
    "    }\n",
    "\n",
    "    # Define the URL and make the request\n",
    "    url = \"https://clinicaltrials.gov/api/v2/studies\"\n",
    "    response = requests.get(url, params=payload)\n",
    "\n",
    "    trial_ids = []\n",
    "    clinical_trial_data = []\n",
    "\n",
    "    # Check if the request was successful\n",
    "    if response.status_code == 200:\n",
    "        try:\n",
    "            data = response.json()\n",
    "            studies = data.get(\"studies\", [])[:topK]\n",
    "\n",
    "            for idx, study_data in enumerate(studies):\n",
    "                study = DotDict(study_data)\n",
    "                try:\n",
    "                    # Get the study number (nctId)\n",
    "                    nct_id = study.protocolSection.identificationModule.nctId\n",
    "                    trial_ids.append(\"https://clinicaltrials.gov/study/\" + str(nct_id))\n",
    "                    clinical_trial_data.append(\n",
    "                        \"Clinical Trial Details #{} in Nested JSON format:\".format(\n",
    "                            idx + 1\n",
    "                        )\n",
    "                    )\n",
    "                    clinical_trial_data.append(json.dumps(study))\n",
    "                except (KeyError, AttributeError):\n",
    "                    continue\n",
    "\n",
    "            # Save clinical trial data as a string in results_dict\n",
    "            clinical_trial_data = \"\\n\".join(clinical_trial_data)\n",
    "\n",
    "        except requests.exceptions.JSONDecodeError:\n",
    "            print(\"Failed to decode JSON. Here is the raw response:\")\n",
    "            print(response.text)\n",
    "    else:\n",
    "        print(f\"Request failed with status code: {response.status_code}\")\n",
    "        print(response.text)\n",
    "\n",
    "    # Print the collected clinical trial data\n",
    "    print(\"The following top {} clinical trials are pulled:\".format(topK))\n",
    "    print(\"\\n\".join(trial_ids))\n",
    "    # print(clinical_trial_data)\n",
    "\n",
    "    return trial_ids, clinical_trial_data"
   ]
  },
  {
   "cell_type": "code",
   "execution_count": 65,
   "metadata": {},
   "outputs": [],
   "source": [
    "def chatgpt_summary(context):\n",
    "    response = openai.ChatCompletion.create(\n",
    "        model=\"gpt-4o-mini\",  # \"o1-mini\" (more expensive) or \"gpt-4o-mini\" (cheaper)\n",
    "        messages=[\n",
    "            {\"role\": \"system\", \"content\": \"You are a helpful assistant.\"},\n",
    "            {\n",
    "                \"role\": \"user\",\n",
    "                \"content\": \"Please summarize the most clinically relevant information out of these nested JSON responses from a Clinical Trial Database for various related clinical trials. Please start with summary right away without any small talk. This is the trial data: {}\".format(\n",
    "                    context\n",
    "                ),\n",
    "            },\n",
    "        ],\n",
    "    )\n",
    "    display(Markdown(response[\"choices\"][0][\"message\"][\"content\"]))\n",
    "    return response"
   ]
  },
  {
   "cell_type": "code",
   "execution_count": 66,
   "metadata": {},
   "outputs": [],
   "source": [
    "def chatgpt_ask(context, question):\n",
    "    response = openai.ChatCompletion.create(\n",
    "        model=\"gpt-4o-mini\",  # \"o1-mini\" (more expensive) or \"gpt-4o-mini\" (cheaper)\n",
    "        messages=[\n",
    "            {\"role\": \"system\", \"content\": \"You are a helpful assistant.\"},\n",
    "            {\n",
    "                \"role\": \"user\",\n",
    "                \"content\": \"Please thoroughly understand clinically important information encoded in the following nested JSON responses from a Clinical Trial Database for various related clinical trials. Please answer the subsequent questions based on this data. Please be factual and always cite the clinical trial source when you use a certain piece of information from there. Here is the trial data: {}\".format(\n",
    "                    context\n",
    "                ),\n",
    "            },\n",
    "            {\n",
    "                \"role\": \"user\",\n",
    "                \"content\": \"Now answer the following question: {}\".format(question),\n",
    "            },\n",
    "        ],\n",
    "    )\n",
    "    display(Markdown(response[\"choices\"][0][\"message\"][\"content\"]))\n",
    "    return response"
   ]
  },
  {
   "cell_type": "code",
   "execution_count": null,
   "metadata": {},
   "outputs": [],
   "source": []
  },
  {
   "cell_type": "markdown",
   "metadata": {},
   "source": [
    "# Demo"
   ]
  },
  {
   "cell_type": "code",
   "execution_count": 67,
   "metadata": {},
   "outputs": [],
   "source": [
    "condition = \"infarction\"\n",
    "terms = \"diabetes\"\n",
    "intervention = \"heart attack\"\n",
    "top_number_of_trials_to_consider = 3\n",
    "\n",
    "question = \"\"\"\n",
    "\n",
    "What are the innovative ideas have been introduced in the clinical trials recently that are quite differentiating from the regular/conventional way \n",
    "of executing clinical trials? Do the trials look hopeful at all? Are any of them still recruiting?\n",
    "\n",
    "\"\"\""
   ]
  },
  {
   "cell_type": "code",
   "execution_count": 68,
   "metadata": {},
   "outputs": [
    {
     "name": "stdout",
     "output_type": "stream",
     "text": [
      "The following top 3 clinical trials are pulled:\n",
      "https://clinicaltrials.gov/study/NCT05332262\n",
      "https://clinicaltrials.gov/study/NCT06245980\n",
      "https://clinicaltrials.gov/study/NCT02542774\n"
     ]
    }
   ],
   "source": [
    "clinical_trials_context = clinical_trials_api(\n",
    "    condition, terms, intervention, topK=top_number_of_trials_to_consider\n",
    ")"
   ]
  },
  {
   "cell_type": "code",
   "execution_count": 69,
   "metadata": {},
   "outputs": [
    {
     "data": {
      "text/markdown": [
       "### Summary of Clinical Trials\n",
       "\n",
       "1. **Trial NCT05332262: ABCD-Gene Prospective Study**\n",
       "   - **Objective**: Validate the ABCD-GENE score for identifying stable coronary artery disease (CAD) patients at risk of peri-procedural myocardial infarction during elective percutaneous coronary intervention (PCI).\n",
       "   - **Participants**: 500 stable CAD patients undergoing elective PCI, treated with clopidogrel.\n",
       "   - **Institution**: University of Florida.\n",
       "   - **Status**: Recruiting, with an estimated completion date of August 2025.\n",
       "   - **Primary Outcome**: Rate of peri-PCI myocardial infarction or myocardial injury within 24 hours, comparing high (≥10) vs. low (<10) ABCD-GENE score groups.\n",
       "   - **Key Details**: Patients will be assessed for high platelet reactivity (HPR) post-PCI and may benefit from tailored antiplatelet therapy.\n",
       "\n",
       "2. **Trial NCT06245980: Role of SGLT2I in Diabetic Patients With Myocardial Infarction**\n",
       "   - **Objective**: Determine the effect of SGLT2 inhibitors (SGLT2i) on diabetic patients with acute myocardial infarction.\n",
       "   - **Participants**: Estimated 1200 diabetic patients with acute myocardial infarction.\n",
       "   - **Institution**: Chongqing Medical University, China.\n",
       "   - **Status**: Recruiting, with results anticipated by March 2024.\n",
       "   - **Primary Outcomes**: Major adverse cardiovascular events (MACE) including cardiovascular death, heart failure, and recurrent myocardial infarction over 24 months.\n",
       "   - **Eligibility**: Inclusion criteria focus on patients with type 2 diabetes suffering from an acute myocardial infarction.\n",
       "\n",
       "3. **Trial NCT02542774: Sex Differences in Cardiovascular Risk Associated With Diabetes**\n",
       "   - **Objective**: Investigate sex differences in cardiovascular disease risks among diabetes patients, focusing on healthcare delivery effectiveness.\n",
       "   - **Participants**: Estimated 80,000 diabetes patients, analyzed via existing electronic health records.\n",
       "   - **Institution**: University College, London.\n",
       "   - **Status**: Active but not recruiting (as of the last update in 2015).\n",
       "   - **Primary Outcome**: First occurrence of any cardiovascular disease within 10 years, including myocardial infarction and heart failure.\n",
       "   - **Relevance**: Findings may provide insights into gender disparities in diabetes management and cardiovascular outcomes.\n",
       "\n",
       "These trials collectively focus on enhancing risk assessment and treatment efficacy in patients with cardiovascular conditions, particularly emphasizing the integration of genetic and therapeutic strategies to improve outcomes in diverse patient populations."
      ],
      "text/plain": [
       "<IPython.core.display.Markdown object>"
      ]
     },
     "metadata": {},
     "output_type": "display_data"
    }
   ],
   "source": [
    "response = chatgpt_summary(clinical_trials_context)"
   ]
  },
  {
   "cell_type": "code",
   "execution_count": 70,
   "metadata": {},
   "outputs": [
    {
     "data": {
      "text/markdown": [
       "The three clinical trials presented show innovative approaches that differentiate them from conventional practices in several ways:\n",
       "\n",
       "1. **NCT05332262 (University of Florida)**:\n",
       "   - **Precision Medicine Approach**: This trial utilizes a precision medicine tool—the ABCD-GENE score—that integrates genetic data with clinical variables to identify patients at high risk for peri-procedural myocardial infarction or myocardial injury during elective percutaneous coronary intervention (PCI). This contrasts with conventional methods that generally do not incorporate genetic profiling in risk assessment.\n",
       "   - **Cohort Stratification**: Patients are stratified into high and low-risk cohorts based on their ABCD-GENE score, allowing tailored interventions based on individual risk profiles.\n",
       "   - **Status**: This trial is currently **recruiting** participants, with an estimated enrollment of 500 stable coronary artery disease patients (NIH, 2024).\n",
       "\n",
       "2. **NCT06245980 (Chongqing Medical University)**:\n",
       "   - **Focus on SGLT2 Inhibitors**: The trial specifically examines the role of sodium-glucose cotransporter 2 inhibitors (SGLT2i) in diabetic patients who have suffered a myocardial infarction. It aims to understand the impact of this newer class of diabetic medications on major adverse cardiovascular events (MACE).\n",
       "   - **Patient Inclusion**: The trial focuses on a specific patient subset (diabetic patients with recent myocardial infarction), which allows for targeted interventions that are currently not standard in regular clinical care.\n",
       "   - **Status**: This trial is also currently **recruiting**, with an estimated enrollment of 1200 participants (NIH, 2024).\n",
       "\n",
       "3. **NCT02542774 (University College, London)**:\n",
       "   - **Long-Term and Large-Scale Data Analysis**: This trial employs a retrospective cohort design based on linked electronic health records rather than standard prospective monitoring. It seeks to evaluate the cardiovascular risks associated with diabetes management, providing insights into real-world clinical practice and outcomes.\n",
       "   - **Innovative Use of Data**: By analyzing existing health databases, it captures a larger population (estimated 80,000 participants) and generates findings that may significantly impact health service delivery and equality in diabetes care.\n",
       "   - **Status**: Although this trial was marked as active, its recruitment status is currently **unknown** (NIH, 2024).\n",
       "\n",
       "### Conclusion on Hopefulness and Recruitment Status\n",
       "The first two trials (NCT05332262 and NCT06245980) appear hopeful and are actively recruiting participants, indicating ongoing commitment to advancing clinical practices in cardiology and diabetes. They incorporate innovative methodologies, such as genetic profiling and novel drug interventions, which are likely to offer more precise and effective treatment strategies compared to conventional methods. The third trial, however, has an uncertain recruitment status, but its large-scale data analysis is vital for understanding broader trends and outcomes in patient care.\n",
       "\n",
       "### Sources:\n",
       "- ClinicalTrials.gov for NCT05332262 (University of Florida, 2024).\n",
       "- ClinicalTrials.gov for NCT06245980 (Chongqing Medical University, 2024).\n",
       "- ClinicalTrials.gov for NCT02542774 (University College, London, 2024)."
      ],
      "text/plain": [
       "<IPython.core.display.Markdown object>"
      ]
     },
     "metadata": {},
     "output_type": "display_data"
    }
   ],
   "source": [
    "response = chatgpt_ask(clinical_trials_context, question.strip())"
   ]
  },
  {
   "cell_type": "code",
   "execution_count": null,
   "metadata": {},
   "outputs": [],
   "source": []
  }
 ],
 "metadata": {
  "kernelspec": {
   "display_name": "pytorch_env",
   "language": "python",
   "name": "python3"
  },
  "language_info": {
   "codemirror_mode": {
    "name": "ipython",
    "version": 3
   },
   "file_extension": ".py",
   "mimetype": "text/x-python",
   "name": "python",
   "nbconvert_exporter": "python",
   "pygments_lexer": "ipython3",
   "version": "3.8.12"
  }
 },
 "nbformat": 4,
 "nbformat_minor": 2
}
