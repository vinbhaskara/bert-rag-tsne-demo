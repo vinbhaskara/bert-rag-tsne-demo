{
 "cells": [
  {
   "cell_type": "markdown",
   "metadata": {
    "id": "zC4VECvm7aD_"
   },
   "source": [
    "## Set up API and some functions"
   ]
  },
  {
   "cell_type": "code",
   "execution_count": 1,
   "metadata": {
    "colab": {
     "base_uri": "https://localhost:8080/"
    },
    "id": "hXk_FjIO6sPv",
    "outputId": "ca8e5c63-8a44-4373-a2ba-8d40917a9112"
   },
   "outputs": [
    {
     "name": "stdout",
     "output_type": "stream",
     "text": [
      "Requirement already satisfied: openai==0.28 in /Users/vin_bhaskara/miniconda3/envs/pytorch_env/lib/python3.8/site-packages (0.28.0)\n",
      "Requirement already satisfied: requests>=2.20 in /Users/vin_bhaskara/miniconda3/envs/pytorch_env/lib/python3.8/site-packages (from openai==0.28) (2.27.0)\n",
      "Requirement already satisfied: tqdm in /Users/vin_bhaskara/miniconda3/envs/pytorch_env/lib/python3.8/site-packages (from openai==0.28) (4.66.6)\n",
      "Requirement already satisfied: aiohttp in /Users/vin_bhaskara/miniconda3/envs/pytorch_env/lib/python3.8/site-packages (from openai==0.28) (3.10.11)\n",
      "Requirement already satisfied: urllib3<1.27,>=1.21.1 in /Users/vin_bhaskara/miniconda3/envs/pytorch_env/lib/python3.8/site-packages (from requests>=2.20->openai==0.28) (1.26.7)\n",
      "Requirement already satisfied: certifi>=2017.4.17 in /Users/vin_bhaskara/miniconda3/envs/pytorch_env/lib/python3.8/site-packages (from requests>=2.20->openai==0.28) (2024.8.30)\n",
      "Requirement already satisfied: charset-normalizer~=2.0.0 in /Users/vin_bhaskara/miniconda3/envs/pytorch_env/lib/python3.8/site-packages (from requests>=2.20->openai==0.28) (2.0.9)\n",
      "Requirement already satisfied: idna<4,>=2.5 in /Users/vin_bhaskara/miniconda3/envs/pytorch_env/lib/python3.8/site-packages (from requests>=2.20->openai==0.28) (3.1)\n",
      "Requirement already satisfied: aiohappyeyeballs>=2.3.0 in /Users/vin_bhaskara/miniconda3/envs/pytorch_env/lib/python3.8/site-packages (from aiohttp->openai==0.28) (2.4.3)\n",
      "Requirement already satisfied: aiosignal>=1.1.2 in /Users/vin_bhaskara/miniconda3/envs/pytorch_env/lib/python3.8/site-packages (from aiohttp->openai==0.28) (1.3.1)\n",
      "Requirement already satisfied: attrs>=17.3.0 in /Users/vin_bhaskara/miniconda3/envs/pytorch_env/lib/python3.8/site-packages (from aiohttp->openai==0.28) (21.4.0)\n",
      "Requirement already satisfied: frozenlist>=1.1.1 in /Users/vin_bhaskara/miniconda3/envs/pytorch_env/lib/python3.8/site-packages (from aiohttp->openai==0.28) (1.5.0)\n",
      "Requirement already satisfied: multidict<7.0,>=4.5 in /Users/vin_bhaskara/miniconda3/envs/pytorch_env/lib/python3.8/site-packages (from aiohttp->openai==0.28) (6.1.0)\n",
      "Requirement already satisfied: yarl<2.0,>=1.12.0 in /Users/vin_bhaskara/miniconda3/envs/pytorch_env/lib/python3.8/site-packages (from aiohttp->openai==0.28) (1.15.2)\n",
      "Requirement already satisfied: async-timeout<6.0,>=4.0 in /Users/vin_bhaskara/miniconda3/envs/pytorch_env/lib/python3.8/site-packages (from aiohttp->openai==0.28) (5.0.1)\n",
      "Requirement already satisfied: typing-extensions>=4.1.0 in /Users/vin_bhaskara/miniconda3/envs/pytorch_env/lib/python3.8/site-packages (from multidict<7.0,>=4.5->aiohttp->openai==0.28) (4.12.2)\n",
      "Requirement already satisfied: propcache>=0.2.0 in /Users/vin_bhaskara/miniconda3/envs/pytorch_env/lib/python3.8/site-packages (from yarl<2.0,>=1.12.0->aiohttp->openai==0.28) (0.2.0)\n"
     ]
    }
   ],
   "source": [
    "!pip install openai==0.28"
   ]
  },
  {
   "cell_type": "code",
   "execution_count": null,
   "metadata": {
    "id": "L7en3IWa6sPz"
   },
   "outputs": [],
   "source": [
    "import openai\n",
    "\n",
    "# see: https://platform.openai.com/docs/quickstart\n",
    "openai.api_key = \"\"  # add your key here\n",
    "\n",
    "from IPython.display import display, Markdown\n",
    "import requests\n",
    "import json"
   ]
  },
  {
   "cell_type": "code",
   "execution_count": 3,
   "metadata": {
    "id": "PUvKkhBY6sPz"
   },
   "outputs": [],
   "source": [
    "# Define the DotDict class\n",
    "class DotDict(dict):\n",
    "    __getattr__ = dict.__getitem__\n",
    "    __setattr__ = dict.__setitem__\n",
    "    __delattr__ = dict.__delitem__\n",
    "\n",
    "    def __init__(self, dct):\n",
    "        for key, value in dct.items():\n",
    "            if hasattr(value, \"keys\"):\n",
    "                value = DotDict(value)\n",
    "            self[key] = value"
   ]
  },
  {
   "cell_type": "code",
   "execution_count": 13,
   "metadata": {
    "id": "GqnML-Mb6sP0"
   },
   "outputs": [],
   "source": [
    "def clinical_trials_api(condition, terms, intervention, topK=5):\n",
    "    # Define the URL and make the request\n",
    "    url = \"https://clinicaltrials.gov/api/v2/studies\"\n",
    "\n",
    "    # Define the payload for the request\n",
    "    payload = {\n",
    "        \"query.cond\": condition,\n",
    "        \"query.term\": terms,\n",
    "        \"query.intr\": intervention,\n",
    "        \"sort\": \"@relevance:desc\",\n",
    "        # \"filter.overallStatus\": 'COMPLETED',\n",
    "    }\n",
    "\n",
    "    studies = []\n",
    "    for request_num in range(0, topK, 10):\n",
    "        response = requests.get(url, params=payload)\n",
    "        data = response.json()\n",
    "        studies.extend(data.get(\"studies\", []))\n",
    "        if \"nextPageToken\" in data:\n",
    "            nextPageToken = data[\"nextPageToken\"]\n",
    "            payload[\"pageToken\"] = nextPageToken\n",
    "        else:\n",
    "            break\n",
    "\n",
    "    studies = studies[:topK]\n",
    "\n",
    "    trial_ids = []\n",
    "    clinical_trial_data = []\n",
    "\n",
    "    # Check if the request was successful\n",
    "    if response.status_code == 200:\n",
    "        try:\n",
    "            for idx, study_data in enumerate(studies):\n",
    "                study = DotDict(study_data)\n",
    "                try:\n",
    "                    # Get the study number (nctId)\n",
    "                    nct_id = study.protocolSection.identificationModule.nctId\n",
    "                    trial_ids.append(\"https://clinicaltrials.gov/study/\" + str(nct_id))\n",
    "                    clinical_trial_data.append(\n",
    "                        \"Clinical Trial Details #{} in Nested JSON format:\".format(\n",
    "                            idx + 1\n",
    "                        )\n",
    "                    )\n",
    "                    clinical_trial_data.append(json.dumps(study))\n",
    "                except (KeyError, AttributeError):\n",
    "                    continue\n",
    "\n",
    "            # Save clinical trial data as a string in results_dict\n",
    "            clinical_trial_data = \"\\n\".join(clinical_trial_data)\n",
    "\n",
    "        except requests.exceptions.JSONDecodeError:\n",
    "            print(\"Failed to decode JSON. Here is the raw response:\")\n",
    "            print(response.text)\n",
    "    else:\n",
    "        print(f\"Request failed with status code: {response.status_code}\")\n",
    "        print(response.text)\n",
    "\n",
    "    # Print the collected clinical trial data\n",
    "    print(\"The following top {} clinical trials are pulled:\".format(topK))\n",
    "    print(\"\\n\".join(trial_ids))\n",
    "    # print(clinical_trial_data)\n",
    "\n",
    "    return trial_ids, clinical_trial_data"
   ]
  },
  {
   "cell_type": "code",
   "execution_count": 5,
   "metadata": {
    "id": "BkhBxgMU6sP0"
   },
   "outputs": [],
   "source": [
    "# Two options for a long input context LLM as of Nov 2024:\n",
    "# 1) Use Claude 3.5 Haiku from Anthropic for 200k input context and 8192 tokens output,\n",
    "# 2) Or use gpt-4o-mini from OpenAI for 128k input context and 16,384 tokens output\n",
    "\n",
    "\n",
    "def chatgpt_summary(context):\n",
    "    response = openai.ChatCompletion.create(\n",
    "        model=\"gpt-4o-mini\",  # \"o1-mini\" (more expensive) or \"gpt-4o-mini\" (cheaper)\n",
    "        messages=[\n",
    "            {\"role\": \"system\", \"content\": \"You are a helpful assistant.\"},\n",
    "            {\n",
    "                \"role\": \"user\",\n",
    "                \"content\": \"Please summarize the most clinically relevant information out of these nested JSON responses from a Clinical Trial Database for various related clinical trials. Interpret the JSON response values based on the key names which follow Camel Case. Please start with summary right away without any small talk. This is the trial data: {}\".format(\n",
    "                    context\n",
    "                ),\n",
    "            },\n",
    "        ],\n",
    "    )\n",
    "    display(Markdown(response[\"choices\"][0][\"message\"][\"content\"]))\n",
    "    return response\n",
    "\n",
    "\n",
    "def chatgpt_ask(context, question):\n",
    "    response = openai.ChatCompletion.create(\n",
    "        model=\"gpt-4o-mini\",  # \"o1-mini\" (more expensive) or \"gpt-4o-mini\" (cheaper)\n",
    "        messages=[\n",
    "            {\"role\": \"system\", \"content\": \"You are a helpful assistant.\"},\n",
    "            {\n",
    "                \"role\": \"user\",\n",
    "                \"content\": \"Please thoroughly understand clinically important information encoded in the following nested JSON responses from a Clinical Trial Database for various related clinical trials. Interpret the JSON response values based on the key names which follow Camel Case. Please answer the subsequent questions based on this data. Please be factual and always cite the clinical trial source when you use a certain piece of information from there. Here is the trial data: {}\".format(\n",
    "                    context\n",
    "                ),\n",
    "            },\n",
    "            {\n",
    "                \"role\": \"user\",\n",
    "                \"content\": \"Now answer the following question: {}\".format(question),\n",
    "            },\n",
    "        ],\n",
    "    )\n",
    "    display(Markdown(response[\"choices\"][0][\"message\"][\"content\"]))\n",
    "    return response"
   ]
  },
  {
   "cell_type": "code",
   "execution_count": null,
   "metadata": {
    "id": "4KaDFgcT6sP1"
   },
   "outputs": [],
   "source": []
  },
  {
   "cell_type": "markdown",
   "metadata": {
    "id": "tvdYuQwj6sP1"
   },
   "source": [
    "# Demo"
   ]
  },
  {
   "cell_type": "code",
   "execution_count": 6,
   "metadata": {
    "id": "eQGiDX9P6sP3"
   },
   "outputs": [],
   "source": [
    "condition = \"infarction\"\n",
    "terms = \"diabetes\"\n",
    "intervention = \"heart attack\"\n",
    "top_number_of_trials_to_consider = 8"
   ]
  },
  {
   "cell_type": "code",
   "execution_count": 14,
   "metadata": {
    "colab": {
     "base_uri": "https://localhost:8080/"
    },
    "id": "bl_VXIFj6sP3",
    "outputId": "cae0bab0-165b-4209-eed9-f6f3e4e11203"
   },
   "outputs": [
    {
     "name": "stdout",
     "output_type": "stream",
     "text": [
      "The following top 8 clinical trials are pulled:\n",
      "https://clinicaltrials.gov/study/NCT05431296\n",
      "https://clinicaltrials.gov/study/NCT05709509\n",
      "https://clinicaltrials.gov/study/NCT00191282\n",
      "https://clinicaltrials.gov/study/NCT04564742\n",
      "https://clinicaltrials.gov/study/NCT01882179\n",
      "https://clinicaltrials.gov/study/NCT04509674\n",
      "https://clinicaltrials.gov/study/NCT02880436\n",
      "https://clinicaltrials.gov/study/NCT05645419\n"
     ]
    }
   ],
   "source": [
    "clinical_trials_context = clinical_trials_api(\n",
    "    condition, terms, intervention, topK=top_number_of_trials_to_consider\n",
    ")"
   ]
  },
  {
   "cell_type": "code",
   "execution_count": 8,
   "metadata": {
    "colab": {
     "base_uri": "https://localhost:8080/",
     "height": 1000
    },
    "id": "C8MKyK3W6sP4",
    "outputId": "79ce2f1c-afb0-4060-d1bd-3db3acc5be0b"
   },
   "outputs": [
    {
     "data": {
      "text/markdown": [
       "### Summary of Clinical Trials\n",
       "\n",
       "1. **NCT05431296 - Glucose Monitoring After Acute Myocardial Infarct in People With Diabetes (GLAM)**\n",
       "   - **Status**: Recruiting\n",
       "   - **Objective**: Evaluate the efficacy of continuous glucose monitoring (CGM) on glycemic control in type 2 diabetes patients post-acute myocardial infarction (AMI). \n",
       "   - **Design**: Randomized controlled trial (RCT) with 160 participants; cohorts include real-time CGM for 26 weeks and blinded CGM for 10 days.\n",
       "   - **Primary Outcomes**: Percent time spent in glucose target range (3.9-10mmol/L) over 26 weeks.\n",
       "\n",
       "2. **NCT05709509 - Effect of Colchicine on MMP-9, NOX2, and TGF-β1 in Myocardial Infarction**\n",
       "   - **Status**: Recruiting\n",
       "   - **Objective**: Investigate colchicine’s effect on biochemical markers after AMI.\n",
       "   - **Design**: RCT with estimated enrollment of 148 participants (1:1 randomization between colchicine and standard therapy).\n",
       "   - **Primary Outcomes**: Changes in serum levels of MMP-9, NOX2, and TGF-β1 from 24 hours to day 5 post-treatment.\n",
       "\n",
       "3. **NCT00191282 - Hyperglycemia and Cardiovascular Outcomes With Type 2 Diabetes (HEART2D)**\n",
       "   - **Status**: Completed\n",
       "   - **Objective**: Compare two insulin strategies on cardiovascular outcomes in type 2 diabetic patients post-AMI.\n",
       "   - **Design**: RCT with 1,116 participants.\n",
       "   - **Primary Outcomes**: Incidence of primary combined cardiovascular events over 5.5 years.\n",
       "\n",
       "4. **NCT04564742 - Dapagliflozin Effects on Cardiometabolic Outcomes in Patients With Acute Myocardial Infarction (DAPA-MI)**\n",
       "   - **Status**: Completed\n",
       "   - **Objective**: Determine the impact of dapagliflozin on heart failure and mortality in non-diabetic patients post-AMI.\n",
       "   - **Design**: RCT with 4017 participants.\n",
       "   - **Primary Outcomes**: Composite endpoint of hospitalizations for heart failure or all-cause mortality over 30 months.\n",
       "\n",
       "5. **NCT01882179 - Mineralocorticoid Receptor Antagonist Treatment to Reduce Myocardial Infarct Size (MINIMISE-STEMI)**\n",
       "   - **Status**: Completed\n",
       "   - **Objective**: Investigate early MRA administration's effect on myocardial infarct size in STEMI patients.\n",
       "   - **Design**: RCT with 61 participants.\n",
       "   - **Primary Outcomes**: Myocardial infarct size at 12 weeks post-treatment.\n",
       "\n",
       "6. **NCT04509674 - EMPACT-MI: Evaluate the Effect of Empagliflozin on Hospitalisation for Heart Failure and Mortality in Patients With Acute Myocardial Infarction**\n",
       "   - **Status**: Completed\n",
       "   - **Objective**: Evaluate empagliflozin for reducing heart failure hospitalizations and mortality after an AMI.\n",
       "   - **Design**: RCT with 6522 participants.\n",
       "   - **Primary Outcomes**: Time to first heart failure hospitalization or all-cause mortality.\n",
       "\n",
       "7. **NCT02880436 - Association of Air Quality and Myocardial Infarction**\n",
       "   - **Status**: Completed\n",
       "   - **Objective**: Analyze the impact of air pollution on the occurrence of AMI.\n",
       "   - **Design**: Observational study with 12,000 cases analyzed retrospectively.\n",
       "   - **Primary Outcomes**: Correlation between air quality factors and daily myocardial infarction rates.\n",
       "\n",
       "8. **NCT05645419 - Chronoprognosis of Myocardial Infarction in Patients With Type 2 Diabetes Mellitus**\n",
       "   - **Status**: Not Yet Recruiting\n",
       "   - **Objective**: Develop a mathematical model predicting MI based on biorhythms and external environmental factors.\n",
       "   - **Design**: RCT with 60 participants; one group receiving personalized chronoprevention intervention.\n",
       "   - **Primary Outcomes**: Incidence of myocardial infarction over 24 weeks.\n",
       "\n",
       "### Key Findings\n",
       "- **Support for Continuous Monitoring**: The trials emphasize the importance of innovation in diabetes management post-AMI, especially through the use of CGMs and pharmacological interventions targeting glycemic control.\n",
       "- **Role of Inflammation Modulators**: Studies involving colchicine and mineralocorticoid receptor antagonists suggest potential benefits in modifying inflammation and cardiac remodeling post-infarction.\n",
       "- **Impact of Cardiovascular Pharmacotherapy**: Dapagliflozin and empagliflozin's effects on cardiovascular outcomes could reshape post-AMI treatment strategies, highlighting the advances in diabetic care.\n",
       "- **Environmental Considerations**: The link between air pollution and AMI incidence underscores a broader public health concern around environmental factors affecting heart health. \n",
       "\n",
       "These findings reflect ongoing research efforts to improve outcomes after myocardial infarction, particularly in diabetic populations, and explore innovative solutions in treatment practices."
      ],
      "text/plain": [
       "<IPython.core.display.Markdown object>"
      ]
     },
     "metadata": {},
     "output_type": "display_data"
    }
   ],
   "source": [
    "response = chatgpt_summary(clinical_trials_context)"
   ]
  },
  {
   "cell_type": "code",
   "execution_count": 9,
   "metadata": {
    "colab": {
     "base_uri": "https://localhost:8080/",
     "height": 832
    },
    "id": "-wGG84DT6sP4",
    "outputId": "972b2b2f-f805-4d2c-8555-a1e72cfa57ae"
   },
   "outputs": [
    {
     "data": {
      "text/markdown": [
       "### Innovative Ideas in Recent Clinical Trials\n",
       "1. **Personalized Chronoprevention**: The trial titled \"Chronoprognosis of Myocardial Infarction in Patients With Type 2 Diabetes Mellitus\" (NCT05645419) introduces the concept of using personalized chronobiofeedback from environmental factors, such as celestial rhythms, to tailor interventions for myocardial infarction. This innovative approach contrasts with traditional methods that focus primarily on pharmacologic interventions alone.\n",
       "  \n",
       "2. **Dapagliflozin in Non-Diabetic Patients**: The trial \"Dapagliflozin Effects on Cardiometabolic Outcomes in Patients With an Acute Heart Attack\" (NCT04564742) tests a drug typically used for diabetes management (SGLT2 inhibitors) in a population without diabetes. This trial seeks to evaluate its effects on heart failure and death, potentially broadening the use of SGLT2 inhibitors beyond conventional diabetes treatment.\n",
       "\n",
       "3. **Colchicine for Myocardial Infarction**: The study examining \"Effect of Colchicine on MMP-9, NOX2, and TGF-β1 in Myocardial Infarct\" (NCT05709509) investigates an anti-inflammatory approach to post-myocardial infarction care. This study aims to redefine management strategies for myocardial infarction by lessening the inflammatory response.\n",
       "  \n",
       "### Hopefulness of the Trials\n",
       "Many trials are showing promising exploratory outcomes, especially the studies involving continuous glucose monitoring (NCT05431296) and novel anti-inflammatory treatments like colchicine (NCT05709509). The concept of using potentially multifactorial approaches (like dapagliflozin) also suggests hopefulness for better cardiovascular outcomes.\n",
       "\n",
       "### Current Recruitment Status\n",
       "Among the trials:\n",
       "- **Recruiting**: The trial \"Glucose Monitoring After Acute Myocardial Infarct in People With Diabetes\" (NCT05431296) is currently recruiting for 160 participants.\n",
       "- **Completed**: Trials like \"Hyperglycemia and Its Effect After Acute Myocardial Infarction on Cardiovascular Outcomes in Patients With Type 2 Diabetes (HEART2D)\" (NCT00191282) have completed.\n",
       "\n",
       "### Specific Questions\n",
       "1. **Which trial has more men registered than women?**\n",
       "   The trial \"Hyperglycemia and Its Effect After Acute Myocardial Infarction on Cardiovascular Outcomes in Patients With Type 2 Diabetes (HEART2D)\" (NCT00191282) has registered significantly more men (356) than women (201).\n",
       "\n",
       "2. **Which trial deals with interventions thought to hold the most number of side effects?**\n",
       "   The trial \"Dapagliflozin Effects on Cardiometabolic Outcomes in Patients With an Acute Heart Attack\" (NCT04564742) involves SGLT2 inhibitors, which are known to have a range of side effects including urinary tract infections and dehydration-related issues.\n",
       "\n",
       "3. **SMILE Strings of Drugs Used in Each Trial**\n",
       "   - **NCT05431296**: Device: Dexcom ONE Continuous Glucose Monitoring System\n",
       "   - **NCT05709509**: Drug: Colchicine\n",
       "   - **NCT00191282**: Drugs include Insulin lispro, Human insulin isophane suspension, Insulin glargine, Human insulin 30/70\n",
       "   - **NCT04564742**: Drug: Dapagliflozin (Forxiga/ Farxiga)\n",
       "   - **NCT01882179**: Drug: Spironolactone\n",
       "   - **NCT04509674**: Drug: Empagliflozin\n",
       "   - **NCT02880436**: No specific drug, observational study.\n",
       "\n",
       "4. **One Learning from the Trials**\n",
       "   One key learning from reviewing these trials is the increasing recognition of non-pharmacological factors, like chronobiology and personalized medicine, in the management and prevention of cardiovascular diseases. This interdisciplinary approach enhances the understanding of how both biological and environmental factors can influence patient outcomes, representing a shift from purely medication-focused treatment paradigms."
      ],
      "text/plain": [
       "<IPython.core.display.Markdown object>"
      ]
     },
     "metadata": {},
     "output_type": "display_data"
    }
   ],
   "source": [
    "question = \"\"\"\n",
    "\n",
    "What are the innovative ideas have been introduced in the clinical trials recently that are quite differentiating from the regular/conventional way\n",
    "of executing clinical trials? Do the trials look hopeful at all? Are any of them still recruiting?\n",
    "\n",
    "Also, answer the following questions please:\n",
    "1) Which trial has more men registered than women?\n",
    "2) Which trial deals with interventions that are generally thought to hold the most number of side affects than the others?\n",
    "3) Can you also please return the SMILE strings of drugs used in each of the trials, if any.\n",
    "4) If there is one thing you learnt from this list of trials that you haven't had an idea of before, what is that one learning?\n",
    "\n",
    "\"\"\"\n",
    "response = chatgpt_ask(clinical_trials_context, question.strip())"
   ]
  },
  {
   "cell_type": "code",
   "execution_count": null,
   "metadata": {
    "id": "ysLrqrLO6sP5"
   },
   "outputs": [],
   "source": []
  }
 ],
 "metadata": {
  "colab": {
   "collapsed_sections": [
    "zC4VECvm7aD_"
   ],
   "provenance": []
  },
  "kernelspec": {
   "display_name": "Python 3",
   "name": "python3"
  },
  "language_info": {
   "codemirror_mode": {
    "name": "ipython",
    "version": 3
   },
   "file_extension": ".py",
   "mimetype": "text/x-python",
   "name": "python",
   "nbconvert_exporter": "python",
   "pygments_lexer": "ipython3",
   "version": "3.8.12"
  }
 },
 "nbformat": 4,
 "nbformat_minor": 0
}
