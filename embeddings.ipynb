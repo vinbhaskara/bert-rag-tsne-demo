{
 "cells": [
  {
   "cell_type": "code",
   "execution_count": 1,
   "metadata": {},
   "outputs": [
    {
     "name": "stderr",
     "output_type": "stream",
     "text": [
      "/Users/vin_bhaskara/miniconda3/envs/pytorch_env/lib/python3.8/site-packages/tqdm/auto.py:21: TqdmWarning: IProgress not found. Please update jupyter and ipywidgets. See https://ipywidgets.readthedocs.io/en/stable/user_install.html\n",
      "  from .autonotebook import tqdm as notebook_tqdm\n"
     ]
    },
    {
     "data": {
      "text/plain": [
       "<torch._C.Generator at 0x116ccd150>"
      ]
     },
     "execution_count": 1,
     "metadata": {},
     "output_type": "execute_result"
    }
   ],
   "source": [
    "import torch\n",
    "from transformers import AutoTokenizer, AutoModel\n",
    "import random\n",
    "import numpy as np\n",
    "from sklearn.manifold import TSNE\n",
    "import umap\n",
    "from sklearn.cluster import KMeans\n",
    "from sklearn.decomposition import PCA\n",
    "import plotly.express as px\n",
    "import pandas as pd\n",
    "import faiss\n",
    "\n",
    "np.random.seed(0)\n",
    "random.seed(0)\n",
    "torch.manual_seed(0)"
   ]
  },
  {
   "cell_type": "code",
   "execution_count": 2,
   "metadata": {},
   "outputs": [],
   "source": [
    "device = \"cpu\"  # \"cuda\""
   ]
  },
  {
   "cell_type": "code",
   "execution_count": 3,
   "metadata": {},
   "outputs": [],
   "source": [
    "pd.set_option(\"display.max_colwidth\", None)"
   ]
  },
  {
   "cell_type": "code",
   "execution_count": 4,
   "metadata": {},
   "outputs": [
    {
     "data": {
      "text/plain": [
       "'\\nReferences:\\n- https://arxiv.org/pdf/1908.10084\\n- https://huggingface.co/sentence-transformers/bert-base-nli-mean-tokens\\n- https://huggingface.co/microsoft/BiomedNLP-BiomedBERT-base-uncased-abstract-fulltext\\n- https://huggingface.co/NeuML/pubmedbert-base-embeddings\\n'"
      ]
     },
     "execution_count": 4,
     "metadata": {},
     "output_type": "execute_result"
    }
   ],
   "source": [
    "\"\"\"\n",
    "References:\n",
    "- https://arxiv.org/pdf/1908.10084\n",
    "- https://huggingface.co/sentence-transformers/bert-base-nli-mean-tokens\n",
    "- https://huggingface.co/microsoft/BiomedNLP-BiomedBERT-base-uncased-abstract-fulltext\n",
    "- https://huggingface.co/NeuML/pubmedbert-base-embeddings\n",
    "\"\"\""
   ]
  },
  {
   "cell_type": "code",
   "execution_count": null,
   "metadata": {},
   "outputs": [],
   "source": [
    "\"\"\"\n",
    "Set options here\n",
    "\"\"\"\n",
    "# encoding_model_str = \"google-bert/bert-base-uncased\"\n",
    "# encoding_model_str = \"sentence-transformers/bert-base-nli-mean-tokens\"\n",
    "# encoding_model_str = \"microsoft/BiomedNLP-BiomedBERT-base-uncased-abstract-fulltext\"\n",
    "# encoding_model_str = \"Lianglab/PharmBERT-uncased\"\n",
    "encoding_model_str = \"NeuML/pubmedbert-base-embeddings\"\n",
    "\n",
    "# text files from the Canadian ADR dB\n",
    "# see: https://www.canada.ca/en/health-canada/services/drugs-health-products/medeffect-canada/adverse-reaction-database/canada-vigilance-online-database-data-extract.html\n",
    "base_dir = \"./\"\n",
    "text_path_dict = {\n",
    "    \"AlternateDrugs\": base_dir + \"AlternateDrugs.csv\",\n",
    "    \"diseases\": base_dir + \"diseases.csv\",\n",
    "    \"drugnames\": base_dir + \"drugnames.csv\",\n",
    "}\n",
    "\n",
    "text_path = text_path_dict[\"diseases\"]  # [\"diseases\"]\n",
    "limit_num_rows_text = 1500"
   ]
  },
  {
   "cell_type": "code",
   "execution_count": 10,
   "metadata": {},
   "outputs": [],
   "source": [
    "with open(text_path, \"r\") as f:\n",
    "    texts = f.readlines()\n",
    "texts = [i.strip().lower() for i in texts[1:]]\n",
    "random.shuffle(texts)\n",
    "texts = texts[:limit_num_rows_text]"
   ]
  },
  {
   "cell_type": "code",
   "execution_count": 11,
   "metadata": {},
   "outputs": [],
   "source": [
    "tokenizer = AutoTokenizer.from_pretrained(encoding_model_str)\n",
    "model = AutoModel.from_pretrained(encoding_model_str)"
   ]
  },
  {
   "cell_type": "code",
   "execution_count": 12,
   "metadata": {},
   "outputs": [],
   "source": [
    "model = model.to(device)"
   ]
  },
  {
   "cell_type": "code",
   "execution_count": 13,
   "metadata": {},
   "outputs": [
    {
     "name": "stderr",
     "output_type": "stream",
     "text": [
      "Asking to truncate to max_length but no maximum length is provided and the model has no predefined maximum length. Default to no truncation.\n"
     ]
    }
   ],
   "source": [
    "encoded_inputs = tokenizer(texts, return_tensors=\"pt\", padding=True, truncation=True)\n",
    "attention_mask = encoded_inputs[\"attention_mask\"][\n",
    "    ..., None\n",
    "]  # handle padding with attention mask"
   ]
  },
  {
   "cell_type": "code",
   "execution_count": 14,
   "metadata": {},
   "outputs": [],
   "source": [
    "batch_size = 16\n",
    "outputs = []\n",
    "for idx in range(0, len(texts), batch_size):\n",
    "    with torch.no_grad():\n",
    "        batched_encoded_inputs = {}\n",
    "        for key_ in encoded_inputs.keys():\n",
    "            batched_encoded_inputs[key_] = encoded_inputs[key_][idx : idx + batch_size]\n",
    "            batched_encoded_inputs[key_] = batched_encoded_inputs[key_].to(device)\n",
    "        output = model(**batched_encoded_inputs)[0]  # get the last hidden state vector\n",
    "        outputs.append(output.detach().cpu())\n",
    "outputs = torch.concat(outputs, dim=0)"
   ]
  },
  {
   "cell_type": "code",
   "execution_count": 15,
   "metadata": {},
   "outputs": [],
   "source": [
    "sentence_embedding = torch.sum(\n",
    "    outputs.to(\"cpu\") * attention_mask.to(\"cpu\"), dim=1\n",
    ") / torch.clamp(torch.sum(attention_mask.to(\"cpu\"), dim=1), min=1e-9)"
   ]
  },
  {
   "cell_type": "code",
   "execution_count": 16,
   "metadata": {},
   "outputs": [
    {
     "data": {
      "text/plain": [
       "tensor([[ 0.0018,  0.1961,  0.4001,  ..., -0.6743,  0.1901, -0.2501],\n",
       "        [ 0.0904, -0.0036,  0.4530,  ...,  0.3199,  0.1284, -0.3126],\n",
       "        [-0.4115,  0.3865, -0.5249,  ..., -0.3305,  0.1948,  0.0268],\n",
       "        ...,\n",
       "        [ 0.3898, -0.1245,  0.1752,  ...,  0.4537,  0.7214,  0.5138],\n",
       "        [ 0.5157,  0.3204, -0.1786,  ...,  0.0685,  0.0088, -0.2578],\n",
       "        [-0.5059,  0.2664, -0.2065,  ..., -0.5653, -0.0713, -0.0543]])"
      ]
     },
     "execution_count": 16,
     "metadata": {},
     "output_type": "execute_result"
    }
   ],
   "source": [
    "sentence_embedding"
   ]
  },
  {
   "cell_type": "code",
   "execution_count": 17,
   "metadata": {},
   "outputs": [
    {
     "data": {
      "text/plain": [
       "torch.Size([1500, 768])"
      ]
     },
     "execution_count": 17,
     "metadata": {},
     "output_type": "execute_result"
    }
   ],
   "source": [
    "sentence_embedding.shape"
   ]
  },
  {
   "cell_type": "code",
   "execution_count": 18,
   "metadata": {},
   "outputs": [],
   "source": [
    "norms = torch.clamp(torch.sqrt(torch.sum(sentence_embedding**2, dim=1)), min=1e-9)[\n",
    "    ..., None\n",
    "]\n",
    "sentence_embedding_normalized = sentence_embedding / norms"
   ]
  },
  {
   "cell_type": "code",
   "execution_count": 19,
   "metadata": {},
   "outputs": [],
   "source": [
    "# visualization\n",
    "# first use PCA\n",
    "pca_components = 50"
   ]
  },
  {
   "cell_type": "code",
   "execution_count": 20,
   "metadata": {},
   "outputs": [],
   "source": [
    "pca = PCA(n_components=pca_components, svd_solver=\"full\")\n",
    "X_pca = pca.fit_transform(sentence_embedding_normalized.numpy())"
   ]
  },
  {
   "cell_type": "code",
   "execution_count": 21,
   "metadata": {},
   "outputs": [
    {
     "name": "stderr",
     "output_type": "stream",
     "text": [
      "/Users/vin_bhaskara/miniconda3/envs/pytorch_env/lib/python3.8/site-packages/umap/umap_.py:1952: UserWarning: n_jobs value 1 overridden to 1 by setting random_state. Use no seed for parallelism.\n",
      "  warn(\n",
      "OMP: Info #276: omp_set_nested routine deprecated, please use omp_set_max_active_levels instead.\n",
      "huggingface/tokenizers: The current process just got forked, after parallelism has already been used. Disabling parallelism to avoid deadlocks...\n",
      "To disable this warning, you can either:\n",
      "\t- Avoid using `tokenizers` before the fork if possible\n",
      "\t- Explicitly set the environment variable TOKENIZERS_PARALLELISM=(true | false)\n"
     ]
    }
   ],
   "source": [
    "# then use UMAP (or tSNE)\n",
    "tsne = umap.UMAP(random_state=42)  # TSNE(n_components=2)\n",
    "X_tsne = tsne.fit_transform(X_pca)"
   ]
  },
  {
   "cell_type": "code",
   "execution_count": 22,
   "metadata": {},
   "outputs": [],
   "source": [
    "X_tsne_pd = pd.DataFrame(X_tsne)\n",
    "X_tsne_pd.columns = [\"tsne_x\", \"tsne_y\"]\n",
    "X_tsne_pd[\"text\"] = texts"
   ]
  },
  {
   "cell_type": "code",
   "execution_count": 23,
   "metadata": {},
   "outputs": [
    {
     "data": {
      "text/html": [
       "<div>\n",
       "<style scoped>\n",
       "    .dataframe tbody tr th:only-of-type {\n",
       "        vertical-align: middle;\n",
       "    }\n",
       "\n",
       "    .dataframe tbody tr th {\n",
       "        vertical-align: top;\n",
       "    }\n",
       "\n",
       "    .dataframe thead th {\n",
       "        text-align: right;\n",
       "    }\n",
       "</style>\n",
       "<table border=\"1\" class=\"dataframe\">\n",
       "  <thead>\n",
       "    <tr style=\"text-align: right;\">\n",
       "      <th></th>\n",
       "      <th>tsne_x</th>\n",
       "      <th>tsne_y</th>\n",
       "      <th>text</th>\n",
       "    </tr>\n",
       "  </thead>\n",
       "  <tbody>\n",
       "    <tr>\n",
       "      <th>0</th>\n",
       "      <td>-1.356653</td>\n",
       "      <td>6.192302</td>\n",
       "      <td>virilism</td>\n",
       "    </tr>\n",
       "    <tr>\n",
       "      <th>1</th>\n",
       "      <td>0.163219</td>\n",
       "      <td>9.104291</td>\n",
       "      <td>still's disease</td>\n",
       "    </tr>\n",
       "    <tr>\n",
       "      <th>2</th>\n",
       "      <td>-2.982886</td>\n",
       "      <td>9.869576</td>\n",
       "      <td>choroid plexus carcinoma</td>\n",
       "    </tr>\n",
       "    <tr>\n",
       "      <th>3</th>\n",
       "      <td>0.041707</td>\n",
       "      <td>8.407229</td>\n",
       "      <td>anaphylactic shock</td>\n",
       "    </tr>\n",
       "    <tr>\n",
       "      <th>4</th>\n",
       "      <td>-1.559760</td>\n",
       "      <td>8.532484</td>\n",
       "      <td>labour pain</td>\n",
       "    </tr>\n",
       "  </tbody>\n",
       "</table>\n",
       "</div>"
      ],
      "text/plain": [
       "     tsne_x    tsne_y                      text\n",
       "0 -1.356653  6.192302                  virilism\n",
       "1  0.163219  9.104291           still's disease\n",
       "2 -2.982886  9.869576  choroid plexus carcinoma\n",
       "3  0.041707  8.407229        anaphylactic shock\n",
       "4 -1.559760  8.532484               labour pain"
      ]
     },
     "execution_count": 23,
     "metadata": {},
     "output_type": "execute_result"
    }
   ],
   "source": [
    "X_tsne_pd.head()"
   ]
  },
  {
   "cell_type": "code",
   "execution_count": 24,
   "metadata": {},
   "outputs": [
    {
     "name": "stderr",
     "output_type": "stream",
     "text": [
      "/Users/vin_bhaskara/miniconda3/envs/pytorch_env/lib/python3.8/site-packages/sklearn/cluster/_kmeans.py:1416: FutureWarning: The default value of `n_init` will change from 10 to 'auto' in 1.4. Set the value of `n_init` explicitly to suppress the warning\n",
      "  super()._check_params_vs_input(X, default_n_init=10)\n",
      "huggingface/tokenizers: The current process just got forked, after parallelism has already been used. Disabling parallelism to avoid deadlocks...\n",
      "To disable this warning, you can either:\n",
      "\t- Avoid using `tokenizers` before the fork if possible\n",
      "\t- Explicitly set the environment variable TOKENIZERS_PARALLELISM=(true | false)\n"
     ]
    },
    {
     "data": {
      "text/plain": [
       "(1500,)"
      ]
     },
     "execution_count": 24,
     "metadata": {},
     "output_type": "execute_result"
    }
   ],
   "source": [
    "# K-means clustering to visualize the closest neighbors in the full embedding dimensions (not just reduced dims)\n",
    "n_clusters = 50  # better to oversegment than undersegment! choose a number slightly more than expected\n",
    "\n",
    "kmeans = KMeans(n_clusters=n_clusters, random_state=42)\n",
    "kmeans_classes = kmeans.fit_predict(sentence_embedding_normalized.numpy())\n",
    "X_tsne_pd[\"KMeans_classes\"] = kmeans_classes\n",
    "kmeans_classes.shape"
   ]
  },
  {
   "cell_type": "code",
   "execution_count": 25,
   "metadata": {},
   "outputs": [
    {
     "data": {
      "application/vnd.plotly.v1+json": {
       "config": {
        "plotlyServerURL": "https://plot.ly"
       },
       "data": [
        {
         "customdata": [
          [
           "virilism"
          ],
          [
           "still's disease"
          ],
          [
           "choroid plexus carcinoma"
          ],
          [
           "anaphylactic shock"
          ],
          [
           "labour pain"
          ],
          [
           "prostatic operation"
          ],
          [
           "cervix cerclage procedure"
          ],
          [
           "choking"
          ],
          [
           "colitis ulcerative"
          ],
          [
           "post procedural diarrhoea"
          ],
          [
           "t-cell type acute leukaemia"
          ],
          [
           "enterococcal infection"
          ],
          [
           "intervertebral disc injury"
          ],
          [
           "allergic cough"
          ],
          [
           "porphyria non-acute"
          ],
          [
           "dermatitis atopic"
          ],
          [
           "rhonchi"
          ],
          [
           "oral candidiasis"
          ],
          [
           "malignant melanoma stage iv"
          ],
          [
           "orbital oedema"
          ],
          [
           "conjunctivitis"
          ],
          [
           "cholesteatoma"
          ],
          [
           "thyroid function test abnormal"
          ],
          [
           "intentional self-injury"
          ],
          [
           "thirst"
          ],
          [
           "menstruation irregular"
          ],
          [
           "carcinoid tumour of the liver"
          ],
          [
           "hepatitis a immunisation"
          ],
          [
           "ischaemic skin ulcer"
          ],
          [
           "c1q nephropathy"
          ],
          [
           "endocrinopathy diencephalic"
          ],
          [
           "anal pruritus"
          ],
          [
           "nasal sinus cancer"
          ],
          [
           "motor dysfunction"
          ],
          [
           "acute leukaemia"
          ],
          [
           "discomfort"
          ],
          [
           "nasal injury"
          ],
          [
           "non-small cell lung cancer stage 0"
          ],
          [
           "ejection fraction decreased"
          ],
          [
           "female genital tract tuberculosis"
          ],
          [
           "pulmonary hypertension"
          ],
          [
           "pseudomonas bronchitis"
          ],
          [
           "chest x-ray"
          ],
          [
           "vasculitic ulcer"
          ],
          [
           "thoracic outlet syndrome"
          ],
          [
           "ovarian germ cell endodermal sinus tumour"
          ],
          [
           "hereditary haemorrhagic telangiectasia"
          ],
          [
           "hepatitis c core antibody"
          ],
          [
           "psychomotor hyperactivity"
          ],
          [
           "antacid therapy"
          ],
          [
           "dysstasia"
          ],
          [
           "mammoplasty"
          ],
          [
           "blood thyroid stimulating hormone"
          ],
          [
           "metastases to thyroid"
          ],
          [
           "periorbital cellulitis"
          ],
          [
           "neovascular age-related macular degeneration"
          ],
          [
           "graft versus host disease in skin"
          ],
          [
           "asthma-chronic obstructive pulmonary disease overlap syndrome"
          ],
          [
           "injection site pain"
          ],
          [
           "myelitis transverse"
          ],
          [
           "catheterisation cardiac"
          ],
          [
           "kidney contusion"
          ],
          [
           "head discomfort"
          ],
          [
           "gait inability"
          ],
          [
           "vitreoretinal traction syndrome"
          ],
          [
           "olfacto genital dysplasia"
          ],
          [
           "lesion excision"
          ],
          [
           "burkitt's lymphoma stage iii"
          ],
          [
           "angina unstable"
          ],
          [
           "cns ventriculitis"
          ],
          [
           "diverticulitis"
          ],
          [
           "neuroblastoma"
          ],
          [
           "spinal cord injury lumbar"
          ],
          [
           "dermatofibrosarcoma protuberans"
          ],
          [
           "intelligence increased"
          ],
          [
           "protein deficiency"
          ],
          [
           "tracheitis"
          ],
          [
           "keratitis"
          ],
          [
           "seminoma"
          ],
          [
           "ophthalmic herpes zoster"
          ],
          [
           "ataxia"
          ],
          [
           "benign ovarian tumour"
          ],
          [
           "nephroangiosclerosis"
          ],
          [
           "walking disability"
          ],
          [
           "endometrial cancer metastatic"
          ],
          [
           "hyper igd syndrome"
          ],
          [
           "iron overload"
          ],
          [
           "pregnancy"
          ],
          [
           "myasthenic syndrome"
          ],
          [
           "hepatic mass"
          ],
          [
           "burning feet syndrome"
          ],
          [
           "bone deformity"
          ],
          [
           "syncope"
          ],
          [
           "blood immunoglobulin g decreased"
          ],
          [
           "disturbance in social behaviour"
          ],
          [
           "hepatitis cholestatic"
          ],
          [
           "myofascial pain syndrome"
          ],
          [
           "gastroplasty"
          ],
          [
           "pernicious anaemia"
          ],
          [
           "memory impairment"
          ],
          [
           "stoma care"
          ],
          [
           "anal inflammation"
          ],
          [
           "muscle injury"
          ],
          [
           "pancreas infection"
          ],
          [
           "seizure cluster"
          ],
          [
           "psychological trauma"
          ],
          [
           "vertebral foraminal stenosis"
          ],
          [
           "atopic keratoconjunctivitis"
          ],
          [
           "heritable pulmonary arterial hypertension"
          ],
          [
           "blood phosphorus decreased"
          ],
          [
           "vascular stenosis"
          ],
          [
           "congenital hyperinsulinaemic hypoglycaemia"
          ],
          [
           "ultrasound chest"
          ],
          [
           "oesophageal adenocarcinoma stage iv"
          ],
          [
           "acquired amegakaryocytic thrombocytopenia"
          ],
          [
           "heart transplant"
          ],
          [
           "tachyarrhythmia"
          ],
          [
           "csf pressure abnormal"
          ],
          [
           "butterfly rash"
          ],
          [
           "viral load"
          ],
          [
           "single photon emission computerised tomogram"
          ],
          [
           "vascular device user"
          ],
          [
           "nerve root injury"
          ],
          [
           "endodontic procedure"
          ],
          [
           "spinal myelogram"
          ],
          [
           "pemphigoid"
          ],
          [
           "eructation"
          ],
          [
           "acute leukaemia in remission"
          ],
          [
           "oropharyngeal cancer stage iv"
          ],
          [
           "diffuse large b-cell lymphoma stage iii"
          ],
          [
           "general anaesthesia"
          ],
          [
           "stress fracture"
          ],
          [
           "blood lactate dehydrogenase decreased"
          ],
          [
           "breast feeding"
          ],
          [
           "musculoskeletal stiffness"
          ],
          [
           "antineutrophil cytoplasmic antibody negative"
          ],
          [
           "thyroid hormone replacement therapy"
          ],
          [
           "aborted pregnancy"
          ],
          [
           "fusobacterium infection"
          ],
          [
           "sleep disorder due to a general medical condition"
          ],
          [
           "penile infection"
          ],
          [
           "stent malfunction"
          ],
          [
           "hypersplenism"
          ],
          [
           "viral rash"
          ],
          [
           "diverticular perforation"
          ],
          [
           "pityriasis rubra pilaris"
          ],
          [
           "peripheral t-cell lymphoma unspecified"
          ],
          [
           "lipid metabolism disorder"
          ],
          [
           "osteomyelitis bacterial"
          ],
          [
           "cervix carcinoma"
          ],
          [
           "venogram"
          ],
          [
           "application site swelling"
          ],
          [
           "schizoaffective disorder bipolar type"
          ],
          [
           "decreased interest"
          ],
          [
           "ischaemia"
          ],
          [
           "hyperinsulinaemic hypoglycaemia"
          ],
          [
           "hypertrophy"
          ],
          [
           "gait disturbance"
          ],
          [
           "adjuvant therapy"
          ],
          [
           "alopecia areata"
          ],
          [
           "presyncope"
          ],
          [
           "multicentric reticulohistiocytosis"
          ],
          [
           "pilonidal sinus repair"
          ],
          [
           "clostridial sepsis"
          ],
          [
           "macular hole"
          ],
          [
           "cutaneous leishmaniasis"
          ],
          [
           "infection in an immunocompromised host"
          ],
          [
           "pustule"
          ],
          [
           "\"delusional disorder, grandiose type\""
          ],
          [
           "breast enlargement"
          ],
          [
           "nasal septum deviation"
          ],
          [
           "cor pulmonale chronic"
          ],
          [
           "uterine cyst"
          ],
          [
           "colon cancer stage ii"
          ],
          [
           "metastatic cutaneous crohn's disease"
          ],
          [
           "peritoneal cloudy effluent"
          ],
          [
           "primary hyperoxaluria"
          ],
          [
           "abscess soft tissue"
          ],
          [
           "incorrect dose administered"
          ],
          [
           "norovirus test positive"
          ],
          [
           "tourette's disorder"
          ],
          [
           "graft thrombosis"
          ],
          [
           "cold agglutinins"
          ],
          [
           "herpes gestationis"
          ],
          [
           "impaired gastric emptying"
          ],
          [
           "central nervous system stimulation"
          ],
          [
           "astrocytoma"
          ],
          [
           "ejection fraction"
          ],
          [
           "plasmablastic lymphoma"
          ],
          [
           "toxic cardiomyopathy"
          ],
          [
           "product administration error"
          ],
          [
           "milia"
          ],
          [
           "puberty"
          ],
          [
           "post stroke seizure"
          ],
          [
           "giant cell arteritis"
          ],
          [
           "female reproductive tract disorder"
          ],
          [
           "idiopathic pulmonary fibrosis"
          ],
          [
           "spleen procedural complication"
          ],
          [
           "coeliac disease"
          ],
          [
           "adjustment disorder with depressed mood"
          ],
          [
           "periorbital pain"
          ],
          [
           "blood magnesium decreased"
          ],
          [
           "paranasal sinus mass"
          ],
          [
           "transitional cell carcinoma metastatic"
          ],
          [
           "cholangiocarcinoma"
          ],
          [
           "granulicatella infection"
          ],
          [
           "goitre"
          ],
          [
           "product prescribing error"
          ],
          [
           "langerhans' cell histiocytosis"
          ],
          [
           "toxicity to various agents"
          ],
          [
           "erythromelalgia"
          ],
          [
           "cytokine storm"
          ],
          [
           "neurofibroma"
          ],
          [
           "intentional overdose"
          ],
          [
           "androgen therapy"
          ],
          [
           "excessive masturbation"
          ],
          [
           "aortic valve repair"
          ],
          [
           "oral surgery"
          ],
          [
           "b-cell type acute leukaemia"
          ],
          [
           "von hippel-lindau disease"
          ],
          [
           "encapsulating peritoneal sclerosis"
          ],
          [
           "back disorder"
          ],
          [
           "chorioretinal disorder"
          ],
          [
           "pulmonary toxicity"
          ],
          [
           "disorder of orbit"
          ],
          [
           "hypophosphataemia"
          ],
          [
           "hepatic angiosarcoma"
          ],
          [
           "protein s deficiency"
          ],
          [
           "fat tissue decreased"
          ],
          [
           "bruxism"
          ],
          [
           "anti-thyroid antibody positive"
          ],
          [
           "computerised tomogram abnormal"
          ],
          [
           "spermatocele"
          ],
          [
           "diabetic ketoacidosis"
          ],
          [
           "polypoidal choroidal vasculopathy"
          ],
          [
           "splenomegaly"
          ],
          [
           "abdominal discomfort"
          ],
          [
           "systemic lupus erythematosus"
          ],
          [
           "onycholysis"
          ],
          [
           "breast cancer metastatic"
          ],
          [
           "pancreatitis chronic"
          ],
          [
           "schizophreniform disorder"
          ],
          [
           "arthrogram"
          ],
          [
           "pneumonia respiratory syncytial viral"
          ],
          [
           "arteriospasm coronary"
          ],
          [
           "hip arthroplasty"
          ],
          [
           "cardiac electrophysiologic study"
          ],
          [
           "splenic thrombosis"
          ],
          [
           "eye discharge"
          ],
          [
           "bladder cancer stage iv"
          ],
          [
           "coccidioidomycosis"
          ],
          [
           "ocular myasthenia"
          ],
          [
           "small intestine transplant"
          ],
          [
           "mesothelioma malignant"
          ],
          [
           "eye infection staphylococcal"
          ],
          [
           "lymphodepletion"
          ],
          [
           "precursor b-lymphoblastic lymphoma refractory"
          ],
          [
           "q fever"
          ],
          [
           "endocrine neoplasm malignant"
          ],
          [
           "alcoholic seizure"
          ],
          [
           "nasal cavity mass"
          ],
          [
           "miller fisher syndrome"
          ],
          [
           "vulvovaginal burning sensation"
          ],
          [
           "sterile pyuria"
          ],
          [
           "iodine uptake abnormal"
          ],
          [
           "plasma protein metabolism disorder"
          ],
          [
           "pelvic fracture"
          ],
          [
           "hypoglycaemia neonatal"
          ],
          [
           "therapeutic embolisation"
          ],
          [
           "gastrinoma"
          ],
          [
           "throat clearing"
          ],
          [
           "throat tightness"
          ],
          [
           "gastric hypomotility"
          ],
          [
           "tongue disorder"
          ],
          [
           "gastrointestinal disorder therapy"
          ],
          [
           "lactation puerperal increased"
          ],
          [
           "ex-tobacco user"
          ],
          [
           "blindness unilateral"
          ],
          [
           "chest injury"
          ],
          [
           "blood glucose decreased"
          ],
          [
           "flashback"
          ],
          [
           "ulnar nerve injury"
          ],
          [
           "myoclonus"
          ],
          [
           "lactose intolerance"
          ],
          [
           "somatic delusion"
          ],
          [
           "biliary tract disorder"
          ],
          [
           "infantile spasms"
          ],
          [
           "anaphylaxis treatment"
          ],
          [
           "haemorrhoidal haemorrhage"
          ],
          [
           "metastases to central nervous system"
          ],
          [
           "organ failure"
          ],
          [
           "opiates"
          ],
          [
           "adenomatous polyposis coli"
          ],
          [
           "superficial vein thrombosis"
          ],
          [
           "paraplegia"
          ],
          [
           "hepatoblastoma"
          ],
          [
           "axillary pain"
          ],
          [
           "subacute cutaneous lupus erythematosus"
          ],
          [
           "chapped lips"
          ],
          [
           "paraneoplastic retinopathy"
          ],
          [
           "ectopic pregnancy termination"
          ],
          [
           "cerebral vasoconstriction"
          ],
          [
           "leiomyosarcoma recurrent"
          ],
          [
           "perihepatitis"
          ],
          [
           "papilloedema"
          ],
          [
           "enterobacter bacteraemia"
          ],
          [
           "rectal cancer stage iv"
          ],
          [
           "cervix disorder"
          ],
          [
           "vaginal prolapse"
          ],
          [
           "premature ejaculation"
          ],
          [
           "sacroiliitis"
          ],
          [
           "oropharyngeal candidiasis"
          ],
          [
           "intraventricular haemorrhage"
          ],
          [
           "paraneoplastic encephalomyelitis"
          ],
          [
           "retinal occlusive vasculitis"
          ],
          [
           "hyperthyroidism"
          ],
          [
           "acid peptic disease"
          ],
          [
           "blood pressure increased"
          ],
          [
           "pseudoxanthoma elasticum-like syndrome"
          ],
          [
           "bone neoplasm"
          ],
          [
           "anti-glomerular basement membrane antibody positive"
          ],
          [
           "hiv infection"
          ],
          [
           "spasmodic dysphonia"
          ],
          [
           "psychiatric symptom"
          ],
          [
           "carcinoma in situ of skin"
          ],
          [
           "haemorrhage subcutaneous"
          ],
          [
           "low density lipoprotein decreased"
          ],
          [
           "ex-drug abuser"
          ],
          [
           "cyst rupture"
          ],
          [
           "inferior vena caval occlusion"
          ],
          [
           "blood viscosity increased"
          ],
          [
           "hepatosplenic t-cell lymphoma"
          ],
          [
           "endometrial atrophy"
          ],
          [
           "abnormal dreams"
          ],
          [
           "arthritis enteropathic"
          ],
          [
           "pyruvate kinase decreased"
          ],
          [
           "wolff-parkinson-white syndrome"
          ],
          [
           "tracheobronchitis"
          ],
          [
           "ovarian dysgerminoma stage unspecified"
          ],
          [
           "urinary tract infection"
          ],
          [
           "arthritis infective"
          ],
          [
           "serial transverse enteroplasty"
          ],
          [
           "eczema infected"
          ],
          [
           "nodal arrhythmia"
          ],
          [
           "decreased ventricular afterload"
          ],
          [
           "metastases to liver"
          ],
          [
           "pituitary-dependent cushing's syndrome"
          ],
          [
           "primary immunodeficiency syndrome"
          ],
          [
           "chondrosarcoma"
          ],
          [
           "abscess rupture"
          ],
          [
           "faecal management"
          ],
          [
           "foot fracture"
          ],
          [
           "bunion operation"
          ],
          [
           "hyperparathyroidism tertiary"
          ],
          [
           "rhinitis"
          ],
          [
           "urinary tract obstruction"
          ],
          [
           "tri-iodothyronine decreased"
          ],
          [
           "platelet function test abnormal"
          ],
          [
           "lung disorder"
          ],
          [
           "burns second degree"
          ],
          [
           "computerised tomogram kidney"
          ],
          [
           "vulvovaginal dryness"
          ],
          [
           "autologous haematopoietic stem cell transplant"
          ],
          [
           "radioimmunotherapy"
          ],
          [
           "renal cancer recurrent"
          ],
          [
           "developmental delay"
          ],
          [
           "nephropathy toxic"
          ],
          [
           "nasal obstruction"
          ],
          [
           "metastatic carcinoma of the bladder"
          ],
          [
           "laryngeal papilloma"
          ],
          [
           "adenocarcinoma of colon"
          ],
          [
           "hereditary leiomyomatosis renal cell carcinoma"
          ],
          [
           "priapism"
          ],
          [
           "escherichia test"
          ],
          [
           "computerised tomogram neck"
          ],
          [
           "skin atrophy"
          ],
          [
           "protein total"
          ],
          [
           "hypoventilation"
          ],
          [
           "colonoscopy"
          ],
          [
           "papilloma excision"
          ],
          [
           "neurodegenerative disorder"
          ],
          [
           "galactorrhoea"
          ],
          [
           "systemic sclerosis pulmonary"
          ],
          [
           "factor x deficiency"
          ],
          [
           "sexually transmitted disease"
          ],
          [
           "amaurosis fugax"
          ],
          [
           "anti-melanoma differentiation-associated protein 5 antibody positive"
          ],
          [
           "hypogonadism male"
          ],
          [
           "pancreatectomy"
          ],
          [
           "arthroscopy"
          ],
          [
           "burnout syndrome"
          ],
          [
           "myopia"
          ],
          [
           "phlebitis infective"
          ],
          [
           "pulmonary tuberculosis"
          ],
          [
           "angioplasty"
          ],
          [
           "platelet count abnormal"
          ],
          [
           "hepatitis a"
          ],
          [
           "blood insulin"
          ],
          [
           "medication dilution"
          ],
          [
           "skin cosmetic procedure"
          ],
          [
           "androgens abnormal"
          ],
          [
           "vulvar adenocarcinoma"
          ],
          [
           "physiotherapy"
          ],
          [
           "throat irritation"
          ],
          [
           "arteriosclerosis"
          ],
          [
           "wrong product administered"
          ],
          [
           "exposure via breast milk"
          ],
          [
           "oral discomfort"
          ],
          [
           "lupus nephritis"
          ],
          [
           "injury associated with device"
          ],
          [
           "escherichia infection"
          ],
          [
           "cyanosis"
          ],
          [
           "stenotrophomonas infection"
          ],
          [
           "lactation stimulation therapy"
          ],
          [
           "chronic lymphocytic inflammation with pontine perivascular enhancement responsive to steroids"
          ],
          [
           "pure white cell aplasia"
          ],
          [
           "incision site abscess"
          ],
          [
           "male orgasmic disorder"
          ],
          [
           "multiple allergies"
          ],
          [
           "hormone therapy"
          ],
          [
           "regurgitation"
          ],
          [
           "spinal cord injury"
          ],
          [
           "fracture reduction"
          ],
          [
           "inflammation"
          ],
          [
           "b-cell lymphoma stage iv"
          ],
          [
           "oral neoplasm"
          ],
          [
           "gaucher's disease type i"
          ],
          [
           "spinal cord disorder"
          ],
          [
           "molluscum contagiosum"
          ],
          [
           "senile osteoporosis"
          ],
          [
           "paranoia"
          ],
          [
           "erythema annulare"
          ],
          [
           "central nervous system injury"
          ],
          [
           "melaena"
          ],
          [
           "eosinophilia"
          ],
          [
           "hydrometra"
          ],
          [
           "nephrolithiasis"
          ],
          [
           "gastrointestinal angiodysplasia"
          ],
          [
           "knee operation"
          ],
          [
           "myeloma cast nephropathy"
          ],
          [
           "fibrosis"
          ],
          [
           "immunoglobulin therapy"
          ],
          [
           "muscle mass"
          ],
          [
           "hyperornithinaemia-hyperammonaemia-homocitrullinuria syndrome"
          ],
          [
           "weight gain poor"
          ],
          [
           "myocardial ischaemia"
          ],
          [
           "arteriosclerosis coronary artery"
          ],
          [
           "brachioradial pruritus"
          ],
          [
           "intraocular pressure test"
          ],
          [
           "animal bite"
          ],
          [
           "lymphocyte count decreased"
          ],
          [
           "toxoplasmosis prophylaxis"
          ],
          [
           "lung cancer metastatic"
          ],
          [
           "salivary gland cancer"
          ],
          [
           "autoimmune myositis"
          ],
          [
           "carotid artery aneurysm"
          ],
          [
           "ephelides"
          ],
          [
           "allergy to metals"
          ],
          [
           "renal mass"
          ],
          [
           "injection site discolouration"
          ],
          [
           "uterine hypertonus"
          ],
          [
           "rash erythematous"
          ],
          [
           "trans-sexualism"
          ],
          [
           "enlarged uvula"
          ],
          [
           "cataract operation complication"
          ],
          [
           "male sexual dysfunction"
          ],
          [
           "diabetes mellitus management"
          ],
          [
           "lipids abnormal"
          ],
          [
           "immunodeficiency common variable"
          ],
          [
           "cytomegalovirus viraemia"
          ],
          [
           "vasoconstriction"
          ],
          [
           "chronic hepatitis c"
          ],
          [
           "cholelithiasis"
          ],
          [
           "intestinal transit time abnormal"
          ],
          [
           "assisted reproductive technology"
          ],
          [
           "large intestine polyp"
          ],
          [
           "haemofiltration"
          ],
          [
           "perioral dermatitis"
          ],
          [
           "exfoliation glaucoma"
          ],
          [
           "meningitis haemophilus"
          ],
          [
           "social (pragmatic) communication disorder"
          ],
          [
           "calcification of muscle"
          ],
          [
           "flushing"
          ],
          [
           "cytomegalovirus test"
          ],
          [
           "growth hormone-producing pituitary tumour"
          ],
          [
           "foetal chromosome abnormality"
          ],
          [
           "metastases to gastrointestinal tract"
          ],
          [
           "non-hodgkin's lymphoma unspecified histology indolent stage i"
          ],
          [
           "oesophageal ulcer"
          ],
          [
           "congenital hypogammaglobulinaemia"
          ],
          [
           "ear disorder"
          ],
          [
           "encephalitis autoimmune"
          ],
          [
           "regional chemotherapy"
          ],
          [
           "oesophageal carcinoma"
          ],
          [
           "c-reactive protein abnormal"
          ],
          [
           "gaucher's disease type iii"
          ],
          [
           "infective tenosynovitis"
          ],
          [
           "nasal discharge discolouration"
          ],
          [
           "interleukin therapy"
          ],
          [
           "occult blood"
          ],
          [
           "preoperative care"
          ],
          [
           "skin cancer metastatic"
          ],
          [
           "renal and pancreas transplant"
          ],
          [
           "camptocormia"
          ],
          [
           "myxoid liposarcoma"
          ],
          [
           "gastrointestinal surgery"
          ],
          [
           "bacterial sepsis"
          ],
          [
           "carcinoid tumour of the small bowel"
          ],
          [
           "fluid balance assessment"
          ],
          [
           "ovarian sertoli-leydig cell tumour"
          ],
          [
           "occipital neuralgia"
          ],
          [
           "ovarian germ cell cancer"
          ],
          [
           "genital disorder"
          ],
          [
           "pancreatic fistula"
          ],
          [
           "proctocolectomy"
          ],
          [
           "delayed recovery from anaesthesia"
          ],
          [
           "pleural disorder"
          ],
          [
           "mantle cell lymphoma"
          ],
          [
           "osteoporosis prophylaxis"
          ],
          [
           "myocarditis"
          ],
          [
           "benign neoplasm of prostate"
          ],
          [
           "intracranial mass"
          ],
          [
           "international normalised ratio increased"
          ],
          [
           "gallbladder abscess"
          ],
          [
           "mood swings"
          ],
          [
           "osteopetrosis"
          ],
          [
           "blood stem cell harvest"
          ],
          [
           "uterine adhesions"
          ],
          [
           "gingival swelling"
          ],
          [
           "breast disorder"
          ],
          [
           "occupational exposure to toxic agent"
          ],
          [
           "haemoglobin increased"
          ],
          [
           "multiple-drug resistance"
          ],
          [
           "blister infected"
          ],
          [
           "wheezing"
          ],
          [
           "incisional drainage"
          ],
          [
           "therapeutic product effect incomplete"
          ],
          [
           "vasculitis"
          ],
          [
           "hepatic candidiasis"
          ],
          [
           "intestinal perforation"
          ],
          [
           "white blood cell count"
          ],
          [
           "application site erythema"
          ],
          [
           "basal cell naevus syndrome"
          ],
          [
           "lip cosmetic procedure"
          ],
          [
           "adenomyosis"
          ],
          [
           "papilloma viral infection"
          ],
          [
           "blastic plasmacytoid dendritic cell neoplasia"
          ],
          [
           "injection site cellulitis"
          ],
          [
           "lung adenocarcinoma stage iii"
          ],
          [
           "volvulus"
          ],
          [
           "product intolerance"
          ],
          [
           "non-hodgkin's lymphoma unspecified histology indolent"
          ],
          [
           "dermatophytosis of nail"
          ],
          [
           "tooth disorder"
          ],
          [
           "muscle twitching"
          ],
          [
           "tendon sheath incision"
          ],
          [
           "glomerulonephritis membranous"
          ],
          [
           "hypopnoea"
          ],
          [
           "colon cancer"
          ],
          [
           "computerised tomogram intestine"
          ],
          [
           "post procedural haematoma"
          ],
          [
           "crepitations"
          ],
          [
           "squamous cell carcinoma of pharynx"
          ],
          [
           "angiopathy"
          ],
          [
           "loss of libido"
          ],
          [
           "irregular sleep wake rhythm disorder"
          ],
          [
           "renin-angiotensin system inhibition"
          ],
          [
           "activated partial thromboplastin time prolonged"
          ],
          [
           "metastasis"
          ],
          [
           "lacrimation increased"
          ],
          [
           "encephalitis viral"
          ],
          [
           "dopamine dysregulation syndrome"
          ],
          [
           "complications of transplanted lung"
          ],
          [
           "tricuspid valve replacement"
          ],
          [
           "pneumonia serratia"
          ],
          [
           "coagulation factor viii level increased"
          ],
          [
           "dupuytren's contracture"
          ],
          [
           "phobia"
          ],
          [
           "amyotrophic lateral sclerosis"
          ],
          [
           "swollen tongue"
          ],
          [
           "infarction"
          ],
          [
           "meningioma malignant"
          ],
          [
           "neoplasm of appendix"
          ],
          [
           "retinal haemorrhage"
          ],
          [
           "erythrodermic atopic dermatitis"
          ],
          [
           "janus kinase 2 mutation"
          ],
          [
           "chromophobe renal cell carcinoma"
          ],
          [
           "familial risk factor"
          ],
          [
           "tooth erosion"
          ],
          [
           "antinuclear antibody negative"
          ],
          [
           "meningococcal infection"
          ],
          [
           "cerebral cavernous malformation"
          ],
          [
           "idiopathic generalised epilepsy"
          ],
          [
           "anti-hla antibody test positive"
          ],
          [
           "cardiac sarcoidosis"
          ],
          [
           "precursor t-lymphoblastic leukaemia acute"
          ],
          [
           "blood glucose fluctuation"
          ],
          [
           "alloimmunisation"
          ],
          [
           "meralgia paraesthetica"
          ],
          [
           "allogenic bone marrow transplantation therapy"
          ],
          [
           "micturition disorder"
          ],
          [
           "wound secretion"
          ],
          [
           "persecutory delusion"
          ],
          [
           "glanzmann's disease"
          ],
          [
           "acute hiv infection"
          ],
          [
           "thoracic vertebral fracture"
          ],
          [
           "intracranial pressure increased"
          ],
          [
           "tendon pain"
          ],
          [
           "cyst"
          ],
          [
           "dysphagia"
          ],
          [
           "testicular seminoma (pure) stage ii"
          ],
          [
           "turner's syndrome"
          ],
          [
           "cytokine release syndrome"
          ],
          [
           "hysterosalpingogram"
          ],
          [
           "blood lead"
          ],
          [
           "libido decreased"
          ],
          [
           "blood osmolarity"
          ],
          [
           "non-small cell lung cancer stage iiia"
          ],
          [
           "sinus cancer metastatic"
          ],
          [
           "magnetic resonance imaging renal"
          ],
          [
           "pulmonary imaging procedure"
          ],
          [
           "delusion"
          ],
          [
           "blood thrombin"
          ],
          [
           "ventricular extrasystoles"
          ],
          [
           "diffuse large b-cell lymphoma stage i"
          ],
          [
           "international normalised ratio fluctuation"
          ],
          [
           "bursitis"
          ],
          [
           "pharyngeal abscess"
          ],
          [
           "respiratory tract infection bacterial"
          ],
          [
           "congenital cytomegalovirus infection"
          ],
          [
           "pancreatic leak"
          ],
          [
           "hypoaesthesia"
          ],
          [
           "gastroenteritis norovirus"
          ],
          [
           "thyroid mass"
          ],
          [
           "transferrin abnormal"
          ],
          [
           "bladder transitional cell carcinoma"
          ],
          [
           "kinesitherapy"
          ],
          [
           "toxic epidermal necrolysis"
          ],
          [
           "dysphoria"
          ],
          [
           "vestibular migraine"
          ],
          [
           "bladder irritation"
          ],
          [
           "bone lesion"
          ],
          [
           "breast prosthesis user"
          ],
          [
           "intestinal anastomosis"
          ],
          [
           "haemangiopericytoma"
          ],
          [
           "dysphonia"
          ],
          [
           "eyelid function disorder"
          ],
          [
           "influenza"
          ],
          [
           "hyperphagia"
          ],
          [
           "joint capsule rupture"
          ],
          [
           "bronchial obstruction"
          ],
          [
           "type 1 diabetes mellitus"
          ],
          [
           "pulmonary thrombosis"
          ],
          [
           "sleep disorder"
          ],
          [
           "pancreas transplant rejection"
          ],
          [
           "ultrasound scan"
          ],
          [
           "rheumatic heart disease"
          ],
          [
           "pneumococcal sepsis"
          ],
          [
           "diabetic gastroenteropathy"
          ],
          [
           "pulmonary embolism"
          ],
          [
           "metastases to lymph nodes"
          ],
          [
           "paraneoplastic neurological syndrome"
          ],
          [
           "medical device site infection"
          ],
          [
           "peptostreptococcus infection"
          ],
          [
           "neck pain"
          ],
          [
           "synovial cyst"
          ],
          [
           "lymphangiogram"
          ],
          [
           "alopecia"
          ],
          [
           "wound treatment"
          ],
          [
           "high density lipoprotein increased"
          ],
          [
           "behavioural therapy"
          ],
          [
           "tachyphrenia"
          ],
          [
           "ventricular arrhythmia"
          ],
          [
           "liposuction"
          ],
          [
           "gitelman's syndrome"
          ],
          [
           "cervix carcinoma stage iv"
          ],
          [
           "hepatic sarcoma"
          ],
          [
           "lung consolidation"
          ],
          [
           "blood phosphorus"
          ],
          [
           "ankle operation"
          ],
          [
           "gallbladder adenocarcinoma"
          ],
          [
           "antibody test positive"
          ],
          [
           "paraparesis"
          ],
          [
           "laryngeal granuloma"
          ],
          [
           "fatigue"
          ],
          [
           "endocrine ophthalmopathy"
          ],
          [
           "atypical pneumonia"
          ],
          [
           "blood magnesium"
          ],
          [
           "encephalitis meningococcal"
          ],
          [
           "pelvic floor muscle weakness"
          ],
          [
           "postoperative care"
          ],
          [
           "obstetrical procedure"
          ],
          [
           "prostate cancer stage iv"
          ],
          [
           "parapharyngeal space infection"
          ],
          [
           "erythrodermic psoriasis"
          ],
          [
           "perioperative analgesia"
          ],
          [
           "urticarial dermatitis"
          ],
          [
           "dental caries"
          ],
          [
           "hepatitis immunisation"
          ],
          [
           "small cell carcinoma"
          ],
          [
           "ankylosing spondylitis"
          ],
          [
           "infective pulmonary exacerbation of cystic fibrosis"
          ],
          [
           "cytokine increased"
          ],
          [
           "transplant"
          ],
          [
           "osteopenia"
          ],
          [
           "toxic shock syndrome streptococcal"
          ],
          [
           "urosepsis"
          ],
          [
           "reflexes abnormal"
          ],
          [
           "mucopolysaccharidosis iii"
          ],
          [
           "oral pruritus"
          ],
          [
           "cerebrospinal fluid leakage"
          ],
          [
           "complement factor c4 decreased"
          ],
          [
           "trisomy 21"
          ],
          [
           "psychiatric care"
          ],
          [
           "kyphosis"
          ],
          [
           "joint dislocation"
          ],
          [
           "eagle barrett syndrome"
          ],
          [
           "vitamin a deficiency"
          ],
          [
           "heart transplant rejection"
          ],
          [
           "immune-mediated neuropathy"
          ],
          [
           "nonkeratinising carcinoma of nasopharynx"
          ],
          [
           "parotid gland enlargement"
          ],
          [
           "gastrointestinal tube insertion"
          ],
          [
           "metabolic surgery"
          ],
          [
           "meningococcal immunisation"
          ],
          [
           "cycloplegia"
          ],
          [
           "cystadenocarcinoma pancreas"
          ],
          [
           "coma"
          ],
          [
           "atrophy"
          ],
          [
           "extra dose administered"
          ],
          [
           "pulmonary artery aneurysm"
          ],
          [
           "prophylaxis against hiv infection"
          ],
          [
           "hypophosphatasia"
          ],
          [
           "breast angiosarcoma metastatic"
          ],
          [
           "vascular access complication"
          ],
          [
           "antifungal prophylaxis"
          ],
          [
           "treatment noncompliance"
          ],
          [
           "parasitic test positive"
          ],
          [
           "nasal septal operation"
          ],
          [
           "hepatocellular injury"
          ],
          [
           "chronic graft versus host disease in skin"
          ],
          [
           "hair growth abnormal"
          ],
          [
           "5-hydroxyindolacetic acid"
          ],
          [
           "eustachian tube obstruction"
          ],
          [
           "endometrial hyperplasia"
          ],
          [
           "parasitic gastroenteritis"
          ],
          [
           "blood folate decreased"
          ],
          [
           "skin papilloma"
          ],
          [
           "oxygen saturation abnormal"
          ],
          [
           "cerumen removal"
          ],
          [
           "tachycardia"
          ],
          [
           "arginase deficiency"
          ],
          [
           "mycobacterial infection"
          ],
          [
           "general symptom"
          ],
          [
           "stoma site irritation"
          ],
          [
           "electrocardiogram t wave amplitude decreased"
          ],
          [
           "blood prolactin abnormal"
          ],
          [
           "brain fog"
          ],
          [
           "intestinal fistula"
          ],
          [
           "hepatobiliary scan"
          ],
          [
           "bing-neel syndrome"
          ],
          [
           "rosacea"
          ],
          [
           "primary progressive multiple sclerosis"
          ],
          [
           "negative symptoms in schizophrenia"
          ],
          [
           "opportunistic infection prophylaxis"
          ],
          [
           "impaired healing"
          ],
          [
           "phagophobia"
          ],
          [
           "bruton's agammaglobulinaemia"
          ],
          [
           "paraproteinaemia"
          ],
          [
           "anaplastic large-cell lymphoma"
          ],
          [
           "bone marrow donation"
          ],
          [
           "dizziness"
          ],
          [
           "computerised tomogram aorta"
          ],
          [
           "systemic mastocytosis"
          ],
          [
           "acute pulmonary oedema"
          ],
          [
           "frequent bowel movements"
          ],
          [
           "delirium tremens"
          ],
          [
           "maintenance of anaesthesia"
          ],
          [
           "hallucination"
          ],
          [
           "carotid angioplasty"
          ],
          [
           "gastrointestinal tract irritation"
          ],
          [
           "acute hepatitis b"
          ],
          [
           "antiallergic therapy"
          ],
          [
           "asthma exercise induced"
          ],
          [
           "chronic lymphocytic leukaemia stage 2"
          ],
          [
           "feeling hot"
          ],
          [
           "blood acid phosphatase abnormal"
          ],
          [
           "breast cancer recurrent"
          ],
          [
           "erythema multiforme"
          ],
          [
           "planning to become pregnant"
          ],
          [
           "epidural analgesia"
          ],
          [
           "bile output abnormal"
          ],
          [
           "eczema herpeticum"
          ],
          [
           "post procedural myocardial infarction"
          ],
          [
           "emotional disorder"
          ],
          [
           "hepatitis"
          ],
          [
           "b-cell prolymphocytic leukaemia"
          ],
          [
           "postpartum haemorrhage"
          ],
          [
           "refractoriness to platelet transfusion"
          ],
          [
           "antipsychotic drug level below therapeutic"
          ],
          [
           "overweight"
          ],
          [
           "growth hormone deficiency"
          ],
          [
           "pneumonia"
          ],
          [
           "pulmonary congestion"
          ],
          [
           "radiation proctitis"
          ],
          [
           "metastatic bronchial carcinoma"
          ],
          [
           "flat affect"
          ],
          [
           "cardiac septal defect"
          ],
          [
           "normocytic anaemia"
          ],
          [
           "csf test abnormal"
          ],
          [
           "radiation retinopathy"
          ],
          [
           "macular oedema"
          ],
          [
           "lung carcinoma cell type unspecified recurrent"
          ],
          [
           "delayed delivery"
          ],
          [
           "infectious mononucleosis"
          ],
          [
           "splenic abscess"
          ],
          [
           "magnetic resonance imaging breast"
          ],
          [
           "genital herpes"
          ],
          [
           "open fracture"
          ],
          [
           "musculoskeletal injury"
          ],
          [
           "reflux gastritis"
          ],
          [
           "nail candida"
          ],
          [
           "anaplastic large cell lymphoma t- and null-cell types refractory"
          ],
          [
           "scan brain"
          ],
          [
           "benign familial pemphigus"
          ],
          [
           "hypertensive urgency"
          ],
          [
           "ammonia increased"
          ],
          [
           "heart valve operation"
          ],
          [
           "eyelid cyst"
          ],
          [
           "donor organ tissue preparation issue"
          ],
          [
           "educational problem"
          ],
          [
           "foot deformity"
          ],
          [
           "ovarian cancer"
          ],
          [
           "adrenal gland cancer metastatic"
          ],
          [
           "wrist fracture"
          ],
          [
           "stridor"
          ],
          [
           "rectal cancer"
          ],
          [
           "urinary tract candidiasis"
          ],
          [
           "retinopathy"
          ],
          [
           "haematuria"
          ],
          [
           "arnold-chiari malformation"
          ],
          [
           "abdominal pain"
          ],
          [
           "peripartum cardiomyopathy"
          ],
          [
           "pseudophakic bullous keratopathy"
          ],
          [
           "increased upper airway secretion"
          ],
          [
           "osteomyelitis acute"
          ],
          [
           "nephrectomy"
          ],
          [
           "desmoid tumour"
          ],
          [
           "hyperkalaemia"
          ],
          [
           "hypotrichosis"
          ],
          [
           "gastrointestinal melanoma"
          ],
          [
           "congenital dysfibrinogenaemia"
          ],
          [
           "alveolar soft part sarcoma"
          ],
          [
           "parathyroid tumour malignant"
          ],
          [
           "progesterone"
          ],
          [
           "tendon rupture"
          ],
          [
           "nasal cavity cancer"
          ],
          [
           "x-ray with contrast lower gastrointestinal tract"
          ],
          [
           "nystagmus"
          ],
          [
           "iridocorneal endothelial syndrome"
          ],
          [
           "hyperprolactinaemia"
          ],
          [
           "injection site pruritus"
          ],
          [
           "uterine pain"
          ],
          [
           "premenstrual dysphoric disorder"
          ],
          [
           "hepatic artery stenosis"
          ],
          [
           "metastases to pancreas"
          ],
          [
           "mediastinitis"
          ],
          [
           "renal disorder prophylaxis"
          ],
          [
           "skin operation"
          ],
          [
           "endometriosis ablation"
          ],
          [
           "hepatic encephalopathy"
          ],
          [
           "low density lipoprotein increased"
          ],
          [
           "neurodermatitis"
          ],
          [
           "uterine haemorrhage"
          ],
          [
           "nephritis"
          ],
          [
           "abdominal distension"
          ],
          [
           "oesophageal rupture"
          ],
          [
           "procedural hypotension"
          ],
          [
           "weight loss diet"
          ],
          [
           "menstrual discomfort"
          ],
          [
           "skin induration"
          ],
          [
           "sexually active"
          ],
          [
           "pharyngeal oedema"
          ],
          [
           "congenital tricuspid valve stenosis"
          ],
          [
           "analgesic therapy"
          ],
          [
           "tooth abscess"
          ],
          [
           "facet joint block"
          ],
          [
           "menstrual cycle management"
          ],
          [
           "left ventricular failure"
          ],
          [
           "cellulitis streptococcal"
          ],
          [
           "perforation"
          ],
          [
           "neuroendocrine tumour"
          ],
          [
           "insulin-like growth factor increased"
          ],
          [
           "noninfective sialoadenitis"
          ],
          [
           "advanced systemic mastocytosis"
          ],
          [
           "cystostomy"
          ],
          [
           "organising pneumonia"
          ],
          [
           "majeed's syndrome"
          ],
          [
           "hypophagia"
          ],
          [
           "pyomyositis"
          ],
          [
           "epidural injection"
          ],
          [
           "restlessness"
          ],
          [
           "chronic graft versus host disease in intestine"
          ],
          [
           "thromboembolectomy"
          ],
          [
           "drug reaction with eosinophilia and systemic symptoms"
          ],
          [
           "blood uric acid abnormal"
          ],
          [
           "fontan procedure"
          ],
          [
           "autoimmune inner ear disease"
          ],
          [
           "coronary artery stenosis"
          ],
          [
           "cerebral endovascular aneurysm repair"
          ],
          [
           "obstructive pancreatitis"
          ],
          [
           "tubulointerstitial nephritis and uveitis syndrome"
          ],
          [
           "immunoglobulins decreased"
          ],
          [
           "paroxysmal arrhythmia"
          ],
          [
           "anxiety"
          ],
          [
           "contrast media reaction"
          ],
          [
           "depressed mood"
          ],
          [
           "abscess jaw"
          ],
          [
           "acute promyelocytic leukaemia"
          ],
          [
           "drug abuser"
          ],
          [
           "allergic sinusitis"
          ],
          [
           "cystitis noninfective"
          ],
          [
           "body fat disorder"
          ],
          [
           "abscess intestinal"
          ],
          [
           "staphylococcal sepsis"
          ],
          [
           "hyperchloraemia"
          ],
          [
           "genital infection fungal"
          ],
          [
           "stoma obstruction"
          ],
          [
           "endometrial stromal sarcoma"
          ],
          [
           "supraventricular tachycardia"
          ],
          [
           "venoocclusive disease"
          ],
          [
           "diastolic hypertension"
          ],
          [
           "immune enhancement therapy"
          ],
          [
           "bone density abnormal"
          ],
          [
           "arterial disorder"
          ],
          [
           "rectal cancer stage iii"
          ],
          [
           "intrauterine contraception"
          ],
          [
           "metabolic myopathy"
          ],
          [
           "parkinsonian gait"
          ],
          [
           "acute myocardial infarction"
          ],
          [
           "leprosy"
          ],
          [
           "nipple disorder"
          ],
          [
           "immunisation"
          ],
          [
           "post-traumatic stress disorder"
          ],
          [
           "cervix enlargement"
          ],
          [
           "self esteem decreased"
          ],
          [
           "dependence on respirator"
          ],
          [
           "vaginal dysplasia"
          ],
          [
           "retinopathy hypertensive"
          ],
          [
           "acquired oesophageal web"
          ],
          [
           "platelet count"
          ],
          [
           "strabismus correction"
          ],
          [
           "demyelinating polyneuropathy"
          ],
          [
           "renal aplasia"
          ],
          [
           "releasing factor agonist therapy"
          ],
          [
           "upper-airway cough syndrome"
          ],
          [
           "engraftment syndrome"
          ],
          [
           "coombs positive haemolytic anaemia"
          ],
          [
           "gastrointestinal hypermotility"
          ],
          [
           "pustular psoriasis"
          ],
          [
           "injection site urticaria"
          ],
          [
           "oesophageal pain"
          ],
          [
           "cerebrovascular operation"
          ],
          [
           "tremor"
          ],
          [
           "antibiotic prophylaxis"
          ],
          [
           "optic atrophy"
          ],
          [
           "oestrogen therapy"
          ],
          [
           "lymphadenectomy"
          ],
          [
           "scleral operation"
          ],
          [
           "urinary bladder haemorrhage"
          ],
          [
           "hypophysitis"
          ],
          [
           "carnitine deficiency"
          ],
          [
           "vascular endothelial growth factor overexpression"
          ],
          [
           "tibia fracture"
          ],
          [
           "gastric haemangioma"
          ],
          [
           "skin squamous cell carcinoma metastatic"
          ],
          [
           "lymphoma aids related"
          ],
          [
           "dysbiosis"
          ],
          [
           "angiogram abnormal"
          ],
          [
           "gangrene"
          ],
          [
           "prurigo"
          ],
          [
           "marginal zone lymphoma stage iv"
          ],
          [
           "rhinitis allergic"
          ],
          [
           "neutropenic colitis"
          ],
          [
           "synovial rupture"
          ],
          [
           "oral infection"
          ],
          [
           "perirectal abscess"
          ],
          [
           "gastrointestinal perforation"
          ],
          [
           "microsatellite instability cancer"
          ],
          [
           "pericardial repair"
          ],
          [
           "adult t-cell lymphoma/leukaemia"
          ],
          [
           "muscle building therapy"
          ],
          [
           "radiosensitisation therapy"
          ],
          [
           "post-anoxic myoclonus"
          ],
          [
           "joint surgery"
          ],
          [
           "anaplastic lymphoma receptor tyrosine kinase assay"
          ],
          [
           "plasma cell myeloma"
          ],
          [
           "accidental overdose"
          ],
          [
           "gaucher's disease"
          ],
          [
           "yersinia infection"
          ],
          [
           "antineutrophil cytoplasmic antibody decreased"
          ],
          [
           "adenocarcinoma of salivary gland"
          ],
          [
           "fluid balance positive"
          ],
          [
           "nutritional supplementation"
          ],
          [
           "paralysis"
          ],
          [
           "root canal infection"
          ],
          [
           "adult t-cell lymphoma/leukaemia recurrent"
          ],
          [
           "urethral valves"
          ],
          [
           "uterine artery embolisation"
          ],
          [
           "wrong patient received product"
          ],
          [
           "shock haemorrhagic"
          ],
          [
           "carbamoyl phosphate synthetase deficiency"
          ],
          [
           "catheter site haemorrhage"
          ],
          [
           "oesophageal adenocarcinoma stage iii"
          ],
          [
           "chylothorax"
          ],
          [
           "percutaneous coronary intervention"
          ],
          [
           "immunosuppressant drug level"
          ],
          [
           "quadriplegia"
          ],
          [
           "chronic inflammatory demyelinating polyradiculoneuropathy"
          ],
          [
           "renal vascular thrombosis"
          ],
          [
           "carcinoid tumour"
          ],
          [
           "tooth infection"
          ],
          [
           "ctla4 deficiency"
          ],
          [
           "arthritis reactive"
          ],
          [
           "macular degeneration"
          ],
          [
           "blood pressure fluctuation"
          ],
          [
           "pseudophakic glaucoma"
          ],
          [
           "cellulitis orbital"
          ],
          [
           "anti-glomerular basement membrane disease"
          ],
          [
           "chest pain"
          ],
          [
           "hodgkin's disease nodular sclerosis stage ii"
          ],
          [
           "chronic myeloid leukaemia (in remission)"
          ],
          [
           "staphylococcus test positive"
          ],
          [
           "microalbuminuria"
          ],
          [
           "central nervous system lymphoma"
          ],
          [
           "blood alkaline phosphatase increased"
          ],
          [
           "varicella zoster pneumonia"
          ],
          [
           "bone development abnormal"
          ],
          [
           "spinocerebellar disorder"
          ],
          [
           "spinal meningeal cyst"
          ],
          [
           "peripheral blood stem cell apheresis"
          ],
          [
           "electrocardiogram st segment elevation"
          ],
          [
           "dermal filler injection"
          ],
          [
           "chloroma"
          ],
          [
           "interferon alpha level increased"
          ],
          [
           "squamous cell carcinoma of head and neck"
          ],
          [
           "spinal osteoarthritis"
          ],
          [
           "dilated cardiomyopathy"
          ],
          [
           "impulse-control disorder"
          ],
          [
           "gastrointestinal ulcer management"
          ],
          [
           "choroidal neovascularisation"
          ],
          [
           "rectal ulcer"
          ],
          [
           "sinus bradycardia"
          ],
          [
           "arterial occlusive disease"
          ],
          [
           "peripheral embolism"
          ],
          [
           "pleuropulmonary blastoma"
          ],
          [
           "nephrogenic anaemia"
          ],
          [
           "ebstein's anomaly"
          ],
          [
           "post-traumatic headache"
          ],
          [
           "fractured coccyx"
          ],
          [
           "enterovirus infection"
          ],
          [
           "amnestic disorder"
          ],
          [
           "decubitus ulcer"
          ],
          [
           "periodontal operation"
          ],
          [
           "deafness neurosensory"
          ],
          [
           "covid-19 prophylaxis"
          ],
          [
           "mantle cell lymphoma refractory"
          ],
          [
           "wrist surgery"
          ],
          [
           "beta haemolytic streptococcal infection"
          ],
          [
           "bile output"
          ],
          [
           "pneumonia haemophilus"
          ],
          [
           "hyperlactacidaemia"
          ],
          [
           "bronchial carcinoma"
          ],
          [
           "skin wound"
          ],
          [
           "supranuclear palsy"
          ],
          [
           "malformation venous"
          ],
          [
           "renal hamartoma"
          ],
          [
           "plasmacytoma"
          ],
          [
           "ischaemic cardiomyopathy"
          ],
          [
           "somatotropin stimulation test"
          ],
          [
           "pulmonary valve stenosis"
          ],
          [
           "radical hysterectomy"
          ],
          [
           "hormone receptor positive her2 negative breast cancer"
          ],
          [
           "lumbosacral radiculoplexus neuropathy"
          ],
          [
           "suicide attempt"
          ],
          [
           "amino acid level abnormal"
          ],
          [
           "subcorneal pustular dermatosis"
          ],
          [
           "papillary thyroid cancer"
          ],
          [
           "exostosis of jaw"
          ],
          [
           "feeling drunk"
          ],
          [
           "xanthoma"
          ],
          [
           "body temperature decreased"
          ],
          [
           "dysglobulinaemia"
          ],
          [
           "dedifferentiated liposarcoma"
          ],
          [
           "peripheral arterial occlusive disease"
          ],
          [
           "bacterial vaginosis"
          ],
          [
           "conjunctivitis viral"
          ],
          [
           "post procedural swelling"
          ],
          [
           "psoriasis"
          ],
          [
           "physical fitness training"
          ],
          [
           "cystitis interstitial"
          ],
          [
           "patient restraint"
          ],
          [
           "bipolar disorder relapse prophylaxis"
          ],
          [
           "autonomic dysreflexia"
          ],
          [
           "staphylococcal bacteraemia"
          ],
          [
           "hepatorenal syndrome"
          ],
          [
           "hypomenorrhoea"
          ],
          [
           "burkholderia pseudomallei infection"
          ],
          [
           "nodal marginal zone b-cell lymphoma stage iii"
          ],
          [
           "pancreas divisum"
          ],
          [
           "hyperoestrogenism"
          ],
          [
           "vitritis"
          ],
          [
           "spinal laminectomy"
          ],
          [
           "primary biliary cholangitis"
          ],
          [
           "mucocutaneous disorder"
          ],
          [
           "hyperkeratosis"
          ],
          [
           "colon cancer stage iii"
          ],
          [
           "haematemesis"
          ],
          [
           "viral hepatitis carrier"
          ],
          [
           "maternal therapy to enhance foetal lung maturity"
          ],
          [
           "pleural effusion"
          ],
          [
           "segmental diverticular colitis"
          ],
          [
           "mechanical ventilation"
          ],
          [
           "malignant peritoneal neoplasm"
          ],
          [
           "culture urine positive"
          ],
          [
           "right ventricular failure"
          ],
          [
           "thyroid cancer stage iv"
          ],
          [
           "respiratory tract irritation"
          ],
          [
           "post procedural cellulitis"
          ],
          [
           "oromandibular dystonia"
          ],
          [
           "covid-19 pneumonia"
          ],
          [
           "fungal infection"
          ],
          [
           "nerve compression"
          ],
          [
           "perineal pain"
          ],
          [
           "intellectual disability"
          ],
          [
           "substance use disorder"
          ],
          [
           "high-grade b-cell lymphoma"
          ],
          [
           "urethral cancer"
          ],
          [
           "cataract"
          ],
          [
           "vascular access site infection"
          ],
          [
           "spinal compression fracture"
          ],
          [
           "retinal vein thrombosis"
          ],
          [
           "renal vein thrombosis"
          ],
          [
           "dandruff"
          ],
          [
           "intrusive thoughts"
          ],
          [
           "familial amyloidosis"
          ],
          [
           "central hypothyroidism"
          ],
          [
           "proctitis chlamydial"
          ],
          [
           "cystoscopy"
          ],
          [
           "scleroderma renal crisis"
          ],
          [
           "loose tooth"
          ],
          [
           "peripheral revascularisation"
          ],
          [
           "vasogenic cerebral oedema"
          ],
          [
           "hormone suppression therapy"
          ],
          [
           "congenital retinoblastoma"
          ],
          [
           "cerebral artery embolism"
          ],
          [
           "bronchopulmonary disease"
          ],
          [
           "red blood cell transfusion"
          ],
          [
           "automatic bladder"
          ],
          [
           "oxygen saturation decreased"
          ],
          [
           "red blood cell count abnormal"
          ],
          [
           "bronchial hyperreactivity"
          ],
          [
           "hepatic enzyme increased"
          ],
          [
           "non-alcoholic steatohepatitis"
          ],
          [
           "bone demineralisation"
          ],
          [
           "sinus rhythm"
          ],
          [
           "hypocalcaemia"
          ],
          [
           "cardiac assistance device user"
          ],
          [
           "acute generalised exanthematous pustulosis"
          ],
          [
           "jaw disorder"
          ],
          [
           "vasodilatation"
          ],
          [
           "hip fracture"
          ],
          [
           "mucous membrane pemphigoid"
          ],
          [
           "stress urinary incontinence"
          ],
          [
           "eczema eyelids"
          ],
          [
           "scan gallium"
          ],
          [
           "transfusion"
          ],
          [
           "polyneuropathy"
          ],
          [
           "muscle oedema"
          ],
          [
           "hypokalaemia"
          ],
          [
           "removal of inert matter from skin or subcutaneous tissue"
          ],
          [
           "blood prolactin increased"
          ],
          [
           "proteus infection"
          ],
          [
           "prothrombin level decreased"
          ],
          [
           "peripheral nerve operation"
          ],
          [
           "sensation of foreign body"
          ],
          [
           "cardiac failure chronic"
          ],
          [
           "atypical migraine"
          ],
          [
           "androgen receptor assay"
          ],
          [
           "hodgkin's disease stage iv"
          ],
          [
           "pityriasis"
          ],
          [
           "chronic graft versus host disease"
          ],
          [
           "typhoid fever immunisation"
          ],
          [
           "renal fusion anomaly"
          ],
          [
           "galactostasis"
          ],
          [
           "tinnitus"
          ],
          [
           "heart and lung transplant"
          ],
          [
           "post abortion complication"
          ],
          [
           "gestational trophoblastic tumour"
          ],
          [
           "nonspecific reaction"
          ],
          [
           "leukaemia"
          ],
          [
           "foetal exposure during pregnancy"
          ],
          [
           "subclavian vein thrombosis"
          ],
          [
           "eosinophilic colitis"
          ],
          [
           "inborn error of metabolism"
          ],
          [
           "rabies"
          ],
          [
           "respiratory papilloma"
          ],
          [
           "malignant ascites"
          ],
          [
           "large granular lymphocytosis"
          ],
          [
           "haematospermia"
          ],
          [
           "ligament operation"
          ],
          [
           "intraoperative care"
          ],
          [
           "autoimmune disorder"
          ],
          [
           "dermatomyositis"
          ],
          [
           "blood pressure abnormal"
          ],
          [
           "acute cutaneous lupus erythematosus"
          ],
          [
           "immunosuppressant drug therapy"
          ],
          [
           "blood uric acid increased"
          ],
          [
           "arrhythmogenic right ventricular dysplasia"
          ],
          [
           "multisystem inflammatory syndrome"
          ],
          [
           "metastases to breast"
          ],
          [
           "acromegaly"
          ],
          [
           "tendon graft"
          ],
          [
           "brachytherapy to prostate"
          ],
          [
           "rectosigmoid cancer"
          ],
          [
           "subileus"
          ],
          [
           "osteosarcoma metastatic"
          ],
          [
           "routine health maintenance"
          ],
          [
           "acute lymphocytic leukaemia"
          ],
          [
           "panniculitis"
          ],
          [
           "fluid replacement"
          ],
          [
           "newborn persistent pulmonary hypertension"
          ],
          [
           "bronchial secretion retention"
          ],
          [
           "hepatitis b"
          ],
          [
           "neoplasm skin"
          ],
          [
           "scan thyroid gland"
          ],
          [
           "blastomycosis"
          ],
          [
           "abdominal tenderness"
          ],
          [
           "wound infection bacterial"
          ],
          [
           "tumour marker increased"
          ],
          [
           "bile duct stone"
          ],
          [
           "solid organ transplant"
          ],
          [
           "cd4 lymphocytes decreased"
          ],
          [
           "paroxysmal nocturnal haemoglobinuria"
          ],
          [
           "varicella zoster virus infection"
          ],
          [
           "palmoplantar pustulosis"
          ],
          [
           "convulsions local"
          ],
          [
           "drug level decreased"
          ],
          [
           "contact lens therapy"
          ],
          [
           "localised oedema"
          ],
          [
           "premature separation of placenta"
          ],
          [
           "phlebitis"
          ],
          [
           "allergy to animal"
          ],
          [
           "basal cell carcinoma"
          ],
          [
           "glioblastoma multiforme"
          ],
          [
           "pneumocystis jirovecii pneumonia"
          ],
          [
           "prostate examination"
          ],
          [
           "spinal fracture"
          ],
          [
           "varicella"
          ],
          [
           "oppositional defiant disorder"
          ],
          [
           "myelodysplastic syndrome"
          ],
          [
           "onychomycosis"
          ],
          [
           "steroid diabetes"
          ],
          [
           "haematology test abnormal"
          ],
          [
           "rectal neoplasm"
          ],
          [
           "poor peripheral circulation"
          ],
          [
           "skin graft"
          ],
          [
           "acute hepatic failure"
          ],
          [
           "antidepressant discontinuation syndrome"
          ],
          [
           "lymphatic insufficiency"
          ],
          [
           "maternal drugs affecting foetus"
          ],
          [
           "polymenorrhoea"
          ],
          [
           "angiosarcoma metastatic"
          ],
          [
           "blood pressure diastolic increased"
          ],
          [
           "premature rupture of membranes"
          ],
          [
           "lysosomal acid lipase deficiency"
          ],
          [
           "metastatic renal cell carcinoma"
          ],
          [
           "gouty arthritis"
          ],
          [
           "anti-aquaporin-4 antibody"
          ],
          [
           "gastrointestinal inflammation"
          ],
          [
           "hypomagnesaemia"
          ],
          [
           "lung neoplasm malignant"
          ],
          [
           "conjunctival neoplasm"
          ],
          [
           "magnetic resonance imaging pancreas"
          ],
          [
           "penis disorder"
          ],
          [
           "vena cava thrombosis"
          ],
          [
           "hyperventilation"
          ],
          [
           "breast operation"
          ],
          [
           "barrett's oesophagus"
          ],
          [
           "intervertebral disc degeneration"
          ],
          [
           "cutaneous lupus erythematosus"
          ],
          [
           "netherton's syndrome"
          ],
          [
           "hypoxia"
          ],
          [
           "myeloproliferative neoplasm"
          ],
          [
           "neuropsychiatric syndrome"
          ],
          [
           "incorrect product administration duration"
          ],
          [
           "bronchiolitis obliterans syndrome"
          ],
          [
           "vaginal haemorrhage"
          ],
          [
           "chronic graft versus host disease oral"
          ],
          [
           "optic glioma"
          ],
          [
           "urethral stent removal"
          ],
          [
           "foreign body"
          ],
          [
           "imminent abortion"
          ],
          [
           "gastrooesophageal reflux prophylaxis"
          ],
          [
           "blood caffeine"
          ],
          [
           "musculoskeletal disorder prophylaxis"
          ],
          [
           "energy increased"
          ],
          [
           "growth failure"
          ],
          [
           "pneumonia legionella"
          ],
          [
           "protein urine present"
          ],
          [
           "precursor t-lymphoblastic lymphoma/leukaemia"
          ],
          [
           "blastocystis infection"
          ],
          [
           "small intestinal stenosis"
          ],
          [
           "allergy to plants"
          ],
          [
           "intestinal obstruction"
          ],
          [
           "peritoneal carcinoma metastatic"
          ],
          [
           "dementia with lewy bodies"
          ],
          [
           "vulvovaginal injury"
          ],
          [
           "bladder transitional cell carcinoma stage 0"
          ],
          [
           "retinitis pigmentosa"
          ],
          [
           "alopecia totalis"
          ],
          [
           "prinzmetal angina"
          ],
          [
           "ovarian germ cell endodermal sinus tumour stage iii"
          ],
          [
           "\"hallucination, auditory\""
          ],
          [
           "alveolar soft part sarcoma metastatic"
          ],
          [
           "oral mucosal blistering"
          ],
          [
           "hypotonic urinary bladder"
          ],
          [
           "symmetrical drug-related intertriginous and flexural exanthema"
          ],
          [
           "herpes simplex encephalitis"
          ],
          [
           "hepato-lenticular degeneration"
          ],
          [
           "myeloid metaplasia"
          ],
          [
           "psychogenic seizure"
          ],
          [
           "vulvovaginal discomfort"
          ],
          [
           "diabetes insipidus"
          ],
          [
           "superior sagittal sinus thrombosis"
          ],
          [
           "adrenalectomy"
          ],
          [
           "isocitrate dehydrogenase gene mutation"
          ],
          [
           "protein urine"
          ],
          [
           "autoimmune lymphoproliferative syndrome"
          ],
          [
           "fall"
          ],
          [
           "fungal test positive"
          ],
          [
           "cerebrovascular disorder"
          ],
          [
           "haemodynamic test"
          ],
          [
           "joint effusion"
          ],
          [
           "marginal zone lymphoma refractory"
          ],
          [
           "metabolic acidosis"
          ],
          [
           "tobacco withdrawal symptoms"
          ],
          [
           "uterine polyp"
          ],
          [
           "gastrooesophageal variceal haemorrhage prophylaxis"
          ],
          [
           "neuroendocrine carcinoma of the skin"
          ],
          [
           "medical device site joint infection"
          ],
          [
           "selective iga immunodeficiency"
          ],
          [
           "venous stent insertion"
          ],
          [
           "exposure to fungus"
          ],
          [
           "brain tumour operation"
          ],
          [
           "dacryostenosis acquired"
          ],
          [
           "meningomyelocele"
          ],
          [
           "diuretic therapy"
          ],
          [
           "aortic surgery"
          ],
          [
           "\"astrocytoma, low grade\""
          ],
          [
           "paraneoplastic syndrome"
          ],
          [
           "csws syndrome"
          ],
          [
           "laparotomy"
          ],
          [
           "tongue fungal infection"
          ],
          [
           "pharyngeal disorder"
          ],
          [
           "refusal of treatment by patient"
          ],
          [
           "simple partial seizures"
          ],
          [
           "waldenstrom's macroglobulinaemia refractory"
          ],
          [
           "asocial behaviour"
          ],
          [
           "chemotherapy side effect prophylaxis"
          ],
          [
           "t-cell lymphoma stage iii"
          ],
          [
           "coronary arterial stent insertion"
          ],
          [
           "gammopathy"
          ],
          [
           "rett syndrome"
          ],
          [
           "diffuse large b-cell lymphoma refractory"
          ],
          [
           "dark circles under eyes"
          ],
          [
           "gastroenteritis eosinophilic"
          ],
          [
           "parametritis"
          ],
          [
           "alcohol use"
          ],
          [
           "colostomy"
          ],
          [
           "terminal ileitis"
          ],
          [
           "retinal neovascularisation"
          ],
          [
           "clostridium test negative"
          ],
          [
           "cortisol increased"
          ],
          [
           "granuloma"
          ],
          [
           "vulval cancer metastatic"
          ],
          [
           "sclerotherapy"
          ],
          [
           "computerised tomogram abdomen"
          ],
          [
           "contraindication to medical treatment"
          ],
          [
           "antineutrophil cytoplasmic antibody"
          ],
          [
           "pruritus allergic"
          ],
          [
           "cystinosis"
          ],
          [
           "large intestine infection"
          ],
          [
           "local anaesthesia"
          ],
          [
           "scoliosis surgery"
          ],
          [
           "central nervous system fungal infection"
          ],
          [
           "muscle rupture"
          ],
          [
           "pneumonia mycoplasmal"
          ],
          [
           "pancreatic carcinoma stage iv"
          ],
          [
           "alcohol abuse"
          ],
          [
           "allergy prophylaxis"
          ],
          [
           "clonus"
          ],
          [
           "factor vii inhibition"
          ],
          [
           "macroangiopathy"
          ],
          [
           "neovascularisation"
          ],
          [
           "erythropoiesis abnormal"
          ],
          [
           "catheter site pruritus"
          ],
          [
           "strongyloidiasis"
          ],
          [
           "renal impairment"
          ],
          [
           "urine flow decreased"
          ],
          [
           "type v hyperlipidaemia"
          ],
          [
           "lichenoid keratosis"
          ],
          [
           "mitochondrial cytopathy"
          ],
          [
           "proctalgia"
          ],
          [
           "peripheral sensorimotor neuropathy"
          ],
          [
           "giant cell myocarditis"
          ],
          [
           "oesophageal cancer metastatic"
          ],
          [
           "stent placement"
          ],
          [
           "malaise"
          ],
          [
           "helicobacter duodenal ulcer"
          ],
          [
           "arterial insufficiency"
          ],
          [
           "basilar artery aneurysm"
          ],
          [
           "oropharyngeal plaque"
          ],
          [
           "purulence"
          ],
          [
           "dysplasia"
          ],
          [
           "dermatologic examination"
          ],
          [
           "ascites"
          ],
          [
           "cronkhite-canada syndrome"
          ],
          [
           "disseminated neonatal herpes simplex"
          ],
          [
           "infected fistula"
          ],
          [
           "potentiating drug interaction"
          ],
          [
           "gastrointestinal ulcer"
          ],
          [
           "mitral valve prolapse"
          ],
          [
           "adenosquamous cell lung cancer"
          ],
          [
           "psychiatric disorder prophylaxis"
          ],
          [
           "artificial insemination"
          ],
          [
           "chloasma"
          ],
          [
           "fragile x carrier"
          ],
          [
           "endocarditis"
          ],
          [
           "gleich's syndrome"
          ],
          [
           "device related thrombosis"
          ],
          [
           "procoagulant therapy"
          ],
          [
           "clear cell sarcoma of soft tissue"
          ],
          [
           "non-small cell lung cancer"
          ],
          [
           "autotransfusion"
          ],
          [
           "dry age-related macular degeneration"
          ],
          [
           "renal vasculitis"
          ],
          [
           "vasopressive therapy"
          ],
          [
           "fungal skin infection"
          ],
          [
           "blood hiv rna"
          ],
          [
           "endometrial disorder"
          ],
          [
           "albright's disease"
          ],
          [
           "head titubation"
          ],
          [
           "peritonitis"
          ],
          [
           "meningoencephalitis viral"
          ],
          [
           "ocular vasculitis"
          ],
          [
           "progressive multifocal leukoencephalopathy"
          ],
          [
           "mismatch repair cancer syndrome"
          ],
          [
           "depressive symptom"
          ],
          [
           "penile operation"
          ],
          [
           "periodontal disease"
          ],
          [
           "thyroidectomy"
          ],
          [
           "jaw clicking"
          ],
          [
           "gastrointestinal erosion"
          ],
          [
           "eczema"
          ],
          [
           "argininosuccinate lyase deficiency"
          ],
          [
           "sensory ganglionitis"
          ],
          [
           "haemoglobinaemia"
          ],
          [
           "astrocytoma malignant"
          ],
          [
           "joint ankylosis"
          ],
          [
           "placental insufficiency"
          ],
          [
           "covid-19 treatment"
          ],
          [
           "neuromuscular blockade reversal"
          ],
          [
           "coagulation factor decreased"
          ],
          [
           "gastroenteropancreatic neuroendocrine tumour disease"
          ],
          [
           "pelvic organ prolapse"
          ],
          [
           "cholestatic pruritus"
          ],
          [
           "botryomycosis"
          ],
          [
           "pneumonia influenzal"
          ],
          [
           "precancerous skin lesion"
          ],
          [
           "tumour compression"
          ],
          [
           "non-small cell lung cancer recurrent"
          ],
          [
           "brain sarcoma"
          ],
          [
           "vaginal fistula"
          ],
          [
           "clinically isolated syndrome"
          ],
          [
           "liver disorder"
          ],
          [
           "cheilitis"
          ],
          [
           "acoustic neuroma"
          ],
          [
           "moyamoya disease"
          ],
          [
           "muscle tightness"
          ],
          [
           "coronary artery bypass"
          ],
          [
           "pulmonary arterial pressure"
          ],
          [
           "urinary tract infection staphylococcal"
          ],
          [
           "ophthalmic migraine"
          ],
          [
           "hypersensitivity vasculitis"
          ],
          [
           "product used for unknown indication"
          ],
          [
           "hyperammonaemic encephalopathy"
          ],
          [
           "antiphospholipid syndrome"
          ],
          [
           "blood triglycerides abnormal"
          ],
          [
           "vertigo"
          ]
         ],
         "hovertemplate": "tsne_x=%{x}<br>tsne_y=%{y}<br>text=%{customdata[0]}<br>KMeans_classes=%{marker.color}<extra></extra>",
         "legendgroup": "",
         "marker": {
          "color": [
           28,
           48,
           18,
           6,
           14,
           5,
           5,
           20,
           49,
           46,
           42,
           28,
           36,
           4,
           40,
           27,
           48,
           28,
           23,
           16,
           25,
           48,
           26,
           36,
           33,
           32,
           7,
           29,
           2,
           10,
           34,
           27,
           4,
           21,
           42,
           33,
           36,
           23,
           30,
           32,
           30,
           37,
           39,
           11,
           20,
           7,
           27,
           29,
           33,
           22,
           34,
           32,
           26,
           26,
           48,
           25,
           19,
           44,
           14,
           36,
           46,
           10,
           20,
           21,
           25,
           5,
           2,
           31,
           45,
           18,
           49,
           7,
           36,
           27,
           33,
           34,
           37,
           25,
           7,
           25,
           8,
           7,
           10,
           21,
           9,
           33,
           41,
           24,
           43,
           29,
           43,
           13,
           45,
           1,
           33,
           29,
           14,
           49,
           34,
           21,
           0,
           48,
           36,
           47,
           40,
           33,
           13,
           27,
           30,
           1,
           11,
           34,
           39,
           23,
           3,
           19,
           45,
           30,
           27,
           1,
           39,
           11,
           36,
           41,
           39,
           27,
           48,
           42,
           23,
           31,
           46,
           13,
           1,
           33,
           21,
           15,
           22,
           24,
           28,
           20,
           28,
           5,
           48,
           27,
           49,
           27,
           38,
           34,
           28,
           9,
           39,
           0,
           12,
           33,
           11,
           34,
           33,
           21,
           22,
           27,
           33,
           48,
           0,
           28,
           25,
           2,
           28,
           27,
           12,
           32,
           4,
           37,
           35,
           23,
           2,
           6,
           34,
           0,
           17,
           15,
           12,
           19,
           15,
           24,
           49,
           18,
           18,
           45,
           38,
           45,
           17,
           48,
           33,
           40,
           44,
           32,
           37,
           46,
           3,
           12,
           14,
           1,
           4,
           9,
           47,
           28,
           26,
           17,
           38,
           17,
           27,
           6,
           7,
           6,
           22,
           32,
           45,
           41,
           42,
           43,
           44,
           20,
           25,
           37,
           20,
           34,
           7,
           34,
           33,
           20,
           15,
           39,
           5,
           34,
           25,
           48,
           14,
           44,
           48,
           9,
           47,
           12,
           39,
           37,
           11,
           41,
           45,
           11,
           25,
           23,
           48,
           40,
           19,
           7,
           28,
           19,
           38,
           28,
           7,
           40,
           4,
           43,
           32,
           35,
           26,
           34,
           13,
           34,
           11,
           7,
           20,
           20,
           49,
           20,
           49,
           24,
           17,
           25,
           36,
           1,
           33,
           36,
           40,
           34,
           12,
           47,
           40,
           22,
           46,
           18,
           6,
           17,
           7,
           11,
           21,
           29,
           14,
           27,
           20,
           25,
           24,
           11,
           9,
           48,
           48,
           28,
           23,
           32,
           32,
           5,
           48,
           28,
           46,
           18,
           25,
           26,
           49,
           30,
           43,
           7,
           10,
           28,
           20,
           12,
           2,
           46,
           30,
           17,
           6,
           11,
           1,
           38,
           32,
           12,
           41,
           34,
           43,
           37,
           7,
           35,
           41,
           49,
           27,
           45,
           30,
           9,
           26,
           43,
           7,
           6,
           49,
           13,
           5,
           26,
           4,
           35,
           26,
           15,
           37,
           36,
           39,
           32,
           19,
           22,
           10,
           33,
           10,
           4,
           9,
           2,
           7,
           10,
           48,
           15,
           39,
           2,
           1,
           37,
           49,
           2,
           20,
           48,
           44,
           34,
           28,
           8,
           15,
           5,
           47,
           41,
           43,
           25,
           28,
           37,
           11,
           1,
           29,
           1,
           17,
           2,
           34,
           9,
           21,
           4,
           11,
           17,
           24,
           20,
           10,
           36,
           28,
           48,
           28,
           22,
           18,
           42,
           0,
           32,
           4,
           22,
           45,
           36,
           13,
           41,
           31,
           7,
           3,
           36,
           2,
           13,
           12,
           27,
           18,
           27,
           4,
           48,
           10,
           49,
           0,
           10,
           48,
           22,
           21,
           34,
           33,
           45,
           11,
           27,
           30,
           6,
           1,
           28,
           9,
           26,
           44,
           11,
           40,
           4,
           10,
           46,
           32,
           27,
           32,
           5,
           25,
           32,
           3,
           34,
           3,
           28,
           11,
           29,
           47,
           49,
           24,
           49,
           1,
           27,
           25,
           28,
           12,
           13,
           33,
           15,
           7,
           24,
           49,
           31,
           49,
           3,
           8,
           44,
           9,
           9,
           15,
           3,
           48,
           4,
           22,
           1,
           0,
           2,
           19,
           48,
           16,
           49,
           28,
           7,
           1,
           7,
           36,
           7,
           32,
           47,
           48,
           46,
           20,
           38,
           13,
           45,
           7,
           18,
           1,
           47,
           12,
           13,
           19,
           24,
           41,
           20,
           17,
           1,
           17,
           2,
           4,
           0,
           17,
           44,
           29,
           6,
           1,
           27,
           43,
           2,
           48,
           28,
           38,
           0,
           23,
           5,
           17,
           31,
           2,
           20,
           21,
           0,
           10,
           37,
           7,
           39,
           46,
           48,
           9,
           11,
           33,
           33,
           30,
           1,
           9,
           33,
           28,
           12,
           19,
           45,
           37,
           1,
           21,
           12,
           44,
           20,
           45,
           18,
           7,
           25,
           27,
           43,
           10,
           33,
           41,
           15,
           28,
           18,
           40,
           15,
           45,
           42,
           1,
           3,
           14,
           19,
           35,
           0,
           12,
           3,
           28,
           13,
           30,
           14,
           35,
           20,
           23,
           43,
           43,
           32,
           1,
           33,
           1,
           23,
           9,
           39,
           39,
           12,
           1,
           45,
           31,
           1,
           48,
           41,
           37,
           28,
           6,
           34,
           49,
           26,
           34,
           35,
           21,
           27,
           27,
           8,
           35,
           13,
           5,
           49,
           48,
           20,
           20,
           37,
           33,
           6,
           4,
           3,
           11,
           20,
           19,
           39,
           44,
           28,
           49,
           37,
           9,
           43,
           0,
           28,
           14,
           41,
           39,
           27,
           0,
           30,
           33,
           48,
           45,
           0,
           43,
           23,
           29,
           37,
           1,
           0,
           47,
           15,
           21,
           41,
           33,
           25,
           37,
           1,
           28,
           21,
           0,
           24,
           23,
           0,
           27,
           46,
           27,
           41,
           29,
           9,
           44,
           37,
           1,
           19,
           13,
           28,
           35,
           21,
           3,
           27,
           6,
           1,
           45,
           12,
           13,
           41,
           43,
           34,
           19,
           36,
           9,
           26,
           49,
           0,
           28,
           21,
           47,
           40,
           21,
           17,
           11,
           28,
           34,
           9,
           11,
           28,
           33,
           15,
           4,
           29,
           19,
           33,
           34,
           4,
           32,
           49,
           1,
           2,
           1,
           5,
           45,
           34,
           28,
           33,
           0,
           45,
           1,
           12,
           49,
           39,
           43,
           27,
           44,
           12,
           28,
           6,
           28,
           3,
           3,
           38,
           19,
           8,
           39,
           44,
           16,
           49,
           40,
           46,
           12,
           11,
           49,
           29,
           22,
           4,
           42,
           33,
           1,
           9,
           27,
           24,
           14,
           47,
           27,
           46,
           12,
           29,
           42,
           46,
           1,
           17,
           33,
           34,
           37,
           37,
           5,
           9,
           33,
           45,
           1,
           15,
           25,
           25,
           9,
           24,
           28,
           0,
           39,
           28,
           13,
           36,
           49,
           2,
           38,
           18,
           27,
           30,
           1,
           45,
           41,
           19,
           33,
           13,
           9,
           26,
           13,
           20,
           7,
           35,
           25,
           35,
           43,
           14,
           45,
           25,
           4,
           41,
           10,
           7,
           34,
           34,
           49,
           34,
           16,
           26,
           22,
           6,
           4,
           39,
           8,
           25,
           34,
           27,
           14,
           12,
           11,
           9,
           28,
           10,
           0,
           32,
           29,
           30,
           48,
           46,
           10,
           6,
           6,
           46,
           33,
           32,
           2,
           32,
           16,
           45,
           14,
           41,
           41,
           32,
           45,
           28,
           6,
           7,
           33,
           48,
           44,
           35,
           37,
           43,
           34,
           48,
           46,
           33,
           19,
           11,
           43,
           1,
           45,
           8,
           11,
           11,
           47,
           10,
           1,
           45,
           33,
           39,
           12,
           41,
           42,
           17,
           4,
           35,
           33,
           0,
           28,
           34,
           28,
           49,
           7,
           45,
           11,
           30,
           22,
           13,
           11,
           23,
           24,
           21,
           21,
           45,
           48,
           20,
           22,
           12,
           32,
           33,
           37,
           32,
           25,
           20,
           1,
           40,
           36,
           10,
           22,
           4,
           43,
           1,
           49,
           27,
           27,
           14,
           11,
           40,
           28,
           25,
           22,
           7,
           25,
           35,
           26,
           34,
           11,
           13,
           49,
           2,
           38,
           33,
           11,
           48,
           27,
           31,
           4,
           49,
           6,
           28,
           48,
           49,
           7,
           6,
           42,
           21,
           22,
           40,
           41,
           38,
           38,
           6,
           3,
           28,
           15,
           26,
           1,
           34,
           21,
           41,
           42,
           5,
           11,
           17,
           46,
           34,
           46,
           23,
           6,
           11,
           17,
           21,
           44,
           11,
           7,
           41,
           3,
           41,
           25,
           30,
           25,
           48,
           10,
           14,
           31,
           42,
           15,
           10,
           18,
           1,
           28,
           13,
           20,
           18,
           1,
           45,
           2,
           48,
           1,
           9,
           13,
           45,
           12,
           49,
           25,
           49,
           45,
           11,
           11,
           38,
           10,
           45,
           40,
           13,
           28,
           12,
           0,
           41,
           8,
           17,
           38,
           0,
           28,
           47,
           37,
           34,
           9,
           2,
           21,
           11,
           10,
           38,
           45,
           15,
           45,
           5,
           9,
           36,
           6,
           34,
           27,
           26,
           41,
           33,
           2,
           1,
           3,
           16,
           11,
           28,
           25,
           46,
           27,
           21,
           35,
           33,
           12,
           21,
           28,
           43,
           40,
           28,
           31,
           47,
           34,
           25,
           36,
           47,
           2,
           2,
           23,
           46,
           29,
           24,
           16,
           49,
           37,
           7,
           35,
           45,
           23,
           4,
           0,
           20,
           37,
           28,
           36,
           14,
           21,
           17,
           38,
           35,
           25,
           0,
           13,
           11,
           11,
           33,
           12,
           34,
           26,
           48,
           35,
           10,
           41,
           11,
           16,
           22,
           25,
           11,
           37,
           1,
           35,
           1,
           1,
           4,
           29,
           29,
           13,
           45,
           34,
           45,
           27,
           20,
           11,
           13,
           2,
           35,
           27,
           39,
           1,
           36,
           16,
           34,
           0,
           1,
           28,
           1,
           36,
           20,
           45,
           40,
           22,
           31,
           27,
           19,
           28,
           10,
           34,
           8,
           19,
           24,
           24,
           15,
           42,
           24,
           11,
           49,
           34,
           28,
           37,
           7,
           38,
           5,
           0,
           0,
           44,
           27,
           30,
           27,
           22,
           1,
           45,
           43,
           9,
           26,
           19,
           5,
           7,
           5,
           9,
           33,
           42,
           48,
           22,
           30,
           4,
           29,
           2,
           26,
           28,
           14,
           0,
           7,
           47,
           19,
           1,
           34,
           28,
           27,
           40,
           17,
           22,
           16,
           24,
           48,
           4,
           2,
           18,
           37,
           5,
           13,
           28,
           12,
           43,
           48,
           22,
           1,
           7,
           11,
           2,
           29,
           12,
           6,
           24,
           48,
           9,
           30,
           6,
           34,
           9,
           41,
           15,
           49,
           34,
           9,
           7,
           39,
           32,
           11,
           33,
           0,
           49,
           13,
           27,
           43,
           33,
           42,
           43,
           17,
           44,
           46,
           19,
           18,
           5,
           41,
           24,
           49,
           1,
           20,
           33,
           33,
           37,
           35,
           42,
           28,
           49,
           4,
           49,
           9,
           44,
           36,
           23,
           25,
           27,
           45,
           7,
           8,
           16,
           2,
           35,
           27,
           28,
           25,
           42,
           40,
           32,
           3,
           18,
           26,
           34,
           10,
           44,
           13,
           15,
           20,
           46,
           41,
           38,
           34,
           37,
           32,
           46,
           2,
           0,
           3,
           11,
           28,
           18,
           48,
           18,
           22,
           0,
           18,
           43,
           43,
           6,
           28,
           20,
           17,
           40,
           3,
           33,
           17,
           31,
           11,
           3,
           43,
           38,
           25,
           49,
           48,
           17,
           5,
           49,
           25,
           15,
           33,
           48,
           9,
           48,
           39,
           17,
           15,
           27,
           35,
           49,
           46,
           13,
           18,
           6,
           37,
           23,
           17,
           4,
           40,
           1,
           11,
           25,
           1,
           27,
           48,
           10,
           35,
           34,
           2,
           48,
           48,
           36,
           45,
           9,
           5,
           48,
           49,
           11,
           11,
           41,
           33,
           7,
           2,
           6,
           43,
           28,
           0,
           17,
           49,
           45,
           9,
           12,
           24,
           48,
           34,
           28,
           43,
           11,
           22,
           16,
           9,
           19,
           25,
           10,
           22,
           2,
           1,
           32,
           3,
           20,
           6,
           28,
           25,
           18,
           7,
           12,
           5,
           41,
           26,
           20,
           49,
           27,
           34,
           36,
           1,
           18,
           41,
           24,
           17,
           21,
           1,
           7,
           32,
           27,
           48,
           37,
           2,
           16,
           9,
           18,
           5,
           43,
           29,
           48,
           8,
           11,
           21,
           11,
           30,
           35,
           8,
           44,
           17,
           34,
           44,
           1,
           8
          ],
          "coloraxis": "coloraxis",
          "symbol": "circle"
         },
         "mode": "markers",
         "name": "",
         "showlegend": false,
         "type": "scattergl",
         "x": [
          -1.356652855873108,
          0.1632189303636551,
          -2.9828860759735107,
          0.04170737788081169,
          -1.5597596168518066,
          1.1086162328720093,
          1.458185076713562,
          -0.6902649402618408,
          0.8367132544517517,
          -1.4951553344726562,
          5.400496482849121,
          -1.4049817323684692,
          -2.1917526721954346,
          -0.49382734298706055,
          -2.1304738521575928,
          -3.246460437774658,
          -0.5006113052368164,
          -1.4947807788848877,
          3.2025365829467773,
          -0.873067319393158,
          -2.027371644973755,
          -0.8426004648208618,
          2.660176992416382,
          0.07597865909337997,
          1.4612483978271484,
          1.2668676376342773,
          2.1285667419433594,
          4.442783832550049,
          -1.6434019804000854,
          3.715409755706787,
          2.7781951427459717,
          -3.2860090732574463,
          -0.2258232980966568,
          -1.068261981010437,
          5.3207926750183105,
          -0.7521172165870667,
          -0.046563223004341125,
          2.9680092334747314,
          1.82010018825531,
          2.0336265563964844,
          1.9530987739562988,
          -1.4347455501556396,
          0.4148710072040558,
          -1.4020112752914429,
          -2.0596771240234375,
          3.069566249847412,
          -0.42856866121292114,
          4.359781265258789,
          -0.5425130724906921,
          0.16411592066287994,
          2.715730667114258,
          0.6009248495101929,
          2.3427417278289795,
          2.640984296798706,
          -1.0725446939468384,
          -1.5240110158920288,
          3.4256465435028076,
          -1.0402933359146118,
          -1.8049930334091187,
          -2.414321184158325,
          0.8257945775985718,
          3.4249589443206787,
          -0.851292610168457,
          -1.0441410541534424,
          -1.7514545917510986,
          1.9287835359573364,
          -2.0606491565704346,
          6.19048547744751,
          0.9926272034645081,
          -2.9842028617858887,
          1.0433253049850464,
          2.221121311187744,
          -2.418224811553955,
          -2.679413318634033,
          2.031750440597534,
          2.0892841815948486,
          -1.1282052993774414,
          -1.980143666267395,
          3.0740857124328613,
          -2.3261115550994873,
          -1.3685449361801147,
          2.8680310249328613,
          3.6885972023010254,
          -0.9001978635787964,
          2.7619223594665527,
          0.0073799691163003445,
          2.227214813232422,
          1.357049822807312,
          -1.2702698707580566,
          2.3298158645629883,
          -0.6724675893783569,
          -2.5338382720947266,
          1.8088454008102417,
          2.755432605743408,
          -0.20588059723377228,
          4.2112040519714355,
          -1.6523383855819702,
          0.7336090207099915,
          3.5794992446899414,
          -0.7296273708343506,
          0.8683084845542908,
          -0.11284466832876205,
          0.08249063044786453,
          -0.8219232559204102,
          -0.8302443027496338,
          -0.1609838455915451,
          -2.4593985080718994,
          -3.2709996700286865,
          1.9459351301193237,
          3.059077739715576,
          0.6526191830635071,
          3.0942256450653076,
          0.5920013785362244,
          3.219717502593994,
          3.5844767093658447,
          3.495511054992676,
          1.7446666955947876,
          2.1492090225219727,
          -2.4072749614715576,
          -1.9811674356460571,
          1.1388543844223022,
          0.4251422882080078,
          -2.2534852027893066,
          0.456725150346756,
          -2.443175792694092,
          -2.491642951965332,
          -0.8765013813972473,
          5.371274948120117,
          3.2012007236480713,
          6.122771739959717,
          -1.572693109512329,
          -2.838184118270874,
          2.8259260654449463,
          0.9687597155570984,
          0.10614602267742157,
          4.404635429382324,
          1.9975610971450806,
          1.3488792181015015,
          -1.1482179164886475,
          -0.5064129829406738,
          -1.406481385231018,
          0.2640683650970459,
          2.8369429111480713,
          -2.5825254917144775,
          0.9296753406524658,
          -2.6966331005096436,
          5.953509330749512,
          2.452240228652954,
          -1.116835594177246,
          2.869311571121216,
          0.8764070272445679,
          -1.814268946647644,
          -0.1121707335114479,
          0.3676718473434448,
          1.1187565326690674,
          3.105541229248047,
          1.8313837051391602,
          -1.0352556705474854,
          1.4124360084533691,
          -3.058652400970459,
          -0.7535538077354431,
          -0.8492712378501892,
          -0.2581946551799774,
          -0.9370615482330322,
          -1.4871389865875244,
          -2.7431187629699707,
          -1.8797556161880493,
          -2.6873483657836914,
          -0.1990102380514145,
          1.3156236410140991,
          -0.287005752325058,
          -1.2656139135360718,
          1.2164047956466675,
          3.1887459754943848,
          0.09526096284389496,
          0.7314180731773376,
          2.7321488857269287,
          -0.995124876499176,
          1.0049042701721191,
          4.362128257751465,
          -0.15778057277202606,
          -0.09317069500684738,
          4.299309730529785,
          -2.297764778137207,
          0.6549034118652344,
          -3.0641682147979736,
          -2.707958936691284,
          1.7448638677597046,
          5.710799217224121,
          1.5690171718597412,
          0.9273303747177124,
          -1.2946734428405762,
          1.8401963710784912,
          -0.76298588514328,
          1.1582481861114502,
          1.8265763521194458,
          -1.062441110610962,
          -0.007994971238076687,
          0.0029884816613048315,
          -0.08600785583257675,
          -1.7204041481018066,
          3.112828493118286,
          -0.23706242442131042,
          3.232354164123535,
          1.6337608098983765,
          -1.1987985372543335,
          2.6553168296813965,
          0.9740607738494873,
          -0.7081390023231506,
          0.9129440784454346,
          -2.6018688678741455,
          0.47646626830101013,
          -1.9709711074829102,
          0.11272548884153366,
          1.734633445739746,
          -0.2578061521053314,
          2.030710458755493,
          0.4213598668575287,
          5.3736443519592285,
          1.2001073360443115,
          0.5732765197753906,
          -1.4249944686889648,
          -1.6740323305130005,
          0.8725743889808655,
          -1.7259207963943481,
          2.880610466003418,
          2.381834030151367,
          2.2616255283355713,
          1.8124072551727295,
          -0.8502258658409119,
          4.357327938079834,
          1.1451187133789062,
          1.8476049900054932,
          2.838794708251953,
          -1.6058223247528076,
          2.2297961711883545,
          -1.1884411573410034,
          -2.8203377723693848,
          -0.7428014874458313,
          2.780092239379883,
          1.5517138242721558,
          -0.1698341816663742,
          0.34564366936683655,
          -1.3498897552490234,
          0.775459349155426,
          0.19463376700878143,
          1.7024290561676025,
          -0.09939632564783096,
          -1.873146653175354,
          3.276827096939087,
          -1.4577550888061523,
          -1.6500540971755981,
          0.9297924637794495,
          2.3046514987945557,
          -1.194599986076355,
          1.8258999586105347,
          5.726874351501465,
          -0.7806972861289978,
          2.3905985355377197,
          -0.7017002701759338,
          -0.24974532425403595,
          -1.7957391738891602,
          -0.649696946144104,
          3.089205026626587,
          2.5775644779205322,
          2.3615424633026123,
          -2.782114028930664,
          3.1047747135162354,
          0.21434861421585083,
          1.8122828006744385,
          -0.8836127519607544,
          -0.9152471423149109,
          0.7272060513496399,
          -1.1235883235931396,
          0.8096891045570374,
          1.3651186227798462,
          0.5399599075317383,
          -1.7729111909866333,
          0.036253806203603745,
          3.07792067527771,
          -0.21159379184246063,
          -2.2326512336730957,
          -1.0483661890029907,
          -0.379619836807251,
          -0.29187092185020447,
          1.4753508567810059,
          -0.9590513110160828,
          -0.3837733566761017,
          -0.4794938266277313,
          -3.024880886077881,
          1.68974769115448,
          0.4707801342010498,
          1.3502172231674194,
          -0.09284460544586182,
          -1.9456887245178223,
          2.3053925037384033,
          -1.676605224609375,
          -2.823681354522705,
          -0.999725341796875,
          -1.5163124799728394,
          1.3807872533798218,
          0.6122972965240479,
          2.525390863418579,
          -1.037880301475525,
          -2.1351704597473145,
          -1.0175317525863647,
          3.185847520828247,
          1.6554501056671143,
          2.0758678913116455,
          1.873639702796936,
          -0.22137655317783356,
          -1.5216232538223267,
          -0.5214264988899231,
          -1.5469791889190674,
          -1.4262858629226685,
          2.684555768966675,
          0.5883309245109558,
          2.3688364028930664,
          -2.269118070602417,
          2.422696113586426,
          4.21907901763916,
          -1.8085452318191528,
          -1.0897610187530518,
          -0.03772889822721481,
          2.393948793411255,
          -0.4846528172492981,
          2.486553907394409,
          0.5236507654190063,
          0.8472986817359924,
          0.05172376707196236,
          3.124722480773926,
          5.854240894317627,
          1.4588613510131836,
          -0.4045165181159973,
          -0.028563670814037323,
          2.3172075748443604,
          -0.38616320490837097,
          -1.1169160604476929,
          3.129854440689087,
          2.877210855484009,
          -0.08752298355102539,
          1.000282883644104,
          -3.2610082626342773,
          1.7294509410858154,
          1.7799015045166016,
          2.7141001224517822,
          2.151517868041992,
          1.5024482011795044,
          -0.4851302206516266,
          -0.6579272150993347,
          0.9369421005249023,
          -2.886117696762085,
          0.23741401731967926,
          2.6459085941314697,
          -0.45990753173828125,
          2.8568038940429688,
          2.6156563758850098,
          3.2759628295898438,
          0.0809737965464592,
          0.14462481439113617,
          1.1254106760025024,
          -0.5692812204360962,
          3.9940245151519775,
          1.3396391868591309,
          3.37336802482605,
          1.2256733179092407,
          3.5490081310272217,
          -0.4172040522098541,
          3.26239275932312,
          -1.9753954410552979,
          1.758327603340149,
          3.3335158824920654,
          -0.25242185592651367,
          4.195810317993164,
          1.1375735998153687,
          -2.5545806884765625,
          2.3631486892700195,
          0.7708827257156372,
          1.1515357494354248,
          -2.2053160667419434,
          -0.632752537727356,
          2.8362109661102295,
          -0.9947612881660461,
          2.30009388923645,
          -1.708240270614624,
          -1.5346778631210327,
          4.390632629394531,
          1.9466986656188965,
          1.5756198167800903,
          0.25618311762809753,
          0.3876512348651886,
          -1.7865734100341797,
          -0.9256994128227234,
          -1.2398117780685425,
          0.6389297246932983,
          3.422299385070801,
          4.304561614990234,
          3.164393663406372,
          1.055648922920227,
          -2.048724889755249,
          2.1767148971557617,
          2.9163990020751953,
          0.5098318457603455,
          -1.202554702758789,
          0.6924508810043335,
          0.9515840411186218,
          1.0625522136688232,
          -1.05116605758667,
          3.727903127670288,
          -0.006327325478196144,
          -1.0522329807281494,
          -0.511464536190033,
          -1.2320926189422607,
          1.5775758028030396,
          -2.5100760459899902,
          5.113592624664307,
          -0.8923134803771973,
          1.9318673610687256,
          -0.4038254916667938,
          1.7803312540054321,
          2.0377352237701416,
          -2.3521556854248047,
          -2.8482420444488525,
          0.04923612251877785,
          6.186712265014648,
          2.3111133575439453,
          0.981202244758606,
          -2.333287239074707,
          -1.4870810508728027,
          -0.5553216934204102,
          -1.1045074462890625,
          -2.5359957218170166,
          -3.035393238067627,
          -1.5260006189346313,
          -0.23990574479103088,
          1.4728429317474365,
          3.519402027130127,
          1.0282368659973145,
          0.344672292470932,
          3.622025728225708,
          -0.604446291923523,
          1.4471431970596313,
          0.30475419759750366,
          2.8112590312957764,
          1.4263478517532349,
          1.2095887660980225,
          0.7195762991905212,
          -3.1538264751434326,
          2.255392074584961,
          0.05097765475511551,
          2.462303638458252,
          -1.7130722999572754,
          2.7427186965942383,
          2.6931324005126953,
          -1.9127534627914429,
          0.5744507312774658,
          -0.471538245677948,
          -0.45156124234199524,
          3.3875651359558105,
          -1.7956478595733643,
          1.5760492086410522,
          -2.5766804218292236,
          1.808860421180725,
          0.038816921412944794,
          -1.901292324066162,
          1.9250762462615967,
          2.9173989295959473,
          2.6976799964904785,
          1.5606712102890015,
          -2.047062397003174,
          0.7144694328308105,
          4.290010452270508,
          1.4330812692642212,
          0.7954040169715881,
          1.5563346147537231,
          1.1528069972991943,
          1.5740686655044556,
          -2.60811185836792,
          -1.8794152736663818,
          -1.2890275716781616,
          -0.0972273051738739,
          0.08095324039459229,
          -0.05265031382441521,
          4.359005451202393,
          2.0201807022094727,
          2.244457721710205,
          1.4864009618759155,
          6.152312755584717,
          0.5548113584518433,
          2.847466468811035,
          -1.4485844373703003,
          -1.8489532470703125,
          1.2557975053787231,
          2.9144601821899414,
          2.246046781539917,
          1.026734471321106,
          -0.7219153642654419,
          -1.5411946773529053,
          1.416739583015442,
          3.4710898399353027,
          0.7312419414520264,
          2.3869552612304688,
          3.570382595062256,
          -0.47593098878860474,
          2.3070638179779053,
          0.8303340077400208,
          -1.0247479677200317,
          1.8015986680984497,
          1.4986492395401,
          3.0735347270965576,
          -1.9865357875823975,
          3.0449769496917725,
          1.8284835815429688,
          1.409009337425232,
          0.8534685373306274,
          -1.6353673934936523,
          0.5298061370849609,
          5.863812446594238,
          -0.49967628717422485,
          1.4859224557876587,
          2.4945778846740723,
          -2.9187428951263428,
          2.5317883491516113,
          -0.7075100541114807,
          -0.10291876643896103,
          -0.5712921023368835,
          3.8272693157196045,
          1.4472793340682983,
          -1.239261269569397,
          -0.38250574469566345,
          0.7191194295883179,
          3.1582400798797607,
          1.0391063690185547,
          -1.8960157632827759,
          -0.5698031783103943,
          -0.81867516040802,
          0.9805057644844055,
          -1.625627040863037,
          -1.590821385383606,
          0.8373208045959473,
          3.7087674140930176,
          -2.3574891090393066,
          0.9552178978919983,
          -1.8941847085952759,
          1.3060842752456665,
          -2.1388444900512695,
          5.297232627868652,
          -1.1436736583709717,
          3.1286733150482178,
          -0.6578149795532227,
          -0.39461687207221985,
          5.984209060668945,
          -2.5925486087799072,
          -0.9528753757476807,
          0.14943337440490723,
          -0.0382981114089489,
          3.7207648754119873,
          0.7493002414703369,
          1.7668352127075195,
          1.1230006217956543,
          -0.39924776554107666,
          -0.5040777921676636,
          2.705237627029419,
          0.6585975885391235,
          -0.00983627513051033,
          -0.48870283365249634,
          1.9171712398529053,
          3.048860549926758,
          2.6781351566314697,
          -0.01996196247637272,
          -2.136812210083008,
          -0.2708239257335663,
          3.5269668102264404,
          2.018649101257324,
          -1.5295323133468628,
          2.9635770320892334,
          -1.0485697984695435,
          -0.3153516948223114,
          -2.110753297805786,
          -1.2657486200332642,
          1.1524709463119507,
          -2.819467544555664,
          1.904719591140747,
          -0.9175683856010437,
          -3.185291051864624,
          1.303552508354187,
          3.3702900409698486,
          1.6531155109405518,
          -0.9099738597869873,
          4.369472503662109,
          -1.3381750583648682,
          -2.7906320095062256,
          -0.8135014772415161,
          4.369353771209717,
          1.5308637619018555,
          5.382742404937744,
          3.0102450847625732,
          4.35712194442749,
          -2.131075143814087,
          3.969890594482422,
          2.7586700916290283,
          -1.501953363418579,
          -0.3789542615413666,
          0.945942759513855,
          -1.8878587484359741,
          -2.5705723762512207,
          2.2133657932281494,
          -1.582546591758728,
          1.282906174659729,
          -1.0274558067321777,
          3.1811134815216064,
          0.6306628584861755,
          0.5202969312667847,
          1.4977385997772217,
          3.4428915977478027,
          0.24650928378105164,
          3.194679021835327,
          2.979430675506592,
          2.65812087059021,
          0.9933627843856812,
          0.5222376585006714,
          -0.29096707701683044,
          3.274742603302002,
          1.7032445669174194,
          5.953226566314697,
          2.1215505599975586,
          -0.4825403690338135,
          -1.0143852233886719,
          -1.2996175289154053,
          -2.0050339698791504,
          1.3756599426269531,
          2.761878252029419,
          0.23976914584636688,
          2.6464805603027344,
          2.4032347202301025,
          3.341261863708496,
          0.6057218909263611,
          -2.7202866077423096,
          -1.058471918106079,
          -1.5178332328796387,
          2.787930488586426,
          -0.6357865333557129,
          0.7263920307159424,
          0.8644861578941345,
          -0.45507192611694336,
          -1.0763392448425293,
          -1.6340714693069458,
          -1.4950132369995117,
          2.4938716888427734,
          0.07910707592964172,
          -0.45418328046798706,
          2.898789644241333,
          -0.10246675461530685,
          -0.47683092951774597,
          3.5182509422302246,
          1.0711417198181152,
          -0.38897374272346497,
          -1.0644357204437256,
          0.8219990730285645,
          0.17162738740444183,
          2.6261274814605713,
          -1.3956341743469238,
          -0.19461971521377563,
          -1.212735891342163,
          -1.5688683986663818,
          0.6246412992477417,
          0.9665624499320984,
          -3.0968692302703857,
          -1.5883430242538452,
          2.503107786178589,
          -0.18133412301540375,
          1.5584619045257568,
          1.7559808492660522,
          -1.736100673675537,
          0.7004927396774292,
          3.246400833129883,
          2.3084053993225098,
          0.10580923408269882,
          3.195082664489746,
          0.36289775371551514,
          1.6175931692123413,
          4.354832172393799,
          -2.1280107498168945,
          -1.4431800842285156,
          -0.3145289123058319,
          -1.6988348960876465,
          -1.472015142440796,
          3.196333169937134,
          -1.976628065109253,
          2.109722137451172,
          0.6827833652496338,
          1.0245566368103027,
          3.243220567703247,
          -1.0758419036865234,
          -2.907667875289917,
          -1.5191608667373657,
          -3.17612624168396,
          -0.8279837965965271,
          4.426130294799805,
          2.819380521774292,
          -0.17945660650730133,
          -1.2018101215362549,
          2.1320950984954834,
          3.553457736968994,
          -0.5581132173538208,
          -0.863512396812439,
          2.95039439201355,
          -1.181680679321289,
          1.019806981086731,
          -3.2823572158813477,
          1.845306634902954,
          2.7243869304656982,
          2.049624443054199,
          0.050718002021312714,
          -2.4087276458740234,
          -0.019147003069519997,
          0.9688568711280823,
          2.0838983058929443,
          3.598672389984131,
          -1.963661789894104,
          2.6759493350982666,
          2.691953182220459,
          0.7573432922363281,
          0.5324814915657043,
          4.40096378326416,
          -1.4068528413772583,
          1.6947213411331177,
          -0.9757863879203796,
          -1.3482372760772705,
          0.9527629613876343,
          0.48590877652168274,
          -1.8206782341003418,
          2.765685558319092,
          2.6963095664978027,
          0.14478740096092224,
          -1.6462562084197998,
          0.33618804812431335,
          4.326280117034912,
          -0.21293063461780548,
          4.150415897369385,
          3.428246259689331,
          2.0173144340515137,
          2.29362416267395,
          -0.19583076238632202,
          1.503641963005066,
          0.5401511192321777,
          2.9165477752685547,
          -2.396503210067749,
          0.7728235125541687,
          -0.4015042185783386,
          1.7755781412124634,
          2.02752947807312,
          -1.531566858291626,
          -0.27940595149993896,
          -1.5934343338012695,
          1.934468150138855,
          2.9569458961486816,
          -0.6885247826576233,
          0.8100739121437073,
          1.2370890378952026,
          0.7443764805793762,
          -2.4116342067718506,
          -2.1429405212402344,
          -0.10981263220310211,
          -1.7702556848526,
          -1.5536465644836426,
          -1.2506459951400757,
          3.087212324142456,
          4.02931547164917,
          5.913768768310547,
          3.8533101081848145,
          -1.392099142074585,
          1.1320627927780151,
          0.10454141348600388,
          -0.7600142955780029,
          0.8023668527603149,
          -1.0130311250686646,
          -1.609586477279663,
          -0.6134424805641174,
          0.6019657850265503,
          0.7995240688323975,
          4.29556941986084,
          -0.2654373347759247,
          -0.5489864349365234,
          5.3793463706970215,
          -0.44817405939102173,
          2.9766764640808105,
          2.7712185382843018,
          -2.5298092365264893,
          1.3305611610412598,
          -1.5708128213882446,
          1.3814032077789307,
          -3.174802780151367,
          1.0473119020462036,
          -0.14395977556705475,
          4.2764997482299805,
          5.415295600891113,
          -0.5383804440498352,
          3.772404670715332,
          1.1397732496261597,
          1.3770818710327148,
          1.927098274230957,
          -1.4851926565170288,
          0.010373465716838837,
          0.9114757776260376,
          2.876268148422241,
          -0.28406551480293274,
          1.8588435649871826,
          3.5322189331054688,
          2.3091015815734863,
          -1.5717977285385132,
          -1.1896610260009766,
          2.924428939819336,
          -0.20591402053833008,
          -1.768391489982605,
          -0.7185741662979126,
          1.0254795551300049,
          -2.313565731048584,
          -2.8469796180725098,
          -0.00023813020379748195,
          0.5658894777297974,
          -2.147203207015991,
          5.911917686462402,
          -2.8966665267944336,
          -2.4940290451049805,
          2.23488187789917,
          2.1039011478424072,
          1.9994815587997437,
          -1.9372822046279907,
          3.508486032485962,
          0.2596781551837921,
          -2.648925304412842,
          2.8780806064605713,
          2.5933611392974854,
          -2.8602497577667236,
          -0.8599551916122437,
          1.7448208332061768,
          2.743696689605713,
          -1.5705986022949219,
          3.2819759845733643,
          -1.6026793718338013,
          -1.5543737411499023,
          1.519025206565857,
          -1.8234003782272339,
          -0.4123729467391968,
          -1.0465449094772339,
          3.4411072731018066,
          1.9908229112625122,
          2.901005983352661,
          2.1557719707489014,
          1.58860445022583,
          2.805619478225708,
          2.2073073387145996,
          2.609443187713623,
          1.5728965997695923,
          0.10286031663417816,
          -0.16331280767917633,
          0.6846487522125244,
          -1.7675557136535645,
          -1.9312362670898438,
          2.739612340927124,
          -2.3448874950408936,
          -1.521135926246643,
          -0.13796347379684448,
          0.5766962766647339,
          2.5589349269866943,
          -1.148041009902954,
          3.5373454093933105,
          -1.8970894813537598,
          1.5034133195877075,
          -0.4765371084213257,
          2.502781867980957,
          -0.9974223971366882,
          -0.49351197481155396,
          3.6627748012542725,
          0.7181188464164734,
          0.17382265627384186,
          0.2525220811367035,
          1.387405276298523,
          -0.6528422236442566,
          -2.348996162414551,
          1.8474597930908203,
          -0.8025646209716797,
          1.9877111911773682,
          -1.4289871454238892,
          -1.0246224403381348,
          -1.8222260475158691,
          1.534292459487915,
          1.8143202066421509,
          -1.1140623092651367,
          0.810030460357666,
          2.078911066055298,
          1.762731671333313,
          -0.5790497660636902,
          0.19336943328380585,
          1.593172550201416,
          -1.4969477653503418,
          0.6611932516098022,
          2.750375270843506,
          -1.05979585647583,
          -1.711509108543396,
          -0.08657672256231308,
          3.446985960006714,
          0.01948395185172558,
          -2.0533971786499023,
          3.059936285018921,
          1.9376962184906006,
          -1.6489094495773315,
          0.6577974557876587,
          0.4871026575565338,
          1.4840465784072876,
          3.7007155418395996,
          2.216843605041504,
          1.7600678205490112,
          -0.37363046407699585,
          0.4567483961582184,
          -0.08893731981515884,
          -0.9912602305412292,
          5.324309349060059,
          0.6049007773399353,
          -0.3657599985599518,
          2.4481775760650635,
          1.3856931924819946,
          -0.4960746169090271,
          -0.9894539713859558,
          2.866879940032959,
          -1.6296899318695068,
          0.8422369956970215,
          1.6297105550765991,
          1.7962865829467773,
          0.5430128574371338,
          2.2518367767333984,
          1.3550249338150024,
          1.8912439346313477,
          0.5708282589912415,
          3.1759121417999268,
          1.4962061643600464,
          -1.1634516716003418,
          -0.9557463526725769,
          1.2051994800567627,
          -1.5000476837158203,
          -0.5567618608474731,
          4.4083571434021,
          -0.3099460303783417,
          1.600951910018921,
          0.07316159456968307,
          0.4218491017818451,
          1.9054217338562012,
          -1.5484390258789062,
          -0.8276636004447937,
          3.67301344871521,
          -1.6841024160385132,
          -2.1800661087036133,
          3.621670961380005,
          1.5037181377410889,
          -0.5434611439704895,
          0.7758069038391113,
          3.553473472595215,
          0.717189371585846,
          -2.8249354362487793,
          -2.1530890464782715,
          -1.4647904634475708,
          0.4744994640350342,
          -0.9661909341812134,
          -1.489430546760559,
          -1.9714837074279785,
          1.6560710668563843,
          1.993668556213379,
          -1.920317530632019,
          3.095691680908203,
          2.5957798957824707,
          2.224334955215454,
          1.5097733736038208,
          -2.844496250152588,
          -0.4697939455509186,
          2.4411704540252686,
          -1.948111653327942,
          -0.9176383018493652,
          0.6784915328025818,
          -1.2563787698745728,
          -3.1609833240509033,
          6.1021409034729,
          -0.49905872344970703,
          0.897879958152771,
          0.08780964463949203,
          -1.4475051164627075,
          -0.5681725144386292,
          0.8470545411109924,
          1.6933866739273071,
          1.9817017316818237,
          5.460899829864502,
          0.3124843239784241,
          1.3069844245910645,
          -0.8316804766654968,
          0.25405219197273254,
          5.798892021179199,
          5.212481498718262,
          0.13144400715827942,
          0.9265260696411133,
          -1.0566434860229492,
          4.388963222503662,
          2.7134268283843994,
          1.5223734378814697,
          1.4945933818817139,
          -1.774034857749939,
          -1.0317362546920776,
          5.560412406921387,
          2.149439573287964,
          0.3204052746295929,
          0.9320977926254272,
          -0.491425096988678,
          2.3158414363861084,
          -0.25865277647972107,
          3.176028251647949,
          0.7512140274047852,
          0.7167744636535645,
          1.225515604019165,
          -1.8607542514801025,
          -2.1565232276916504,
          -0.12954576313495636,
          2.026794910430908,
          -1.0802098512649536,
          1.8758538961410522,
          -0.0759107917547226,
          -1.5796111822128296,
          2.314647912979126,
          -1.8387418985366821,
          -1.1073567867279053,
          3.9596426486968994,
          -1.544045090675354,
          6.1433258056640625,
          5.347387313842773,
          4.279017925262451,
          3.1895065307617188,
          -3.0350699424743652,
          3.003833532333374,
          -2.2533395290374756,
          2.069830894470215,
          -0.4594639241695404,
          -2.775716543197632,
          3.8273792266845703,
          1.4498975276947021,
          -1.942273736000061,
          -0.47545126080513,
          2.154963731765747,
          2.7156155109405518,
          -2.0209786891937256,
          1.595123529434204,
          -0.14039215445518494,
          0.730509340763092,
          -1.307547926902771,
          0.504012942314148,
          1.7913583517074585,
          0.5908958315849304,
          0.15509536862373352,
          5.171182155609131,
          3.579005479812622,
          1.8269751071929932,
          -0.8651703000068665,
          -2.5999248027801514,
          -1.5981662273406982,
          -0.47192609310150146,
          -1.415016531944275,
          0.26049551367759705,
          -1.540639042854309,
          -1.6380460262298584,
          5.82312536239624,
          0.34382951259613037,
          -1.1402908563613892,
          1.313742756843567,
          -1.4839839935302734,
          2.9274888038635254,
          2.903841018676758,
          -1.8184200525283813,
          -1.8751527070999146,
          0.35416358709335327,
          3.2792439460754395,
          5.225391864776611,
          1.4124705791473389,
          2.114192247390747,
          1.9538447856903076,
          1.7585065364837646,
          2.748542547225952,
          -2.2517805099487305,
          0.07998988032341003,
          2.4672365188598633,
          -2.7089459896087646,
          2.6480507850646973,
          -0.6311241388320923,
          -0.36637890338897705,
          -1.3467849493026733,
          1.9068349599838257,
          3.2019858360290527,
          2.3860206604003906,
          0.6051738262176514,
          -1.3425877094268799,
          -2.03493595123291,
          -1.3508291244506836,
          -2.9377474784851074,
          0.6036047339439392,
          2.5217771530151367,
          -0.0886169895529747,
          -0.050568629056215286,
          -0.9208576679229736,
          -0.9945257306098938,
          0.8093990087509155,
          2.698836088180542,
          -1.2631094455718994,
          6.166362762451172,
          1.5176960229873657,
          2.669954538345337,
          -1.9212418794631958,
          -2.422675848007202,
          1.5134670734405518,
          -2.1270525455474854,
          -2.684528350830078,
          3.1872079372406006,
          -0.43860718607902527,
          4.340487957000732,
          1.2888165712356567,
          0.6142809987068176,
          1.007825493812561,
          0.8238589763641357,
          2.3687005043029785,
          3.1776087284088135,
          1.8447229862213135,
          3.233318567276001,
          -0.7061812877655029,
          -0.9707810282707214,
          -1.0770617723464966,
          -1.4641512632369995,
          -1.5575391054153442,
          -2.257296085357666,
          -1.5842738151550293,
          -0.573184072971344,
          0.5147609710693359,
          5.867069244384766,
          3.137312412261963,
          -1.8361843824386597,
          -0.0021191812120378017,
          -2.635948657989502,
          -0.05747932940721512,
          -0.048936568200588226,
          -0.3211522400379181,
          -0.30431753396987915,
          1.6657947301864624,
          2.6477673053741455,
          0.9028505086898804,
          1.7407304048538208,
          3.659454822540283,
          -0.9098833203315735,
          0.47837716341018677,
          -0.7245028018951416,
          1.8857308626174927,
          -1.687639594078064,
          0.3794800043106079,
          -1.1122163534164429,
          3.7492990493774414,
          2.987058162689209,
          0.8033393621444702,
          3.6701302528381348,
          -0.4682730734348297,
          2.5298495292663574,
          4.23419189453125,
          -0.5919421911239624,
          1.738882064819336,
          2.990788698196411,
          1.3290547132492065,
          -2.7100603580474854,
          -0.9818024635314941,
          0.72330242395401,
          -2.8074469566345215,
          -2.303271532058716,
          2.670159101486206,
          -3.2411293983459473,
          1.138192892074585,
          3.736600399017334,
          -2.065601110458374,
          -0.7729645371437073,
          2.924696207046509,
          -1.5141868591308594,
          2.8577256202697754,
          -1.3513985872268677,
          2.940244197845459,
          -2.2184605598449707,
          -0.564197301864624,
          1.71126127243042,
          -1.4813786745071411,
          1.7399736642837524,
          6.196100234985352,
          -2.5982089042663574,
          3.434885263442993,
          4.406088829040527,
          3.318350076675415,
          2.815837860107422,
          -1.4460422992706299,
          3.5499839782714844,
          1.2905224561691284,
          1.3668830394744873,
          0.3006117641925812,
          5.364786624908447,
          1.3224669694900513,
          -0.07153194397687912,
          0.6629852652549744,
          2.442117214202881,
          -1.4908525943756104,
          -2.059626579284668,
          0.8373806476593018,
          5.621352195739746,
          3.492988109588623,
          0.3638102114200592,
          0.744937539100647,
          -1.782548189163208,
          -2.2411880493164062,
          2.3288588523864746,
          -2.8178160190582275,
          1.2002032995224,
          3.0834290981292725,
          1.881890892982483,
          0.33182090520858765,
          2.7048892974853516,
          2.3071861267089844,
          0.0018917988054454327,
          2.0168724060058594,
          1.6637499332427979,
          -0.5263907313346863,
          2.6792893409729004,
          0.7904755473136902,
          5.404046058654785,
          -1.0645955801010132,
          1.4911373853683472,
          1.9636881351470947,
          -0.3131658732891083,
          4.344940662384033,
          2.268681287765503,
          2.64166259765625,
          -1.4601802825927734,
          -1.445218563079834,
          -1.1829358339309692,
          2.1910040378570557,
          1.451809048652649,
          3.5080463886260986,
          2.2051661014556885,
          3.5296032428741455,
          -2.275400400161743,
          -2.731931447982788,
          -0.8943239450454712,
          1.6768620014190674,
          -1.8685795068740845,
          -0.7786398530006409,
          1.2168971300125122,
          -0.5684917569160461,
          -0.4173162579536438,
          2.4668569564819336,
          -2.729382038116455,
          -1.3736884593963623,
          1.3637982606887817,
          -2.6993675231933594,
          -2.2236108779907227,
          -0.11408676207065582,
          4.9548659324646,
          -1.4111512899398804,
          2.813857316970825,
          3.406574249267578,
          1.7580149173736572,
          0.5734766125679016,
          -1.9996517896652222,
          4.021729469299316,
          0.013347188010811806,
          1.8052024841308594,
          1.2413570880889893,
          -1.0323082208633423,
          2.5641720294952393,
          2.296529769897461,
          0.34661027789115906,
          2.377263069152832,
          3.31207013130188,
          -0.032675836235284805,
          4.35072660446167,
          0.7279658317565918,
          2.9170961380004883,
          2.498148202896118,
          -2.0031073093414307,
          1.001315712928772,
          1.7394765615463257,
          -0.006563808303326368,
          0.7784725427627563,
          0.8030881285667419,
          0.6158851981163025,
          -2.1211585998535156,
          -2.8030269145965576,
          0.6765615344047546,
          0.760265052318573,
          5.147130489349365,
          0.024356761947274208,
          0.9929827451705933,
          -1.0456329584121704,
          -0.4577000141143799,
          3.44389271736145,
          -2.2067084312438965,
          2.054776191711426,
          -0.2555374205112457,
          1.3423824310302734,
          0.5261196494102478,
          3.1848556995391846,
          0.2728295922279358,
          1.8674272298812866,
          1.7468699216842651,
          -1.4651384353637695,
          3.190195322036743,
          5.485449314117432,
          -1.4172673225402832,
          0.982184886932373,
          -0.4495598375797272,
          0.8095414638519287,
          2.548095703125,
          -0.6498529314994812,
          -0.49616551399230957,
          3.285355567932129,
          -1.6332054138183594,
          -3.004136323928833,
          1.0207146406173706,
          3.0566446781158447,
          -1.395147442817688,
          2.317373752593994,
          -1.956426978111267,
          2.9591290950775146,
          -2.4265058040618896,
          -2.2607638835906982,
          -1.6065820455551147,
          5.136103630065918,
          -0.7298778891563416,
          -0.6689898371696472,
          2.8517422676086426,
          -0.008099894970655441,
          2.4232940673828125,
          2.3163528442382812,
          3.228922128677368,
          -1.708429217338562,
          -2.7767281532287598,
          4.273935794830322,
          -0.4838100075721741,
          1.0120010375976562,
          0.19316835701465607,
          5.9377970695495605,
          2.46799898147583,
          0.346286803483963,
          1.5157699584960938,
          -0.468731164932251,
          2.3691816329956055,
          -0.14609751105308533,
          1.8152666091918945,
          0.15993283689022064,
          -1.399279236793518,
          -2.8200995922088623,
          -0.8688492178916931,
          -2.6897330284118652,
          1.4889088869094849,
          0.5640257000923157,
          -2.7098240852355957,
          -1.274491548538208,
          0.5174531936645508,
          0.8087636828422546,
          -1.568764090538025,
          -1.065582513809204,
          0.5026018619537354,
          -0.7639296054840088,
          3.9639079570770264,
          -0.24965763092041016,
          0.8855355381965637,
          6.182403564453125,
          0.5933413505554199,
          4.09970235824585,
          -0.21913878619670868,
          5.951656341552734,
          -1.7892154455184937,
          0.5014415383338928,
          -1.1053788661956787,
          0.5545657277107239,
          0.9826465845108032,
          0.7885954976081848,
          -1.2746031284332275,
          4.259856224060059,
          2.0730390548706055,
          -1.3767964839935303,
          2.8624610900878906,
          -0.3024444580078125,
          1.1115503311157227,
          0.7432895302772522,
          4.369410514831543,
          -3.2912120819091797,
          1.6063406467437744,
          0.7696263790130615,
          -1.589479684829712,
          -2.328979730606079,
          -3.0891942977905273,
          0.14516498148441315,
          -1.3941832780838013,
          3.2436981201171875,
          0.5492857694625854,
          -0.5425947308540344,
          -0.9436817765235901,
          2.9424149990081787,
          0.6234017014503479,
          -1.1139942407608032,
          3.3272438049316406,
          -2.880863666534424,
          -0.5525110960006714,
          3.6225738525390625,
          3.133023262023926,
          2.6071338653564453,
          -2.7241365909576416,
          -0.9898862838745117,
          0.9307476878166199,
          -2.163327693939209,
          1.4618371725082397,
          2.97273588180542,
          0.2950878441333771,
          -1.2776401042938232,
          0.6049211025238037,
          0.6631509065628052,
          0.5145623683929443,
          -1.1518218517303467,
          -0.27045366168022156,
          1.846403956413269,
          -2.3080880641937256,
          0.7755286693572998,
          0.5055710673332214,
          -2.257927656173706,
          -0.34266889095306396,
          1.0623046159744263,
          0.6329774856567383,
          2.0264034271240234,
          2.941561222076416,
          -0.0020167401526123285,
          1.567522644996643,
          -0.5370330810546875,
          1.9699503183364868,
          -0.9041499495506287,
          0.6452051401138306,
          -0.047261886298656464,
          1.1071301698684692,
          2.3524482250213623,
          2.901066303253174,
          3.8385307788848877,
          -1.5010781288146973,
          3.6732215881347656,
          1.3986176252365112,
          -1.6320685148239136,
          3.636821985244751,
          1.53755784034729,
          0.8762773871421814,
          -0.7195287942886353,
          0.6986603140830994,
          -2.0376107692718506,
          -1.783225655555725,
          -2.1396446228027344,
          1.6896291971206665,
          -0.005563389044255018,
          0.9903542995452881,
          -0.6431053876876831,
          2.647634744644165,
          -0.7589753866195679,
          0.7740556597709656,
          -3.3083434104919434,
          2.3106794357299805,
          -2.257476806640625,
          3.4777374267578125,
          -2.7549376487731934,
          -0.12373271584510803,
          1.2599436044692993,
          0.19784875214099884,
          -1.7016798257827759,
          2.908360004425049,
          1.9752553701400757,
          2.0805675983428955,
          -3.274049758911133,
          -1.4211584329605103,
          -1.4589381217956543,
          -2.420870304107666,
          -0.42788609862327576,
          2.9048333168029785,
          -2.848362684249878,
          1.841758131980896,
          0.346386581659317,
          2.3506860733032227,
          -1.4691649675369263,
          -1.6315200328826904,
          0.6121067404747009,
          0.11774352937936783,
          0.6814484596252441,
          1.9123425483703613,
          2.813743829727173,
          -1.8522655963897705,
          -1.6657912731170654,
          0.9107581377029419,
          -0.445471853017807,
          -1.3217519521713257,
          2.918036699295044,
          -1.474043607711792
         ],
         "xaxis": "x",
         "y": [
          6.192302227020264,
          9.104290962219238,
          9.869576454162598,
          8.40722942352295,
          8.53248405456543,
          7.493895053863525,
          7.4931416511535645,
          8.443262100219727,
          5.4691853523254395,
          9.094626426696777,
          10.270364761352539,
          5.8791069984436035,
          9.119966506958008,
          5.005847454071045,
          8.253795623779297,
          7.260388374328613,
          8.567767143249512,
          6.305399417877197,
          4.7204437255859375,
          11.252367973327637,
          11.12440013885498,
          7.665454387664795,
          8.284910202026367,
          8.578239440917969,
          10.656795501708984,
          7.849416255950928,
          6.019521713256836,
          6.794718265533447,
          7.423762321472168,
          7.912784099578857,
          8.713627815246582,
          7.480203151702881,
          4.596024513244629,
          9.691386222839355,
          10.279651641845703,
          8.797569274902344,
          8.396000862121582,
          5.152580738067627,
          11.275097846984863,
          7.51739501953125,
          11.231647491455078,
          5.028680801391602,
          6.455533981323242,
          7.48082160949707,
          8.903595924377441,
          6.0252766609191895,
          11.544074058532715,
          6.7181196212768555,
          10.004602432250977,
          5.283393859863281,
          9.123241424560547,
          7.871518611907959,
          8.334016799926758,
          6.552720069885254,
          7.257961273193359,
          11.6470947265625,
          11.866988182067871,
          5.085167407989502,
          8.259300231933594,
          9.625356674194336,
          11.684002876281738,
          7.747448444366455,
          8.798150062561035,
          9.715653419494629,
          11.537778854370117,
          7.223975658416748,
          7.258901596069336,
          9.645284652709961,
          12.193082809448242,
          9.827230453491211,
          5.577079772949219,
          6.184109210968018,
          9.32327938079834,
          7.285519599914551,
          10.188735008239746,
          9.62282657623291,
          5.208837032318115,
          11.186260223388672,
          5.983582019805908,
          5.7253828048706055,
          9.843230247497559,
          6.188156604766846,
          7.922049045562744,
          9.584826469421387,
          5.66485595703125,
          9.799222946166992,
          8.609785079956055,
          8.131799697875977,
          10.389459609985352,
          6.530422687530518,
          8.842225074768066,
          8.748437881469727,
          12.463981628417969,
          10.290452003479004,
          9.468128204345703,
          6.638382911682129,
          8.456583023071289,
          5.38589334487915,
          9.245182991027832,
          9.765379905700684,
          6.13547420501709,
          6.519006729125977,
          8.154150009155273,
          6.041062831878662,
          10.485180854797363,
          9.265467643737793,
          9.200450897216797,
          7.198860168457031,
          11.217138290405273,
          10.416020393371582,
          12.161937713623047,
          9.215678215026855,
          6.7371039390563965,
          4.652821063995361,
          9.884143829345703,
          11.737448692321777,
          12.379581451416016,
          10.698326110839844,
          7.499696254730225,
          6.002469539642334,
          6.6955461502075195,
          11.812556266784668,
          9.689192771911621,
          7.278326511383057,
          9.398665428161621,
          7.5373430252075195,
          8.145661354064941,
          10.230175971984863,
          4.691503524780273,
          9.696457862854004,
          9.094430923461914,
          8.887972831726074,
          10.278343200683594,
          8.320220947265625,
          8.220778465270996,
          7.821401119232178,
          8.4915189743042,
          8.135366439819336,
          6.086894989013672,
          9.577400207519531,
          6.225465774536133,
          11.837361335754395,
          9.085611343383789,
          7.231331825256348,
          5.614380836486816,
          7.11906099319458,
          9.828315734863281,
          9.7402925491333,
          6.338573932647705,
          5.215249061584473,
          6.876476764678955,
          7.697174549102783,
          9.92484188079834,
          9.217679023742676,
          11.938508987426758,
          9.183676719665527,
          9.176863670349121,
          9.699865341186523,
          8.797505378723145,
          7.426699638366699,
          8.709540367126465,
          9.389984130859375,
          4.669105529785156,
          5.993191719055176,
          11.612359046936035,
          6.951310157775879,
          6.004821300506592,
          7.285984039306641,
          9.910965919494629,
          7.312266826629639,
          4.660548210144043,
          5.169947147369385,
          7.200193881988525,
          4.72189474105835,
          6.4158854484558105,
          6.518754482269287,
          9.34998893737793,
          6.819354057312012,
          9.318131446838379,
          7.500619411468506,
          9.836365699768066,
          12.317760467529297,
          7.621513843536377,
          5.7350921630859375,
          5.191928386688232,
          9.947534561157227,
          10.299585342407227,
          11.44972038269043,
          9.764375686645508,
          12.153726577758789,
          9.273838996887207,
          7.931186199188232,
          8.965402603149414,
          10.477173805236816,
          11.928479194641113,
          7.62905740737915,
          5.158220291137695,
          11.433887481689453,
          6.694849491119385,
          9.809536933898926,
          8.216501235961914,
          10.4651517868042,
          4.584455966949463,
          5.445651054382324,
          6.134679794311523,
          6.183835983276367,
          7.140309810638428,
          9.271881103515625,
          9.446447372436523,
          9.00114917755127,
          7.580682277679443,
          9.410420417785645,
          9.909233093261719,
          8.632091522216797,
          8.546539306640625,
          8.922565460205078,
          11.718415260314941,
          7.2612996101379395,
          10.225262641906738,
          10.111944198608398,
          6.532179832458496,
          8.759556770324707,
          11.493775367736816,
          8.888740539550781,
          10.894495964050293,
          9.15122127532959,
          6.096902370452881,
          9.64388370513916,
          9.936639785766602,
          8.419930458068848,
          7.828802585601807,
          6.713464736938477,
          7.884202480316162,
          9.15406322479248,
          11.557950019836426,
          8.326245307922363,
          8.582441329956055,
          6.943782329559326,
          7.510552883148193,
          5.665687561035156,
          6.19192361831665,
          9.893070220947266,
          7.084239959716797,
          5.014452934265137,
          12.135480880737305,
          7.291570663452148,
          12.331354141235352,
          12.295501708984375,
          11.230708122253418,
          4.769444465637207,
          6.269044876098633,
          10.718295097351074,
          5.7237958908081055,
          6.044743537902832,
          5.81520938873291,
          9.515861511230469,
          9.91949462890625,
          6.2449212074279785,
          6.151750087738037,
          10.435479164123535,
          4.586724758148193,
          9.939977645874023,
          8.561577796936035,
          7.7454705238342285,
          7.306263446807861,
          9.69641399383545,
          8.920085906982422,
          9.203747749328613,
          12.348386764526367,
          5.788636207580566,
          8.349006652832031,
          8.385275840759277,
          5.209862232208252,
          8.417963981628418,
          5.353341579437256,
          8.249035835266113,
          9.361729621887207,
          11.225414276123047,
          8.292147636413574,
          10.571769714355469,
          9.147422790527344,
          9.661619186401367,
          10.223271369934082,
          5.430711269378662,
          9.881531715393066,
          6.211119651794434,
          10.37338924407959,
          5.415561676025391,
          11.611214637756348,
          10.012657165527344,
          11.45445442199707,
          9.270790100097656,
          5.400659084320068,
          12.382035255432129,
          9.621485710144043,
          6.164021015167236,
          8.558351516723633,
          7.040696620941162,
          8.157417297363281,
          11.252275466918945,
          8.094476699829102,
          11.372197151184082,
          5.5984110832214355,
          7.216267108917236,
          6.905208110809326,
          6.000676155090332,
          4.681717872619629,
          7.464590549468994,
          7.581467628479004,
          7.853793144226074,
          6.898601055145264,
          6.2481184005737305,
          11.613183975219727,
          10.362338066101074,
          11.340245246887207,
          7.508031368255615,
          5.105866432189941,
          10.878336906433105,
          7.964574337005615,
          5.911565780639648,
          7.924720764160156,
          5.9523186683654785,
          8.7708740234375,
          9.790740966796875,
          4.807501316070557,
          11.6138277053833,
          10.034778594970703,
          9.354693412780762,
          7.14909553527832,
          12.366035461425781,
          10.422499656677246,
          9.898862838745117,
          7.509525775909424,
          9.778465270996094,
          6.851225852966309,
          10.022342681884766,
          10.107111930847168,
          5.207852840423584,
          5.98165225982666,
          7.594820976257324,
          6.987331867218018,
          5.692381858825684,
          7.285191059112549,
          12.414379119873047,
          11.44476318359375,
          5.7280592918396,
          8.768157005310059,
          9.749963760375977,
          7.899507522583008,
          6.679569721221924,
          5.781993865966797,
          8.824506759643555,
          8.730818748474121,
          7.620938301086426,
          4.875631332397461,
          7.582130432128906,
          8.178569793701172,
          10.012743949890137,
          6.278197288513184,
          8.760005950927734,
          6.675554275512695,
          8.440038681030273,
          10.442797660827637,
          8.885297775268555,
          5.723349094390869,
          9.564536094665527,
          7.989834785461426,
          4.835392951965332,
          5.491287708282471,
          6.778423309326172,
          5.404808521270752,
          5.688415050506592,
          8.498007774353027,
          7.428081035614014,
          6.69282865524292,
          7.416444778442383,
          9.981193542480469,
          10.996410369873047,
          5.541578769683838,
          6.962375164031982,
          9.82463550567627,
          9.124712944030762,
          5.231893539428711,
          9.618010520935059,
          6.033870697021484,
          9.786767959594727,
          7.885051727294922,
          8.083287239074707,
          6.158423900604248,
          7.257759094238281,
          9.943660736083984,
          11.301412582397461,
          6.691356182098389,
          5.2331132888793945,
          12.12763500213623,
          10.136459350585938,
          6.631876468658447,
          10.487024307250977,
          9.331184387207031,
          7.331396102905273,
          8.75934886932373,
          5.4686760902404785,
          8.508946418762207,
          7.987712860107422,
          12.108545303344727,
          9.259968757629395,
          8.308976173400879,
          8.457854270935059,
          7.860352993011475,
          8.275567054748535,
          5.86909818649292,
          8.415767669677734,
          6.079854488372803,
          8.486051559448242,
          9.730048179626465,
          10.27695369720459,
          6.793750286102295,
          7.831702709197998,
          5.368429183959961,
          8.566797256469727,
          11.822598457336426,
          9.387748718261719,
          8.88577651977539,
          6.858015060424805,
          9.617044448852539,
          5.8216166496276855,
          10.413043022155762,
          9.397815704345703,
          7.551992893218994,
          7.763125419616699,
          10.312013626098633,
          7.538840293884277,
          9.949620246887207,
          7.937443256378174,
          5.351546764373779,
          10.67001724243164,
          7.783949375152588,
          5.533475399017334,
          7.351902961730957,
          7.948372840881348,
          8.808643341064453,
          9.124972343444824,
          8.33553695678711,
          9.318193435668945,
          9.554927825927734,
          12.176397323608398,
          12.277616500854492,
          7.531345367431641,
          10.861583709716797,
          8.687674522399902,
          10.28266429901123,
          5.897061347961426,
          5.513124942779541,
          6.712924003601074,
          10.195218086242676,
          12.32264232635498,
          8.736185073852539,
          5.494949817657471,
          7.484391212463379,
          7.989448547363281,
          7.543731212615967,
          7.434871673583984,
          7.897335052490234,
          8.378042221069336,
          11.312837600708008,
          7.831212043762207,
          8.719725608825684,
          9.786478996276855,
          9.651110649108887,
          5.940404415130615,
          11.407443046569824,
          6.631289482116699,
          6.2550811767578125,
          5.402006149291992,
          7.941197872161865,
          5.488993167877197,
          10.652789115905762,
          7.436266899108887,
          11.426034927368164,
          5.759215354919434,
          9.942422866821289,
          8.080164909362793,
          8.91496467590332,
          7.486822605133057,
          8.848459243774414,
          8.924052238464355,
          5.2566986083984375,
          9.691539764404297,
          5.164305210113525,
          9.278326034545898,
          9.883085250854492,
          10.178013801574707,
          8.83757209777832,
          4.849445343017578,
          10.007417678833008,
          10.428451538085938,
          6.6853156089782715,
          8.021008491516113,
          9.001595497131348,
          10.420896530151367,
          7.319828510284424,
          4.804319381713867,
          11.711297988891602,
          7.882967472076416,
          5.512637138366699,
          5.891489505767822,
          5.880274772644043,
          5.717447280883789,
          10.696643829345703,
          6.1003193855285645,
          10.450715065002441,
          6.018561363220215,
          7.706608295440674,
          6.098787307739258,
          7.2683796882629395,
          9.234365463256836,
          6.7316975593566895,
          9.804883003234863,
          7.628068447113037,
          12.192007064819336,
          6.734358787536621,
          10.092514038085938,
          10.199328422546387,
          6.530950546264648,
          9.58379077911377,
          7.690394401550293,
          10.375335693359375,
          7.687650203704834,
          7.672487735748291,
          8.940155029296875,
          8.830741882324219,
          9.975041389465332,
          9.1131591796875,
          7.6280598640441895,
          4.971776962280273,
          6.948017597198486,
          9.195460319519043,
          10.451754570007324,
          6.211209774017334,
          5.652515411376953,
          10.33314323425293,
          7.528899669647217,
          10.142319679260254,
          7.388962268829346,
          7.365546703338623,
          6.208624839782715,
          9.768477439880371,
          7.185286045074463,
          4.883591175079346,
          8.054793357849121,
          5.480059623718262,
          9.811262130737305,
          7.011805534362793,
          8.207290649414062,
          8.257026672363281,
          7.623781681060791,
          7.900588512420654,
          10.979249000549316,
          5.312173843383789,
          6.671600818634033,
          11.490394592285156,
          8.401307106018066,
          5.054664134979248,
          12.00773811340332,
          9.40565299987793,
          9.53820514678955,
          11.056330680847168,
          10.339472770690918,
          5.7593817710876465,
          8.903070449829102,
          5.9982991218566895,
          9.806668281555176,
          11.716720581054688,
          11.80634880065918,
          5.095632076263428,
          10.170714378356934,
          8.819259643554688,
          9.38918399810791,
          9.907073020935059,
          7.953854560852051,
          12.214445114135742,
          10.224446296691895,
          5.710290431976318,
          11.705398559570312,
          7.303709983825684,
          10.107518196105957,
          5.633430004119873,
          9.574597358703613,
          7.903822422027588,
          7.851648330688477,
          5.807786464691162,
          10.156769752502441,
          10.530200004577637,
          7.776741981506348,
          12.113935470581055,
          10.2240571975708,
          10.594378471374512,
          6.988453388214111,
          8.018166542053223,
          10.383186340332031,
          7.632369518280029,
          7.254785060882568,
          9.86839771270752,
          10.433999061584473,
          5.996685028076172,
          9.052277565002441,
          10.727038383483887,
          8.514883041381836,
          7.039994239807129,
          8.429205894470215,
          5.908501625061035,
          10.200719833374023,
          9.970539093017578,
          7.616030693054199,
          10.4527006149292,
          9.390670776367188,
          10.52834415435791,
          5.086276531219482,
          5.829309463500977,
          7.9581427574157715,
          6.701020240783691,
          9.785816192626953,
          10.45916748046875,
          12.308158874511719,
          9.834409713745117,
          10.16254711151123,
          7.137582302093506,
          6.686124324798584,
          5.1502814292907715,
          5.928469657897949,
          6.122474670410156,
          9.029789924621582,
          5.560523509979248,
          6.839854717254639,
          9.186586380004883,
          5.406396389007568,
          8.559932708740234,
          7.206377029418945,
          8.72982406616211,
          10.058188438415527,
          7.623501777648926,
          7.533529281616211,
          8.095002174377441,
          5.7926411628723145,
          11.520862579345703,
          8.683640480041504,
          10.673940658569336,
          5.020824909210205,
          8.906579971313477,
          7.6376519203186035,
          4.96142053604126,
          8.727198600769043,
          12.42712688446045,
          9.655339241027832,
          11.754975318908691,
          6.811692237854004,
          7.523275375366211,
          5.7722649574279785,
          5.3634867668151855,
          12.400253295898438,
          5.938291549682617,
          10.40404224395752,
          7.990018844604492,
          5.829020023345947,
          8.561783790588379,
          7.215023994445801,
          6.8770856857299805,
          7.356736183166504,
          7.369302749633789,
          10.041149139404297,
          9.400782585144043,
          11.843517303466797,
          12.428619384765625,
          7.365705490112305,
          10.187615394592285,
          4.746945858001709,
          6.165682315826416,
          6.220700740814209,
          10.481972694396973,
          7.355667591094971,
          5.714313507080078,
          7.664163589477539,
          9.572283744812012,
          6.847352504730225,
          9.20268440246582,
          10.813114166259766,
          5.031092643737793,
          10.503410339355469,
          6.032367706298828,
          7.798542499542236,
          7.285453796386719,
          7.650062561035156,
          4.716350078582764,
          6.543684482574463,
          7.338959217071533,
          9.025107383728027,
          7.261283874511719,
          7.70507287979126,
          6.761783123016357,
          5.151548385620117,
          6.9969611167907715,
          5.1214423179626465,
          10.247801780700684,
          11.688942909240723,
          7.667022228240967,
          6.177447319030762,
          7.600221157073975,
          9.822457313537598,
          10.371794700622559,
          7.421937942504883,
          10.64407730102539,
          10.187424659729004,
          8.662209510803223,
          9.651301383972168,
          9.064436912536621,
          7.552425384521484,
          10.286839485168457,
          9.496575355529785,
          11.677117347717285,
          10.126038551330566,
          5.020295143127441,
          6.834285259246826,
          5.48935604095459,
          7.224119663238525,
          6.760544300079346,
          10.777169227600098,
          6.1356201171875,
          10.493395805358887,
          9.859757423400879,
          9.279189109802246,
          12.289288520812988,
          5.875003814697266,
          8.992204666137695,
          5.704219818115234,
          11.89367961883545,
          5.8951544761657715,
          9.122897148132324,
          7.539736270904541,
          4.68333101272583,
          6.669302463531494,
          11.866143226623535,
          8.971710205078125,
          9.612176895141602,
          5.051231384277344,
          7.494472026824951,
          5.47299337387085,
          10.356411933898926,
          7.034604072570801,
          11.145614624023438,
          7.7092485427856445,
          12.438820838928223,
          9.707911491394043,
          5.9976630210876465,
          9.226099014282227,
          7.69875431060791,
          11.032780647277832,
          10.23831844329834,
          10.168609619140625,
          5.795856952667236,
          6.542440414428711,
          10.224225997924805,
          7.575254917144775,
          9.925982475280762,
          9.797027587890625,
          5.93557071685791,
          7.46993350982666,
          6.024443626403809,
          9.400928497314453,
          9.04968547821045,
          9.872812271118164,
          10.41667366027832,
          9.848567008972168,
          6.677154541015625,
          6.461314678192139,
          11.296483039855957,
          5.48671817779541,
          10.244790077209473,
          9.17116641998291,
          9.734347343444824,
          12.276162147521973,
          5.341643333435059,
          6.662574291229248,
          5.247135639190674,
          5.113452434539795,
          10.2606840133667,
          9.12145709991455,
          10.249970436096191,
          5.601893424987793,
          7.524823188781738,
          8.160357475280762,
          9.028923034667969,
          6.180721282958984,
          7.345370292663574,
          12.22795581817627,
          9.727018356323242,
          6.684966564178467,
          10.176284790039062,
          11.695337295532227,
          10.33471393585205,
          9.406346321105957,
          9.625184059143066,
          9.007664680480957,
          4.995578765869141,
          12.255977630615234,
          7.324369430541992,
          5.427582740783691,
          9.250602722167969,
          11.924072265625,
          9.325068473815918,
          10.418195724487305,
          11.56435775756836,
          11.561888694763184,
          5.313559055328369,
          11.61911392211914,
          5.88555383682251,
          6.517673015594482,
          7.954861164093018,
          5.708273887634277,
          8.880894660949707,
          8.313760757446289,
          5.112722873687744,
          6.660685062408447,
          9.860246658325195,
          10.110048294067383,
          7.722011089324951,
          10.973204612731934,
          10.155815124511719,
          11.76278305053711,
          10.863618850708008,
          11.748440742492676,
          9.1754150390625,
          8.78138542175293,
          5.77760124206543,
          6.557121753692627,
          8.878005981445312,
          8.622443199157715,
          5.408634662628174,
          7.537012577056885,
          11.54833984375,
          8.449300765991211,
          10.050920486450195,
          8.479889869689941,
          12.161114692687988,
          11.467923164367676,
          5.001298904418945,
          6.8089919090271,
          7.502471923828125,
          5.795061111450195,
          9.185454368591309,
          9.129892349243164,
          5.207597732543945,
          9.205121040344238,
          5.423342704772949,
          6.656220436096191,
          8.369751930236816,
          7.738964080810547,
          4.565787315368652,
          6.075756072998047,
          10.835086822509766,
          11.486491203308105,
          9.075676918029785,
          7.823896408081055,
          8.446385383605957,
          9.737142562866211,
          12.283381462097168,
          5.845135688781738,
          5.659942626953125,
          8.02379322052002,
          7.286201477050781,
          7.7108283042907715,
          10.561471939086914,
          10.046401023864746,
          7.169068813323975,
          11.645657539367676,
          7.867758274078369,
          6.377934455871582,
          7.7344160079956055,
          11.435957908630371,
          9.62518310546875,
          8.565680503845215,
          7.422218322753906,
          7.80305814743042,
          11.12945556640625,
          11.836243629455566,
          9.02849006652832,
          6.69348669052124,
          8.812763214111328,
          7.692147731781006,
          11.692649841308594,
          6.993267059326172,
          5.83935546875,
          5.988931655883789,
          9.388906478881836,
          6.793778896331787,
          6.415829658508301,
          6.784812927246094,
          4.933173656463623,
          10.169185638427734,
          9.031028747558594,
          7.1279778480529785,
          8.842233657836914,
          9.365656852722168,
          11.855658531188965,
          12.371315956115723,
          7.96124792098999,
          10.348538398742676,
          11.908377647399902,
          10.012218475341797,
          12.298264503479004,
          12.31080150604248,
          6.187665939331055,
          7.893842697143555,
          10.126426696777344,
          12.445981979370117,
          9.313253402709961,
          7.895564079284668,
          9.625657081604004,
          6.755431175231934,
          10.263456344604492,
          9.357569694519043,
          4.747725009918213,
          7.352739334106445,
          9.678947448730469,
          6.387081146240234,
          5.937902450561523,
          9.184012413024902,
          6.108554363250732,
          5.714090347290039,
          7.317053318023682,
          12.457344055175781,
          11.74692440032959,
          10.96821403503418,
          8.930349349975586,
          9.091767311096191,
          11.820242881774902,
          4.734155178070068,
          7.944631099700928,
          9.873971939086914,
          9.765592575073242,
          12.206923484802246,
          6.8020920753479,
          9.078291893005371,
          6.799877643585205,
          9.528024673461914,
          7.413282871246338,
          9.54527473449707,
          9.407613754272461,
          7.222429275512695,
          11.568076133728027,
          8.256011962890625,
          10.312483787536621,
          11.100516319274902,
          9.838723182678223,
          8.280808448791504,
          9.255467414855957,
          4.981667995452881,
          10.248275756835938,
          9.404743194580078,
          5.325636863708496,
          7.232161998748779,
          7.921436786651611,
          8.598461151123047,
          7.530134677886963,
          9.930074691772461,
          5.84923791885376,
          10.614767074584961,
          8.553815841674805,
          7.070721626281738,
          11.335633277893066,
          7.83189582824707,
          8.853225708007812,
          9.638776779174805,
          9.87378978729248,
          8.874781608581543,
          11.55524730682373,
          4.818399906158447,
          5.987392902374268,
          6.0936174392700195,
          12.010287284851074,
          7.230518817901611,
          7.351690769195557,
          9.660859107971191,
          5.065907955169678,
          5.4418535232543945,
          7.570168495178223,
          6.400254726409912,
          6.628848552703857,
          5.524412631988525,
          5.295548439025879,
          11.749115943908691,
          10.188019752502441,
          8.363341331481934,
          8.877010345458984,
          10.355058670043945,
          7.302994728088379,
          9.976490020751953,
          9.707655906677246,
          8.628911018371582,
          10.50265884399414,
          5.891381740570068,
          7.859891414642334,
          6.712771892547607,
          10.669020652770996,
          8.853378295898438,
          9.651399612426758,
          6.643306732177734,
          10.118069648742676,
          7.415984630584717,
          12.327526092529297,
          9.228470802307129,
          11.595316886901855,
          9.650228500366211,
          11.685269355773926,
          4.74066162109375,
          6.8784499168396,
          12.267081260681152,
          9.126399040222168,
          9.668441772460938,
          9.905167579650879,
          12.283815383911133,
          5.886432647705078,
          6.690439224243164,
          9.694083213806152,
          6.997952938079834,
          11.59060001373291,
          10.904292106628418,
          11.498661994934082,
          7.212578773498535,
          7.936293601989746,
          8.496221542358398,
          9.690515518188477,
          10.2042236328125,
          7.5071330070495605,
          8.382761001586914,
          9.950565338134766,
          10.282032012939453,
          5.718743801116943,
          9.015386581420898,
          9.960783958435059,
          10.00932502746582,
          10.379077911376953,
          12.248091697692871,
          7.527958869934082,
          7.907299041748047,
          10.152756690979004,
          5.021315097808838,
          8.871593475341797,
          12.163744926452637,
          9.858236312866211,
          5.29403829574585,
          11.678553581237793,
          5.49887228012085,
          12.479923248291016,
          11.971673965454102,
          12.3668851852417,
          9.670849800109863,
          9.104519844055176,
          11.830466270446777,
          9.63169002532959,
          8.950579643249512,
          5.805482864379883,
          9.963964462280273,
          7.467652797698975,
          7.229255199432373,
          9.884788513183594,
          5.721822261810303,
          9.786993980407715,
          7.350649356842041,
          5.89286470413208,
          6.1692094802856445,
          5.081672191619873,
          9.22756290435791,
          5.2935004234313965,
          7.31144380569458,
          9.86125659942627,
          11.740561485290527,
          7.303664207458496,
          9.706711769104004,
          12.156545639038086,
          8.707512855529785,
          11.776838302612305,
          7.370189189910889,
          5.537543296813965,
          9.697587966918945,
          8.7666597366333,
          9.814435005187988,
          7.216445446014404,
          6.744858741760254,
          7.838147163391113,
          9.063739776611328,
          7.887356758117676,
          10.056076049804688,
          9.22396183013916,
          5.5491509437561035,
          11.996835708618164,
          6.103241920471191,
          11.065364837646484,
          7.8747782707214355,
          7.284907341003418,
          8.52114486694336,
          7.40405797958374,
          9.025972366333008,
          9.86623477935791,
          9.753310203552246,
          5.909566879272461,
          10.16579532623291,
          8.98967456817627,
          6.040335655212402,
          9.652116775512695,
          6.219452857971191,
          9.005205154418945,
          11.139404296875,
          9.26953125,
          6.21919584274292,
          7.506866455078125,
          7.200095176696777,
          4.739321708679199,
          11.552971839904785,
          6.659268379211426,
          8.251945495605469,
          6.707343578338623,
          5.57175350189209,
          10.963324546813965,
          5.9636735916137695,
          7.784707069396973,
          11.637001991271973,
          4.726024150848389,
          5.072072982788086,
          7.164474964141846,
          8.66614818572998,
          5.030267238616943,
          6.196860313415527,
          9.717915534973145,
          8.452045440673828,
          9.711986541748047,
          9.46384334564209,
          9.888396263122559,
          5.6290602684021,
          11.343209266662598,
          11.742060661315918,
          9.089730262756348,
          12.319510459899902,
          12.363550186157227,
          8.840129852294922,
          9.48172664642334,
          9.446028709411621,
          8.200347900390625,
          7.341750621795654,
          6.873117446899414,
          7.931221008300781,
          8.222993850708008,
          12.022500038146973,
          11.298408508300781,
          8.577372550964355,
          11.22966480255127,
          12.370619773864746,
          5.107974529266357,
          10.35684871673584,
          7.667584419250488,
          11.119302749633789,
          10.265562057495117,
          5.031466007232666,
          9.870701789855957,
          6.619814395904541,
          7.6806793212890625,
          12.459661483764648,
          9.106985092163086,
          11.435689926147461,
          7.345001697540283,
          8.401880264282227,
          11.496561050415039,
          8.914375305175781,
          7.676772594451904,
          7.65009880065918,
          7.339351654052734,
          6.674813270568848,
          10.348370552062988,
          9.789949417114258,
          11.231671333312988,
          9.217456817626953,
          7.355854034423828,
          10.30334758758545,
          5.485130310058594,
          10.246309280395508,
          9.734885215759277,
          8.638888359069824,
          11.576883316040039,
          10.241252899169922,
          8.498212814331055,
          9.636536598205566,
          7.274384498596191,
          11.84487247467041,
          6.774789810180664,
          7.529354095458984,
          9.02633285522461,
          9.877972602844238,
          11.721763610839844,
          8.111801147460938,
          8.124683380126953,
          9.090874671936035,
          10.219691276550293,
          8.183823585510254,
          12.309492111206055,
          5.437653064727783,
          9.5089111328125,
          6.767795085906982,
          6.567787170410156,
          6.436581134796143,
          9.985260963439941,
          9.154306411743164,
          7.356004238128662,
          7.376086711883545,
          10.165610313415527,
          7.523599147796631,
          10.907644271850586,
          6.995932579040527,
          9.064884185791016,
          10.402372360229492,
          11.958335876464844,
          10.026972770690918,
          5.706495761871338,
          8.895824432373047,
          7.712276458740234,
          7.323507785797119,
          5.419379234313965,
          8.166158676147461,
          5.683771133422852,
          8.28499698638916,
          10.24817943572998,
          7.232332229614258,
          10.673686027526855,
          11.213573455810547,
          5.063351631164551,
          6.674555778503418,
          4.784541606903076,
          7.012088298797607,
          6.331803321838379,
          8.490056037902832,
          6.672451019287109,
          10.244377136230469,
          6.184493064880371,
          11.755962371826172,
          10.244279861450195,
          9.21500015258789,
          5.753684997558594,
          7.228190898895264,
          10.445405006408691,
          9.769197463989258,
          11.310953140258789,
          11.2652587890625,
          8.141220092773438,
          7.359065055847168,
          5.440196514129639,
          4.863193511962891,
          10.260103225708008,
          5.129813194274902,
          7.551276683807373,
          8.993523597717285,
          5.752789497375488,
          9.894522666931152,
          9.927055358886719,
          6.452901363372803,
          8.704715728759766,
          9.844990730285645,
          5.524194717407227,
          11.705352783203125,
          7.295289516448975,
          6.792123317718506,
          9.732670783996582,
          9.570892333984375,
          8.243992805480957,
          7.254876613616943,
          5.851377010345459,
          10.914188385009766,
          7.695087909698486,
          9.553169250488281,
          5.597601890563965,
          6.9864301681518555,
          7.874235153198242,
          5.40128755569458,
          9.199300765991211,
          5.819052696228027,
          11.08952808380127,
          7.855839252471924,
          7.77169132232666,
          12.372923851013184,
          11.083502769470215,
          7.720762729644775,
          5.170097827911377,
          9.015501022338867,
          7.008512496948242,
          10.147759437561035,
          11.037107467651367,
          9.814159393310547,
          10.092241287231445,
          9.26395320892334,
          5.08416748046875,
          11.631689071655273,
          11.855804443359375,
          10.461302757263184,
          7.328173637390137,
          8.365050315856934,
          8.090473175048828,
          5.194028377532959,
          10.499419212341309,
          8.553921699523926,
          9.98448371887207,
          9.24585247039795,
          5.049519062042236,
          7.933344841003418,
          10.163990020751953,
          6.074117660522461,
          5.627182960510254,
          5.433373928070068,
          5.609603404998779,
          5.838015079498291,
          9.626971244812012,
          8.303601264953613,
          5.40857458114624,
          11.522668838500977,
          7.422486782073975,
          12.170012474060059,
          6.0406575202941895,
          9.844983100891113,
          5.465841293334961,
          7.685629367828369,
          7.696374416351318,
          7.781919956207275,
          5.789083957672119,
          11.520015716552734,
          9.947622299194336,
          10.474458694458008,
          8.518514633178711,
          8.683908462524414,
          12.348331451416016,
          6.953311920166016,
          9.506773948669434,
          7.911407947540283,
          10.174221992492676,
          8.913122177124023,
          7.497718334197998,
          9.858246803283691,
          11.38344955444336,
          7.226027965545654,
          9.75649642944336,
          9.525137901306152,
          9.424116134643555,
          7.479647636413574,
          11.579049110412598,
          4.818273544311523,
          7.691399097442627,
          9.70447826385498,
          12.006964683532715,
          6.275412559509277,
          10.192635536193848,
          7.520052909851074,
          9.952835083007812,
          10.659610748291016,
          7.405135154724121,
          10.2953519821167,
          10.38524341583252,
          10.098145484924316,
          7.371314525604248,
          6.288469314575195,
          8.47432804107666,
          9.161022186279297,
          10.520511627197266,
          9.138311386108398,
          9.339396476745605,
          9.056998252868652,
          9.64465045928955,
          12.254202842712402,
          8.999935150146484,
          10.273938179016113,
          9.81347942352295,
          11.15412425994873,
          5.405571460723877,
          6.99063777923584,
          9.307584762573242,
          6.015143871307373,
          5.617895126342773,
          11.683817863464355,
          7.475269317626953,
          10.15556526184082,
          6.922501564025879,
          5.537428855895996,
          7.778319358825684,
          6.708665370941162,
          9.00751781463623,
          7.853962421417236,
          7.3688530921936035,
          6.9648118019104,
          5.53477668762207,
          9.052793502807617,
          9.06362247467041,
          9.90212345123291,
          7.870149612426758,
          5.159261703491211,
          4.724201202392578,
          9.328025817871094,
          5.534764289855957,
          10.408611297607422,
          10.216943740844727,
          11.910672187805176,
          11.706022262573242,
          9.500738143920898,
          7.659051895141602,
          6.809762954711914,
          7.941040515899658,
          7.879076957702637,
          9.50367546081543,
          7.097978115081787,
          9.785335540771484,
          7.4523606300354,
          9.832571983337402,
          12.095991134643555,
          4.87253999710083,
          11.984966278076172,
          8.01554012298584,
          5.136929035186768,
          11.649157524108887,
          12.322364807128906,
          6.829449653625488,
          8.745929718017578,
          6.940512180328369,
          7.392847061157227,
          6.5161638259887695,
          10.053935050964355,
          5.749337673187256,
          6.486617088317871,
          9.264471054077148,
          5.239537715911865,
          11.778139114379883,
          5.230909824371338,
          9.812597274780273,
          7.828727722167969,
          7.9397053718566895,
          9.58758544921875,
          6.170677185058594,
          10.19870376586914,
          12.198938369750977,
          8.901652336120605,
          5.424442291259766,
          5.148544788360596,
          10.464016914367676,
          11.6393461227417,
          7.962611198425293,
          10.745344161987305,
          6.291589736938477,
          10.314096450805664,
          7.583551406860352,
          10.3043794631958,
          8.725552558898926,
          6.428188323974609,
          6.175229072570801,
          11.045320510864258,
          9.89846420288086,
          5.308881759643555,
          9.705507278442383,
          7.508985996246338,
          7.410092830657959,
          7.033332347869873,
          8.47224235534668,
          5.3245038986206055,
          7.303313255310059,
          9.630706787109375,
          9.881011962890625,
          9.379021644592285,
          10.255770683288574,
          7.044050216674805,
          8.197192192077637,
          9.178744316101074,
          9.320140838623047,
          10.219918251037598,
          5.894429683685303,
          7.738785266876221,
          7.4913716316223145,
          6.4238457679748535,
          5.039467811584473,
          7.231408596038818,
          11.337627410888672,
          5.202425956726074,
          10.160829544067383,
          7.209720134735107,
          10.143940925598145,
          9.698995590209961,
          7.782797813415527,
          9.858800888061523,
          11.430194854736328,
          8.15927791595459,
          12.282881736755371,
          11.25877571105957,
          7.567022800445557,
          10.516332626342773,
          10.4022855758667,
          9.240439414978027,
          10.575779914855957,
          10.334872245788574,
          10.304400444030762,
          9.95626163482666
         ],
         "yaxis": "y"
        }
       ],
       "layout": {
        "coloraxis": {
         "colorbar": {
          "title": {
           "text": "KMeans_classes"
          }
         },
         "colorscale": [
          [
           0,
           "#0d0887"
          ],
          [
           0.1111111111111111,
           "#46039f"
          ],
          [
           0.2222222222222222,
           "#7201a8"
          ],
          [
           0.3333333333333333,
           "#9c179e"
          ],
          [
           0.4444444444444444,
           "#bd3786"
          ],
          [
           0.5555555555555556,
           "#d8576b"
          ],
          [
           0.6666666666666666,
           "#ed7953"
          ],
          [
           0.7777777777777778,
           "#fb9f3a"
          ],
          [
           0.8888888888888888,
           "#fdca26"
          ],
          [
           1,
           "#f0f921"
          ]
         ]
        },
        "legend": {
         "tracegroupgap": 0
        },
        "margin": {
         "t": 60
        },
        "template": {
         "data": {
          "bar": [
           {
            "error_x": {
             "color": "#2a3f5f"
            },
            "error_y": {
             "color": "#2a3f5f"
            },
            "marker": {
             "line": {
              "color": "#E5ECF6",
              "width": 0.5
             },
             "pattern": {
              "fillmode": "overlay",
              "size": 10,
              "solidity": 0.2
             }
            },
            "type": "bar"
           }
          ],
          "barpolar": [
           {
            "marker": {
             "line": {
              "color": "#E5ECF6",
              "width": 0.5
             },
             "pattern": {
              "fillmode": "overlay",
              "size": 10,
              "solidity": 0.2
             }
            },
            "type": "barpolar"
           }
          ],
          "carpet": [
           {
            "aaxis": {
             "endlinecolor": "#2a3f5f",
             "gridcolor": "white",
             "linecolor": "white",
             "minorgridcolor": "white",
             "startlinecolor": "#2a3f5f"
            },
            "baxis": {
             "endlinecolor": "#2a3f5f",
             "gridcolor": "white",
             "linecolor": "white",
             "minorgridcolor": "white",
             "startlinecolor": "#2a3f5f"
            },
            "type": "carpet"
           }
          ],
          "choropleth": [
           {
            "colorbar": {
             "outlinewidth": 0,
             "ticks": ""
            },
            "type": "choropleth"
           }
          ],
          "contour": [
           {
            "colorbar": {
             "outlinewidth": 0,
             "ticks": ""
            },
            "colorscale": [
             [
              0,
              "#0d0887"
             ],
             [
              0.1111111111111111,
              "#46039f"
             ],
             [
              0.2222222222222222,
              "#7201a8"
             ],
             [
              0.3333333333333333,
              "#9c179e"
             ],
             [
              0.4444444444444444,
              "#bd3786"
             ],
             [
              0.5555555555555556,
              "#d8576b"
             ],
             [
              0.6666666666666666,
              "#ed7953"
             ],
             [
              0.7777777777777778,
              "#fb9f3a"
             ],
             [
              0.8888888888888888,
              "#fdca26"
             ],
             [
              1,
              "#f0f921"
             ]
            ],
            "type": "contour"
           }
          ],
          "contourcarpet": [
           {
            "colorbar": {
             "outlinewidth": 0,
             "ticks": ""
            },
            "type": "contourcarpet"
           }
          ],
          "heatmap": [
           {
            "colorbar": {
             "outlinewidth": 0,
             "ticks": ""
            },
            "colorscale": [
             [
              0,
              "#0d0887"
             ],
             [
              0.1111111111111111,
              "#46039f"
             ],
             [
              0.2222222222222222,
              "#7201a8"
             ],
             [
              0.3333333333333333,
              "#9c179e"
             ],
             [
              0.4444444444444444,
              "#bd3786"
             ],
             [
              0.5555555555555556,
              "#d8576b"
             ],
             [
              0.6666666666666666,
              "#ed7953"
             ],
             [
              0.7777777777777778,
              "#fb9f3a"
             ],
             [
              0.8888888888888888,
              "#fdca26"
             ],
             [
              1,
              "#f0f921"
             ]
            ],
            "type": "heatmap"
           }
          ],
          "heatmapgl": [
           {
            "colorbar": {
             "outlinewidth": 0,
             "ticks": ""
            },
            "colorscale": [
             [
              0,
              "#0d0887"
             ],
             [
              0.1111111111111111,
              "#46039f"
             ],
             [
              0.2222222222222222,
              "#7201a8"
             ],
             [
              0.3333333333333333,
              "#9c179e"
             ],
             [
              0.4444444444444444,
              "#bd3786"
             ],
             [
              0.5555555555555556,
              "#d8576b"
             ],
             [
              0.6666666666666666,
              "#ed7953"
             ],
             [
              0.7777777777777778,
              "#fb9f3a"
             ],
             [
              0.8888888888888888,
              "#fdca26"
             ],
             [
              1,
              "#f0f921"
             ]
            ],
            "type": "heatmapgl"
           }
          ],
          "histogram": [
           {
            "marker": {
             "pattern": {
              "fillmode": "overlay",
              "size": 10,
              "solidity": 0.2
             }
            },
            "type": "histogram"
           }
          ],
          "histogram2d": [
           {
            "colorbar": {
             "outlinewidth": 0,
             "ticks": ""
            },
            "colorscale": [
             [
              0,
              "#0d0887"
             ],
             [
              0.1111111111111111,
              "#46039f"
             ],
             [
              0.2222222222222222,
              "#7201a8"
             ],
             [
              0.3333333333333333,
              "#9c179e"
             ],
             [
              0.4444444444444444,
              "#bd3786"
             ],
             [
              0.5555555555555556,
              "#d8576b"
             ],
             [
              0.6666666666666666,
              "#ed7953"
             ],
             [
              0.7777777777777778,
              "#fb9f3a"
             ],
             [
              0.8888888888888888,
              "#fdca26"
             ],
             [
              1,
              "#f0f921"
             ]
            ],
            "type": "histogram2d"
           }
          ],
          "histogram2dcontour": [
           {
            "colorbar": {
             "outlinewidth": 0,
             "ticks": ""
            },
            "colorscale": [
             [
              0,
              "#0d0887"
             ],
             [
              0.1111111111111111,
              "#46039f"
             ],
             [
              0.2222222222222222,
              "#7201a8"
             ],
             [
              0.3333333333333333,
              "#9c179e"
             ],
             [
              0.4444444444444444,
              "#bd3786"
             ],
             [
              0.5555555555555556,
              "#d8576b"
             ],
             [
              0.6666666666666666,
              "#ed7953"
             ],
             [
              0.7777777777777778,
              "#fb9f3a"
             ],
             [
              0.8888888888888888,
              "#fdca26"
             ],
             [
              1,
              "#f0f921"
             ]
            ],
            "type": "histogram2dcontour"
           }
          ],
          "mesh3d": [
           {
            "colorbar": {
             "outlinewidth": 0,
             "ticks": ""
            },
            "type": "mesh3d"
           }
          ],
          "parcoords": [
           {
            "line": {
             "colorbar": {
              "outlinewidth": 0,
              "ticks": ""
             }
            },
            "type": "parcoords"
           }
          ],
          "pie": [
           {
            "automargin": true,
            "type": "pie"
           }
          ],
          "scatter": [
           {
            "fillpattern": {
             "fillmode": "overlay",
             "size": 10,
             "solidity": 0.2
            },
            "type": "scatter"
           }
          ],
          "scatter3d": [
           {
            "line": {
             "colorbar": {
              "outlinewidth": 0,
              "ticks": ""
             }
            },
            "marker": {
             "colorbar": {
              "outlinewidth": 0,
              "ticks": ""
             }
            },
            "type": "scatter3d"
           }
          ],
          "scattercarpet": [
           {
            "marker": {
             "colorbar": {
              "outlinewidth": 0,
              "ticks": ""
             }
            },
            "type": "scattercarpet"
           }
          ],
          "scattergeo": [
           {
            "marker": {
             "colorbar": {
              "outlinewidth": 0,
              "ticks": ""
             }
            },
            "type": "scattergeo"
           }
          ],
          "scattergl": [
           {
            "marker": {
             "colorbar": {
              "outlinewidth": 0,
              "ticks": ""
             }
            },
            "type": "scattergl"
           }
          ],
          "scattermapbox": [
           {
            "marker": {
             "colorbar": {
              "outlinewidth": 0,
              "ticks": ""
             }
            },
            "type": "scattermapbox"
           }
          ],
          "scatterpolar": [
           {
            "marker": {
             "colorbar": {
              "outlinewidth": 0,
              "ticks": ""
             }
            },
            "type": "scatterpolar"
           }
          ],
          "scatterpolargl": [
           {
            "marker": {
             "colorbar": {
              "outlinewidth": 0,
              "ticks": ""
             }
            },
            "type": "scatterpolargl"
           }
          ],
          "scatterternary": [
           {
            "marker": {
             "colorbar": {
              "outlinewidth": 0,
              "ticks": ""
             }
            },
            "type": "scatterternary"
           }
          ],
          "surface": [
           {
            "colorbar": {
             "outlinewidth": 0,
             "ticks": ""
            },
            "colorscale": [
             [
              0,
              "#0d0887"
             ],
             [
              0.1111111111111111,
              "#46039f"
             ],
             [
              0.2222222222222222,
              "#7201a8"
             ],
             [
              0.3333333333333333,
              "#9c179e"
             ],
             [
              0.4444444444444444,
              "#bd3786"
             ],
             [
              0.5555555555555556,
              "#d8576b"
             ],
             [
              0.6666666666666666,
              "#ed7953"
             ],
             [
              0.7777777777777778,
              "#fb9f3a"
             ],
             [
              0.8888888888888888,
              "#fdca26"
             ],
             [
              1,
              "#f0f921"
             ]
            ],
            "type": "surface"
           }
          ],
          "table": [
           {
            "cells": {
             "fill": {
              "color": "#EBF0F8"
             },
             "line": {
              "color": "white"
             }
            },
            "header": {
             "fill": {
              "color": "#C8D4E3"
             },
             "line": {
              "color": "white"
             }
            },
            "type": "table"
           }
          ]
         },
         "layout": {
          "annotationdefaults": {
           "arrowcolor": "#2a3f5f",
           "arrowhead": 0,
           "arrowwidth": 1
          },
          "autotypenumbers": "strict",
          "coloraxis": {
           "colorbar": {
            "outlinewidth": 0,
            "ticks": ""
           }
          },
          "colorscale": {
           "diverging": [
            [
             0,
             "#8e0152"
            ],
            [
             0.1,
             "#c51b7d"
            ],
            [
             0.2,
             "#de77ae"
            ],
            [
             0.3,
             "#f1b6da"
            ],
            [
             0.4,
             "#fde0ef"
            ],
            [
             0.5,
             "#f7f7f7"
            ],
            [
             0.6,
             "#e6f5d0"
            ],
            [
             0.7,
             "#b8e186"
            ],
            [
             0.8,
             "#7fbc41"
            ],
            [
             0.9,
             "#4d9221"
            ],
            [
             1,
             "#276419"
            ]
           ],
           "sequential": [
            [
             0,
             "#0d0887"
            ],
            [
             0.1111111111111111,
             "#46039f"
            ],
            [
             0.2222222222222222,
             "#7201a8"
            ],
            [
             0.3333333333333333,
             "#9c179e"
            ],
            [
             0.4444444444444444,
             "#bd3786"
            ],
            [
             0.5555555555555556,
             "#d8576b"
            ],
            [
             0.6666666666666666,
             "#ed7953"
            ],
            [
             0.7777777777777778,
             "#fb9f3a"
            ],
            [
             0.8888888888888888,
             "#fdca26"
            ],
            [
             1,
             "#f0f921"
            ]
           ],
           "sequentialminus": [
            [
             0,
             "#0d0887"
            ],
            [
             0.1111111111111111,
             "#46039f"
            ],
            [
             0.2222222222222222,
             "#7201a8"
            ],
            [
             0.3333333333333333,
             "#9c179e"
            ],
            [
             0.4444444444444444,
             "#bd3786"
            ],
            [
             0.5555555555555556,
             "#d8576b"
            ],
            [
             0.6666666666666666,
             "#ed7953"
            ],
            [
             0.7777777777777778,
             "#fb9f3a"
            ],
            [
             0.8888888888888888,
             "#fdca26"
            ],
            [
             1,
             "#f0f921"
            ]
           ]
          },
          "colorway": [
           "#636efa",
           "#EF553B",
           "#00cc96",
           "#ab63fa",
           "#FFA15A",
           "#19d3f3",
           "#FF6692",
           "#B6E880",
           "#FF97FF",
           "#FECB52"
          ],
          "font": {
           "color": "#2a3f5f"
          },
          "geo": {
           "bgcolor": "white",
           "lakecolor": "white",
           "landcolor": "#E5ECF6",
           "showlakes": true,
           "showland": true,
           "subunitcolor": "white"
          },
          "hoverlabel": {
           "align": "left"
          },
          "hovermode": "closest",
          "mapbox": {
           "style": "light"
          },
          "paper_bgcolor": "white",
          "plot_bgcolor": "#E5ECF6",
          "polar": {
           "angularaxis": {
            "gridcolor": "white",
            "linecolor": "white",
            "ticks": ""
           },
           "bgcolor": "#E5ECF6",
           "radialaxis": {
            "gridcolor": "white",
            "linecolor": "white",
            "ticks": ""
           }
          },
          "scene": {
           "xaxis": {
            "backgroundcolor": "#E5ECF6",
            "gridcolor": "white",
            "gridwidth": 2,
            "linecolor": "white",
            "showbackground": true,
            "ticks": "",
            "zerolinecolor": "white"
           },
           "yaxis": {
            "backgroundcolor": "#E5ECF6",
            "gridcolor": "white",
            "gridwidth": 2,
            "linecolor": "white",
            "showbackground": true,
            "ticks": "",
            "zerolinecolor": "white"
           },
           "zaxis": {
            "backgroundcolor": "#E5ECF6",
            "gridcolor": "white",
            "gridwidth": 2,
            "linecolor": "white",
            "showbackground": true,
            "ticks": "",
            "zerolinecolor": "white"
           }
          },
          "shapedefaults": {
           "line": {
            "color": "#2a3f5f"
           }
          },
          "ternary": {
           "aaxis": {
            "gridcolor": "white",
            "linecolor": "white",
            "ticks": ""
           },
           "baxis": {
            "gridcolor": "white",
            "linecolor": "white",
            "ticks": ""
           },
           "bgcolor": "#E5ECF6",
           "caxis": {
            "gridcolor": "white",
            "linecolor": "white",
            "ticks": ""
           }
          },
          "title": {
           "x": 0.05
          },
          "xaxis": {
           "automargin": true,
           "gridcolor": "white",
           "linecolor": "white",
           "ticks": "",
           "title": {
            "standoff": 15
           },
           "zerolinecolor": "white",
           "zerolinewidth": 2
          },
          "yaxis": {
           "automargin": true,
           "gridcolor": "white",
           "linecolor": "white",
           "ticks": "",
           "title": {
            "standoff": 15
           },
           "zerolinecolor": "white",
           "zerolinewidth": 2
          }
         }
        },
        "xaxis": {
         "anchor": "y",
         "domain": [
          0,
          1
         ],
         "title": {
          "text": "tsne_x"
         }
        },
        "yaxis": {
         "anchor": "x",
         "domain": [
          0,
          1
         ],
         "title": {
          "text": "tsne_y"
         }
        }
       }
      }
     },
     "metadata": {},
     "output_type": "display_data"
    }
   ],
   "source": [
    "fig = px.scatter(\n",
    "    X_tsne_pd, x=\"tsne_x\", y=\"tsne_y\", hover_data=[\"text\"], color=\"KMeans_classes\"\n",
    ")\n",
    "fig.show()"
   ]
  },
  {
   "cell_type": "code",
   "execution_count": 26,
   "metadata": {},
   "outputs": [
    {
     "data": {
      "text/html": [
       "<div>\n",
       "<style scoped>\n",
       "    .dataframe tbody tr th:only-of-type {\n",
       "        vertical-align: middle;\n",
       "    }\n",
       "\n",
       "    .dataframe tbody tr th {\n",
       "        vertical-align: top;\n",
       "    }\n",
       "\n",
       "    .dataframe thead th {\n",
       "        text-align: right;\n",
       "    }\n",
       "</style>\n",
       "<table border=\"1\" class=\"dataframe\">\n",
       "  <thead>\n",
       "    <tr style=\"text-align: right;\">\n",
       "      <th></th>\n",
       "      <th>tsne_x</th>\n",
       "      <th>tsne_y</th>\n",
       "      <th>text</th>\n",
       "      <th>KMeans_classes</th>\n",
       "    </tr>\n",
       "  </thead>\n",
       "  <tbody>\n",
       "    <tr>\n",
       "      <th>84</th>\n",
       "      <td>2.761922</td>\n",
       "      <td>5.664856</td>\n",
       "      <td>endometrial cancer metastatic</td>\n",
       "      <td>9</td>\n",
       "    </tr>\n",
       "    <tr>\n",
       "      <th>149</th>\n",
       "      <td>2.869312</td>\n",
       "      <td>5.215249</td>\n",
       "      <td>cervix carcinoma</td>\n",
       "      <td>9</td>\n",
       "    </tr>\n",
       "    <tr>\n",
       "      <th>203</th>\n",
       "      <td>3.232354</td>\n",
       "      <td>5.445651</td>\n",
       "      <td>transitional cell carcinoma metastatic</td>\n",
       "      <td>9</td>\n",
       "    </tr>\n",
       "    <tr>\n",
       "      <th>239</th>\n",
       "      <td>2.780092</td>\n",
       "      <td>5.665688</td>\n",
       "      <td>breast cancer metastatic</td>\n",
       "      <td>9</td>\n",
       "    </tr>\n",
       "    <tr>\n",
       "      <th>302</th>\n",
       "      <td>2.525391</td>\n",
       "      <td>5.598411</td>\n",
       "      <td>leiomyosarcoma recurrent</td>\n",
       "      <td>9</td>\n",
       "    </tr>\n",
       "    <tr>\n",
       "      <th>345</th>\n",
       "      <td>2.714100</td>\n",
       "      <td>5.728059</td>\n",
       "      <td>metastases to liver</td>\n",
       "      <td>9</td>\n",
       "    </tr>\n",
       "    <tr>\n",
       "      <th>368</th>\n",
       "      <td>3.262393</td>\n",
       "      <td>5.491288</td>\n",
       "      <td>metastatic carcinoma of the bladder</td>\n",
       "      <td>9</td>\n",
       "    </tr>\n",
       "    <tr>\n",
       "      <th>401</th>\n",
       "      <td>2.916399</td>\n",
       "      <td>5.468676</td>\n",
       "      <td>vulvar adenocarcinoma</td>\n",
       "      <td>9</td>\n",
       "    </tr>\n",
       "    <tr>\n",
       "      <th>452</th>\n",
       "      <td>2.742719</td>\n",
       "      <td>5.513125</td>\n",
       "      <td>lung cancer metastatic</td>\n",
       "      <td>9</td>\n",
       "    </tr>\n",
       "    <tr>\n",
       "      <th>492</th>\n",
       "      <td>1.255798</td>\n",
       "      <td>8.837572</td>\n",
       "      <td>regional chemotherapy</td>\n",
       "      <td>9</td>\n",
       "    </tr>\n",
       "    <tr>\n",
       "      <th>493</th>\n",
       "      <td>2.914460</td>\n",
       "      <td>4.849445</td>\n",
       "      <td>oesophageal carcinoma</td>\n",
       "      <td>9</td>\n",
       "    </tr>\n",
       "    <tr>\n",
       "      <th>562</th>\n",
       "      <td>2.705238</td>\n",
       "      <td>5.054664</td>\n",
       "      <td>squamous cell carcinoma of pharynx</td>\n",
       "      <td>9</td>\n",
       "    </tr>\n",
       "    <tr>\n",
       "      <th>568</th>\n",
       "      <td>2.678135</td>\n",
       "      <td>5.759382</td>\n",
       "      <td>metastasis</td>\n",
       "      <td>9</td>\n",
       "    </tr>\n",
       "    <tr>\n",
       "      <th>618</th>\n",
       "      <td>2.658121</td>\n",
       "      <td>5.829309</td>\n",
       "      <td>sinus cancer metastatic</td>\n",
       "      <td>9</td>\n",
       "    </tr>\n",
       "    <tr>\n",
       "      <th>660</th>\n",
       "      <td>2.626127</td>\n",
       "      <td>5.938292</td>\n",
       "      <td>metastases to lymph nodes</td>\n",
       "      <td>9</td>\n",
       "    </tr>\n",
       "    <tr>\n",
       "      <th>699</th>\n",
       "      <td>2.819381</td>\n",
       "      <td>5.151548</td>\n",
       "      <td>small cell carcinoma</td>\n",
       "      <td>9</td>\n",
       "    </tr>\n",
       "    <tr>\n",
       "      <th>720</th>\n",
       "      <td>2.675949</td>\n",
       "      <td>5.020295</td>\n",
       "      <td>nonkeratinising carcinoma of nasopharynx</td>\n",
       "      <td>9</td>\n",
       "    </tr>\n",
       "    <tr>\n",
       "      <th>733</th>\n",
       "      <td>2.696310</td>\n",
       "      <td>5.704220</td>\n",
       "      <td>breast angiosarcoma metastatic</td>\n",
       "      <td>9</td>\n",
       "    </tr>\n",
       "    <tr>\n",
       "      <th>787</th>\n",
       "      <td>2.771219</td>\n",
       "      <td>5.601893</td>\n",
       "      <td>breast cancer recurrent</td>\n",
       "      <td>9</td>\n",
       "    </tr>\n",
       "    <tr>\n",
       "      <th>805</th>\n",
       "      <td>2.876268</td>\n",
       "      <td>5.427583</td>\n",
       "      <td>metastatic bronchial carcinoma</td>\n",
       "      <td>9</td>\n",
       "    </tr>\n",
       "  </tbody>\n",
       "</table>\n",
       "</div>"
      ],
      "text/plain": [
       "       tsne_x    tsne_y                                      text  \\\n",
       "84   2.761922  5.664856             endometrial cancer metastatic   \n",
       "149  2.869312  5.215249                          cervix carcinoma   \n",
       "203  3.232354  5.445651    transitional cell carcinoma metastatic   \n",
       "239  2.780092  5.665688                  breast cancer metastatic   \n",
       "302  2.525391  5.598411                  leiomyosarcoma recurrent   \n",
       "345  2.714100  5.728059                       metastases to liver   \n",
       "368  3.262393  5.491288       metastatic carcinoma of the bladder   \n",
       "401  2.916399  5.468676                     vulvar adenocarcinoma   \n",
       "452  2.742719  5.513125                    lung cancer metastatic   \n",
       "492  1.255798  8.837572                     regional chemotherapy   \n",
       "493  2.914460  4.849445                     oesophageal carcinoma   \n",
       "562  2.705238  5.054664        squamous cell carcinoma of pharynx   \n",
       "568  2.678135  5.759382                                metastasis   \n",
       "618  2.658121  5.829309                   sinus cancer metastatic   \n",
       "660  2.626127  5.938292                 metastases to lymph nodes   \n",
       "699  2.819381  5.151548                      small cell carcinoma   \n",
       "720  2.675949  5.020295  nonkeratinising carcinoma of nasopharynx   \n",
       "733  2.696310  5.704220            breast angiosarcoma metastatic   \n",
       "787  2.771219  5.601893                   breast cancer recurrent   \n",
       "805  2.876268  5.427583            metastatic bronchial carcinoma   \n",
       "\n",
       "     KMeans_classes  \n",
       "84                9  \n",
       "149               9  \n",
       "203               9  \n",
       "239               9  \n",
       "302               9  \n",
       "345               9  \n",
       "368               9  \n",
       "401               9  \n",
       "452               9  \n",
       "492               9  \n",
       "493               9  \n",
       "562               9  \n",
       "568               9  \n",
       "618               9  \n",
       "660               9  \n",
       "699               9  \n",
       "720               9  \n",
       "733               9  \n",
       "787               9  \n",
       "805               9  "
      ]
     },
     "execution_count": 26,
     "metadata": {},
     "output_type": "execute_result"
    }
   ],
   "source": [
    "# visualize per kmeans class\n",
    "class_num = 9\n",
    "X_tsne_pd[X_tsne_pd[\"KMeans_classes\"] == class_num].head(20)"
   ]
  },
  {
   "cell_type": "code",
   "execution_count": 27,
   "metadata": {},
   "outputs": [
    {
     "data": {
      "text/plain": [
       "KMeans_classes\n",
       "28    66\n",
       "1     60\n",
       "11    52\n",
       "34    52\n",
       "48    52\n",
       "27    50\n",
       "33    50\n",
       "49    47\n",
       "45    42\n",
       "7     40\n",
       "25    39\n",
       "9     37\n",
       "20    34\n",
       "0     34\n",
       "41    33\n",
       "2     33\n",
       "37    32\n",
       "43    31\n",
       "12    31\n",
       "17    30\n",
       "32    29\n",
       "13    29\n",
       "4     28\n",
       "6     28\n",
       "21    28\n",
       "10    27\n",
       "22    26\n",
       "46    25\n",
       "35    25\n",
       "36    25\n",
       "18    24\n",
       "5     24\n",
       "19    23\n",
       "39    22\n",
       "24    22\n",
       "15    22\n",
       "26    22\n",
       "44    21\n",
       "3     21\n",
       "40    21\n",
       "29    20\n",
       "38    19\n",
       "30    19\n",
       "23    18\n",
       "14    17\n",
       "42    17\n",
       "47    16\n",
       "16    13\n",
       "8     13\n",
       "31    11\n",
       "Name: count, dtype: int64"
      ]
     },
     "execution_count": 27,
     "metadata": {},
     "output_type": "execute_result"
    }
   ],
   "source": [
    "X_tsne_pd[\"KMeans_classes\"].value_counts()"
   ]
  },
  {
   "cell_type": "code",
   "execution_count": 28,
   "metadata": {},
   "outputs": [
    {
     "name": "stdout",
     "output_type": "stream",
     "text": [
      "torch.Size([1500, 768])\n"
     ]
    }
   ],
   "source": [
    "# Use Cosine Similarity for RAG -> This is the Retrieval part of Retrieval-augmented Generation\n",
    "# Cosine similarity is just a dot-product after normalizing vectors to be unit norm\n",
    "# For each embedding, we can compute the top K related sentences based on cosine similarity\n",
    "\n",
    "topK = 10\n",
    "topK_similar_texts = []\n",
    "topK_similar_texts_cosines = []\n",
    "\n",
    "print(sentence_embedding_normalized.shape)  # already normalized before\n",
    "for user_query_embedding_idx in range(sentence_embedding_normalized.shape[0]):\n",
    "    user_query = sentence_embedding_normalized[\n",
    "        user_query_embedding_idx : user_query_embedding_idx + 1\n",
    "    ]\n",
    "    dot_product = torch.mm(sentence_embedding_normalized, user_query.T)\n",
    "    top_matches = torch.argsort(dot_product, dim=0, descending=True).flatten()[\n",
    "        1:\n",
    "    ]  # discard the first elem as that will be itself\n",
    "\n",
    "    # keep topK\n",
    "    topK_matches = top_matches[:topK]\n",
    "    topK_similar_texts.append(\n",
    "        \", \".join(X_tsne_pd[\"text\"].to_numpy()[topK_matches].tolist())\n",
    "    )\n",
    "    topK_similar_texts_cosines.append(\n",
    "        \", \".join(\n",
    "            [str(i)[:5] for i in dot_product[topK_matches].flatten().numpy().tolist()]\n",
    "        )\n",
    "    )\n",
    "\n",
    "X_tsne_pd[\"topK_similar_texts\"] = topK_similar_texts\n",
    "X_tsne_pd[\"topK_similar_cosines\"] = topK_similar_texts_cosines"
   ]
  },
  {
   "cell_type": "code",
   "execution_count": 29,
   "metadata": {},
   "outputs": [
    {
     "data": {
      "text/html": [
       "<div>\n",
       "<style scoped>\n",
       "    .dataframe tbody tr th:only-of-type {\n",
       "        vertical-align: middle;\n",
       "    }\n",
       "\n",
       "    .dataframe tbody tr th {\n",
       "        vertical-align: top;\n",
       "    }\n",
       "\n",
       "    .dataframe thead th {\n",
       "        text-align: right;\n",
       "    }\n",
       "</style>\n",
       "<table border=\"1\" class=\"dataframe\">\n",
       "  <thead>\n",
       "    <tr style=\"text-align: right;\">\n",
       "      <th></th>\n",
       "      <th>tsne_x</th>\n",
       "      <th>tsne_y</th>\n",
       "      <th>text</th>\n",
       "      <th>KMeans_classes</th>\n",
       "      <th>topK_similar_texts</th>\n",
       "      <th>topK_similar_cosines</th>\n",
       "    </tr>\n",
       "  </thead>\n",
       "  <tbody>\n",
       "    <tr>\n",
       "      <th>0</th>\n",
       "      <td>-1.356653</td>\n",
       "      <td>6.192302</td>\n",
       "      <td>virilism</td>\n",
       "      <td>28</td>\n",
       "      <td>cytomegalovirus viraemia, parametritis, phlebitis infective, bacterial vaginosis, meningoencephalitis viral, penile infection, venogram, meningococcal immunisation, gangrene, genital infection fungal</td>\n",
       "      <td>0.638, 0.467, 0.461, 0.461, 0.422, 0.415, 0.401, 0.398, 0.398, 0.397</td>\n",
       "    </tr>\n",
       "    <tr>\n",
       "      <th>1</th>\n",
       "      <td>0.163219</td>\n",
       "      <td>9.104291</td>\n",
       "      <td>still's disease</td>\n",
       "      <td>48</td>\n",
       "      <td>albright's disease, coeliac disease, glanzmann's disease, venoocclusive disease, rheumatic heart disease, gaucher's disease, bronchopulmonary disease, hodgkin's disease stage iv, dandruff, periodontal disease</td>\n",
       "      <td>0.499, 0.497, 0.478, 0.452, 0.443, 0.440, 0.410, 0.398, 0.395, 0.395</td>\n",
       "    </tr>\n",
       "    <tr>\n",
       "      <th>2</th>\n",
       "      <td>-2.982886</td>\n",
       "      <td>9.869576</td>\n",
       "      <td>choroid plexus carcinoma</td>\n",
       "      <td>18</td>\n",
       "      <td>central nervous system lymphoma, cns ventriculitis, polypoidal choroidal vasculopathy, cerebrospinal fluid leakage, meningioma malignant, metastases to central nervous system, central nervous system fungal infection, choroidal neovascularisation, intracranial mass, optic glioma</td>\n",
       "      <td>0.452, 0.421, 0.418, 0.397, 0.382, 0.376, 0.373, 0.373, 0.368, 0.365</td>\n",
       "    </tr>\n",
       "    <tr>\n",
       "      <th>3</th>\n",
       "      <td>0.041707</td>\n",
       "      <td>8.407229</td>\n",
       "      <td>anaphylactic shock</td>\n",
       "      <td>6</td>\n",
       "      <td>anaphylaxis treatment, shock haemorrhagic, toxic shock syndrome streptococcal, hypersensitivity vasculitis, accidental overdose, drug reaction with eosinophilia and systemic symptoms, animal bite, syncope, cytokine storm, intentional overdose</td>\n",
       "      <td>0.623, 0.572, 0.522, 0.468, 0.436, 0.401, 0.397, 0.390, 0.387, 0.381</td>\n",
       "    </tr>\n",
       "    <tr>\n",
       "      <th>4</th>\n",
       "      <td>-1.559760</td>\n",
       "      <td>8.532484</td>\n",
       "      <td>labour pain</td>\n",
       "      <td>14</td>\n",
       "      <td>uterine pain, oesophageal pain, perineal pain, neck pain, axillary pain, chest pain, abdominal pain, injection site pain, postpartum haemorrhage, tendon pain</td>\n",
       "      <td>0.772, 0.684, 0.642, 0.635, 0.629, 0.600, 0.599, 0.567, 0.545, 0.525</td>\n",
       "    </tr>\n",
       "  </tbody>\n",
       "</table>\n",
       "</div>"
      ],
      "text/plain": [
       "     tsne_x    tsne_y                      text  KMeans_classes  \\\n",
       "0 -1.356653  6.192302                  virilism              28   \n",
       "1  0.163219  9.104291           still's disease              48   \n",
       "2 -2.982886  9.869576  choroid plexus carcinoma              18   \n",
       "3  0.041707  8.407229        anaphylactic shock               6   \n",
       "4 -1.559760  8.532484               labour pain              14   \n",
       "\n",
       "                                                                                                                                                                                                                                                                       topK_similar_texts  \\\n",
       "0                                                                                 cytomegalovirus viraemia, parametritis, phlebitis infective, bacterial vaginosis, meningoencephalitis viral, penile infection, venogram, meningococcal immunisation, gangrene, genital infection fungal   \n",
       "1                                                                        albright's disease, coeliac disease, glanzmann's disease, venoocclusive disease, rheumatic heart disease, gaucher's disease, bronchopulmonary disease, hodgkin's disease stage iv, dandruff, periodontal disease   \n",
       "2  central nervous system lymphoma, cns ventriculitis, polypoidal choroidal vasculopathy, cerebrospinal fluid leakage, meningioma malignant, metastases to central nervous system, central nervous system fungal infection, choroidal neovascularisation, intracranial mass, optic glioma   \n",
       "3                                      anaphylaxis treatment, shock haemorrhagic, toxic shock syndrome streptococcal, hypersensitivity vasculitis, accidental overdose, drug reaction with eosinophilia and systemic symptoms, animal bite, syncope, cytokine storm, intentional overdose   \n",
       "4                                                                                                                           uterine pain, oesophageal pain, perineal pain, neck pain, axillary pain, chest pain, abdominal pain, injection site pain, postpartum haemorrhage, tendon pain   \n",
       "\n",
       "                                                   topK_similar_cosines  \n",
       "0  0.638, 0.467, 0.461, 0.461, 0.422, 0.415, 0.401, 0.398, 0.398, 0.397  \n",
       "1  0.499, 0.497, 0.478, 0.452, 0.443, 0.440, 0.410, 0.398, 0.395, 0.395  \n",
       "2  0.452, 0.421, 0.418, 0.397, 0.382, 0.376, 0.373, 0.373, 0.368, 0.365  \n",
       "3  0.623, 0.572, 0.522, 0.468, 0.436, 0.401, 0.397, 0.390, 0.387, 0.381  \n",
       "4  0.772, 0.684, 0.642, 0.635, 0.629, 0.600, 0.599, 0.567, 0.545, 0.525  "
      ]
     },
     "execution_count": 29,
     "metadata": {},
     "output_type": "execute_result"
    }
   ],
   "source": [
    "X_tsne_pd.head()"
   ]
  },
  {
   "cell_type": "code",
   "execution_count": null,
   "metadata": {},
   "outputs": [],
   "source": []
  },
  {
   "cell_type": "code",
   "execution_count": 30,
   "metadata": {},
   "outputs": [],
   "source": [
    "# Use a Vector Database for Efficient Similarity Search like FAISS\n",
    "# build an index for Cosine Similarity (the embeddings must already be normalized before indexing them)"
   ]
  },
  {
   "cell_type": "code",
   "execution_count": 31,
   "metadata": {},
   "outputs": [
    {
     "data": {
      "text/plain": [
       "(1500, 768)"
      ]
     },
     "execution_count": 31,
     "metadata": {},
     "output_type": "execute_result"
    }
   ],
   "source": [
    "embeddings = sentence_embedding_normalized.numpy().astype(\"float32\")\n",
    "embeddings.shape"
   ]
  },
  {
   "cell_type": "code",
   "execution_count": 32,
   "metadata": {},
   "outputs": [],
   "source": [
    "index = faiss.IndexFlatIP(embeddings.shape[1])\n",
    "index.add(embeddings)\n",
    "faiss.write_index(index, \"./faiss_vector_db_inner_prod.index\")"
   ]
  },
  {
   "cell_type": "code",
   "execution_count": 33,
   "metadata": {},
   "outputs": [],
   "source": [
    "index = faiss.read_index(\"./faiss_vector_db_inner_prod.index\")"
   ]
  },
  {
   "cell_type": "code",
   "execution_count": 34,
   "metadata": {},
   "outputs": [],
   "source": [
    "topK = 10\n",
    "topK_similar_texts = []\n",
    "topK_similar_texts_cosines = []\n",
    "\n",
    "# get the topK matches using FAISS in a vectorized manner\n",
    "similarities, indices = index.search(embeddings, topK + 1)\n",
    "\n",
    "for user_query_embedding_idx in range(sentence_embedding_normalized.shape[0]):\n",
    "    topK_matches = indices[user_query_embedding_idx][\n",
    "        1:\n",
    "    ]  # ignore top match which is itself\n",
    "    topK_similar_texts.append(\n",
    "        \", \".join(X_tsne_pd[\"text\"].to_numpy()[topK_matches].tolist())\n",
    "    )\n",
    "    topK_similar_texts_cosines.append(\n",
    "        \", \".join(\n",
    "            [str(i)[:5] for i in similarities[user_query_embedding_idx][1:].tolist()]\n",
    "        )\n",
    "    )\n",
    "\n",
    "X_tsne_pd[\"faiss_topK_similar_texts\"] = topK_similar_texts\n",
    "X_tsne_pd[\"faiss_topK_similar_cosines\"] = topK_similar_texts_cosines"
   ]
  },
  {
   "cell_type": "code",
   "execution_count": 35,
   "metadata": {},
   "outputs": [
    {
     "data": {
      "text/html": [
       "<div>\n",
       "<style scoped>\n",
       "    .dataframe tbody tr th:only-of-type {\n",
       "        vertical-align: middle;\n",
       "    }\n",
       "\n",
       "    .dataframe tbody tr th {\n",
       "        vertical-align: top;\n",
       "    }\n",
       "\n",
       "    .dataframe thead th {\n",
       "        text-align: right;\n",
       "    }\n",
       "</style>\n",
       "<table border=\"1\" class=\"dataframe\">\n",
       "  <thead>\n",
       "    <tr style=\"text-align: right;\">\n",
       "      <th></th>\n",
       "      <th>tsne_x</th>\n",
       "      <th>tsne_y</th>\n",
       "      <th>text</th>\n",
       "      <th>KMeans_classes</th>\n",
       "      <th>topK_similar_texts</th>\n",
       "      <th>topK_similar_cosines</th>\n",
       "      <th>faiss_topK_similar_texts</th>\n",
       "      <th>faiss_topK_similar_cosines</th>\n",
       "    </tr>\n",
       "  </thead>\n",
       "  <tbody>\n",
       "    <tr>\n",
       "      <th>0</th>\n",
       "      <td>-1.356653</td>\n",
       "      <td>6.192302</td>\n",
       "      <td>virilism</td>\n",
       "      <td>28</td>\n",
       "      <td>cytomegalovirus viraemia, parametritis, phlebitis infective, bacterial vaginosis, meningoencephalitis viral, penile infection, venogram, meningococcal immunisation, gangrene, genital infection fungal</td>\n",
       "      <td>0.638, 0.467, 0.461, 0.461, 0.422, 0.415, 0.401, 0.398, 0.398, 0.397</td>\n",
       "      <td>cytomegalovirus viraemia, parametritis, phlebitis infective, bacterial vaginosis, meningoencephalitis viral, penile infection, venogram, meningococcal immunisation, gangrene, genital infection fungal</td>\n",
       "      <td>0.638, 0.467, 0.461, 0.461, 0.422, 0.415, 0.401, 0.398, 0.398, 0.397</td>\n",
       "    </tr>\n",
       "    <tr>\n",
       "      <th>1</th>\n",
       "      <td>0.163219</td>\n",
       "      <td>9.104291</td>\n",
       "      <td>still's disease</td>\n",
       "      <td>48</td>\n",
       "      <td>albright's disease, coeliac disease, glanzmann's disease, venoocclusive disease, rheumatic heart disease, gaucher's disease, bronchopulmonary disease, hodgkin's disease stage iv, dandruff, periodontal disease</td>\n",
       "      <td>0.499, 0.497, 0.478, 0.452, 0.443, 0.440, 0.410, 0.398, 0.395, 0.395</td>\n",
       "      <td>albright's disease, coeliac disease, glanzmann's disease, venoocclusive disease, rheumatic heart disease, gaucher's disease, bronchopulmonary disease, hodgkin's disease stage iv, dandruff, periodontal disease</td>\n",
       "      <td>0.499, 0.497, 0.478, 0.452, 0.443, 0.440, 0.410, 0.398, 0.395, 0.395</td>\n",
       "    </tr>\n",
       "    <tr>\n",
       "      <th>2</th>\n",
       "      <td>-2.982886</td>\n",
       "      <td>9.869576</td>\n",
       "      <td>choroid plexus carcinoma</td>\n",
       "      <td>18</td>\n",
       "      <td>central nervous system lymphoma, cns ventriculitis, polypoidal choroidal vasculopathy, cerebrospinal fluid leakage, meningioma malignant, metastases to central nervous system, central nervous system fungal infection, choroidal neovascularisation, intracranial mass, optic glioma</td>\n",
       "      <td>0.452, 0.421, 0.418, 0.397, 0.382, 0.376, 0.373, 0.373, 0.368, 0.365</td>\n",
       "      <td>central nervous system lymphoma, cns ventriculitis, polypoidal choroidal vasculopathy, cerebrospinal fluid leakage, meningioma malignant, metastases to central nervous system, central nervous system fungal infection, choroidal neovascularisation, intracranial mass, optic glioma</td>\n",
       "      <td>0.452, 0.421, 0.418, 0.397, 0.382, 0.376, 0.373, 0.373, 0.368, 0.365</td>\n",
       "    </tr>\n",
       "    <tr>\n",
       "      <th>3</th>\n",
       "      <td>0.041707</td>\n",
       "      <td>8.407229</td>\n",
       "      <td>anaphylactic shock</td>\n",
       "      <td>6</td>\n",
       "      <td>anaphylaxis treatment, shock haemorrhagic, toxic shock syndrome streptococcal, hypersensitivity vasculitis, accidental overdose, drug reaction with eosinophilia and systemic symptoms, animal bite, syncope, cytokine storm, intentional overdose</td>\n",
       "      <td>0.623, 0.572, 0.522, 0.468, 0.436, 0.401, 0.397, 0.390, 0.387, 0.381</td>\n",
       "      <td>anaphylaxis treatment, shock haemorrhagic, toxic shock syndrome streptococcal, hypersensitivity vasculitis, accidental overdose, drug reaction with eosinophilia and systemic symptoms, animal bite, syncope, cytokine storm, intentional overdose</td>\n",
       "      <td>0.623, 0.572, 0.522, 0.468, 0.436, 0.401, 0.397, 0.390, 0.387, 0.381</td>\n",
       "    </tr>\n",
       "    <tr>\n",
       "      <th>4</th>\n",
       "      <td>-1.559760</td>\n",
       "      <td>8.532484</td>\n",
       "      <td>labour pain</td>\n",
       "      <td>14</td>\n",
       "      <td>uterine pain, oesophageal pain, perineal pain, neck pain, axillary pain, chest pain, abdominal pain, injection site pain, postpartum haemorrhage, tendon pain</td>\n",
       "      <td>0.772, 0.684, 0.642, 0.635, 0.629, 0.600, 0.599, 0.567, 0.545, 0.525</td>\n",
       "      <td>uterine pain, oesophageal pain, perineal pain, neck pain, axillary pain, chest pain, abdominal pain, injection site pain, postpartum haemorrhage, tendon pain</td>\n",
       "      <td>0.772, 0.684, 0.642, 0.635, 0.629, 0.600, 0.599, 0.567, 0.545, 0.525</td>\n",
       "    </tr>\n",
       "  </tbody>\n",
       "</table>\n",
       "</div>"
      ],
      "text/plain": [
       "     tsne_x    tsne_y                      text  KMeans_classes  \\\n",
       "0 -1.356653  6.192302                  virilism              28   \n",
       "1  0.163219  9.104291           still's disease              48   \n",
       "2 -2.982886  9.869576  choroid plexus carcinoma              18   \n",
       "3  0.041707  8.407229        anaphylactic shock               6   \n",
       "4 -1.559760  8.532484               labour pain              14   \n",
       "\n",
       "                                                                                                                                                                                                                                                                       topK_similar_texts  \\\n",
       "0                                                                                 cytomegalovirus viraemia, parametritis, phlebitis infective, bacterial vaginosis, meningoencephalitis viral, penile infection, venogram, meningococcal immunisation, gangrene, genital infection fungal   \n",
       "1                                                                        albright's disease, coeliac disease, glanzmann's disease, venoocclusive disease, rheumatic heart disease, gaucher's disease, bronchopulmonary disease, hodgkin's disease stage iv, dandruff, periodontal disease   \n",
       "2  central nervous system lymphoma, cns ventriculitis, polypoidal choroidal vasculopathy, cerebrospinal fluid leakage, meningioma malignant, metastases to central nervous system, central nervous system fungal infection, choroidal neovascularisation, intracranial mass, optic glioma   \n",
       "3                                      anaphylaxis treatment, shock haemorrhagic, toxic shock syndrome streptococcal, hypersensitivity vasculitis, accidental overdose, drug reaction with eosinophilia and systemic symptoms, animal bite, syncope, cytokine storm, intentional overdose   \n",
       "4                                                                                                                           uterine pain, oesophageal pain, perineal pain, neck pain, axillary pain, chest pain, abdominal pain, injection site pain, postpartum haemorrhage, tendon pain   \n",
       "\n",
       "                                                   topK_similar_cosines  \\\n",
       "0  0.638, 0.467, 0.461, 0.461, 0.422, 0.415, 0.401, 0.398, 0.398, 0.397   \n",
       "1  0.499, 0.497, 0.478, 0.452, 0.443, 0.440, 0.410, 0.398, 0.395, 0.395   \n",
       "2  0.452, 0.421, 0.418, 0.397, 0.382, 0.376, 0.373, 0.373, 0.368, 0.365   \n",
       "3  0.623, 0.572, 0.522, 0.468, 0.436, 0.401, 0.397, 0.390, 0.387, 0.381   \n",
       "4  0.772, 0.684, 0.642, 0.635, 0.629, 0.600, 0.599, 0.567, 0.545, 0.525   \n",
       "\n",
       "                                                                                                                                                                                                                                                                 faiss_topK_similar_texts  \\\n",
       "0                                                                                 cytomegalovirus viraemia, parametritis, phlebitis infective, bacterial vaginosis, meningoencephalitis viral, penile infection, venogram, meningococcal immunisation, gangrene, genital infection fungal   \n",
       "1                                                                        albright's disease, coeliac disease, glanzmann's disease, venoocclusive disease, rheumatic heart disease, gaucher's disease, bronchopulmonary disease, hodgkin's disease stage iv, dandruff, periodontal disease   \n",
       "2  central nervous system lymphoma, cns ventriculitis, polypoidal choroidal vasculopathy, cerebrospinal fluid leakage, meningioma malignant, metastases to central nervous system, central nervous system fungal infection, choroidal neovascularisation, intracranial mass, optic glioma   \n",
       "3                                      anaphylaxis treatment, shock haemorrhagic, toxic shock syndrome streptococcal, hypersensitivity vasculitis, accidental overdose, drug reaction with eosinophilia and systemic symptoms, animal bite, syncope, cytokine storm, intentional overdose   \n",
       "4                                                                                                                           uterine pain, oesophageal pain, perineal pain, neck pain, axillary pain, chest pain, abdominal pain, injection site pain, postpartum haemorrhage, tendon pain   \n",
       "\n",
       "                                             faiss_topK_similar_cosines  \n",
       "0  0.638, 0.467, 0.461, 0.461, 0.422, 0.415, 0.401, 0.398, 0.398, 0.397  \n",
       "1  0.499, 0.497, 0.478, 0.452, 0.443, 0.440, 0.410, 0.398, 0.395, 0.395  \n",
       "2  0.452, 0.421, 0.418, 0.397, 0.382, 0.376, 0.373, 0.373, 0.368, 0.365  \n",
       "3  0.623, 0.572, 0.522, 0.468, 0.436, 0.401, 0.397, 0.390, 0.387, 0.381  \n",
       "4  0.772, 0.684, 0.642, 0.635, 0.629, 0.600, 0.599, 0.567, 0.545, 0.525  "
      ]
     },
     "execution_count": 35,
     "metadata": {},
     "output_type": "execute_result"
    }
   ],
   "source": [
    "X_tsne_pd.head()"
   ]
  },
  {
   "cell_type": "code",
   "execution_count": null,
   "metadata": {},
   "outputs": [],
   "source": []
  }
 ],
 "metadata": {
  "kernelspec": {
   "display_name": "pytorch_env",
   "language": "python",
   "name": "python3"
  },
  "language_info": {
   "codemirror_mode": {
    "name": "ipython",
    "version": 3
   },
   "file_extension": ".py",
   "mimetype": "text/x-python",
   "name": "python",
   "nbconvert_exporter": "python",
   "pygments_lexer": "ipython3",
   "version": "3.8.12"
  }
 },
 "nbformat": 4,
 "nbformat_minor": 2
}
