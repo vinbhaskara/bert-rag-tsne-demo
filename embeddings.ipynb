{
 "cells": [
  {
   "cell_type": "code",
   "execution_count": 2,
   "metadata": {},
   "outputs": [
    {
     "data": {
      "text/plain": [
       "<torch._C.Generator at 0x10d37d0f0>"
      ]
     },
     "execution_count": 2,
     "metadata": {},
     "output_type": "execute_result"
    }
   ],
   "source": [
    "import torch\n",
    "from transformers import AutoTokenizer, AutoModel\n",
    "import random\n",
    "import numpy as np\n",
    "from sklearn.manifold import TSNE\n",
    "import umap\n",
    "from sklearn.cluster import KMeans\n",
    "from sklearn.decomposition import PCA\n",
    "import plotly.express as px\n",
    "import pandas as pd\n",
    "\n",
    "np.random.seed(0)\n",
    "random.seed(0)\n",
    "torch.manual_seed(0)"
   ]
  },
  {
   "cell_type": "code",
   "execution_count": 3,
   "metadata": {},
   "outputs": [],
   "source": [
    "pd.set_option(\"display.max_colwidth\", None)"
   ]
  },
  {
   "cell_type": "code",
   "execution_count": 4,
   "metadata": {},
   "outputs": [
    {
     "data": {
      "text/plain": [
       "'\\nReferences:\\n- https://arxiv.org/pdf/1908.10084\\n- https://huggingface.co/sentence-transformers/bert-base-nli-mean-tokens\\n- https://huggingface.co/microsoft/BiomedNLP-BiomedBERT-base-uncased-abstract-fulltext\\n- https://huggingface.co/NeuML/pubmedbert-base-embeddings\\n'"
      ]
     },
     "execution_count": 4,
     "metadata": {},
     "output_type": "execute_result"
    }
   ],
   "source": [
    "\"\"\"\n",
    "References:\n",
    "- https://arxiv.org/pdf/1908.10084\n",
    "- https://huggingface.co/sentence-transformers/bert-base-nli-mean-tokens\n",
    "- https://huggingface.co/microsoft/BiomedNLP-BiomedBERT-base-uncased-abstract-fulltext\n",
    "- https://huggingface.co/NeuML/pubmedbert-base-embeddings\n",
    "\"\"\""
   ]
  },
  {
   "cell_type": "code",
   "execution_count": null,
   "metadata": {},
   "outputs": [],
   "source": [
    "\"\"\"\n",
    "Set options here\n",
    "\"\"\"\n",
    "# encoding_model_str = \"google-bert/bert-base-uncased\"\n",
    "# encoding_model_str = \"sentence-transformers/bert-base-nli-mean-tokens\"\n",
    "# encoding_model_str = \"microsoft/BiomedNLP-BiomedBERT-base-uncased-abstract-fulltext\"\n",
    "encoding_model_str = \"NeuML/pubmedbert-base-embeddings\"\n",
    "\n",
    "# text files from the Canadian ADR dB\n",
    "# see: https://www.canada.ca/en/health-canada/services/drugs-health-products/medeffect-canada/adverse-reaction-database/canada-vigilance-online-database-data-extract.html\n",
    "base_dir = \"./\"\n",
    "text_path_dict = {\n",
    "    \"AlternateDrugs\": base_dir + \"AlternateDrugs.csv\",\n",
    "    \"diseases\": base_dir + \"diseases.csv\",\n",
    "    \"drugnames\": base_dir + \"drugnames.csv\",\n",
    "}\n",
    "\n",
    "text_path = text_path_dict[\"diseases\"]  # [\"diseases\"]\n",
    "limit_num_rows_text = 500"
   ]
  },
  {
   "cell_type": "code",
   "execution_count": 6,
   "metadata": {},
   "outputs": [],
   "source": [
    "with open(text_path, \"r\") as f:\n",
    "    texts = f.readlines()\n",
    "texts = [i.strip().lower() for i in texts[1:]]\n",
    "random.shuffle(texts)\n",
    "texts = texts[:limit_num_rows_text]"
   ]
  },
  {
   "cell_type": "code",
   "execution_count": 7,
   "metadata": {},
   "outputs": [],
   "source": [
    "tokenizer = AutoTokenizer.from_pretrained(encoding_model_str)\n",
    "model = AutoModel.from_pretrained(encoding_model_str)"
   ]
  },
  {
   "cell_type": "code",
   "execution_count": 8,
   "metadata": {},
   "outputs": [
    {
     "name": "stderr",
     "output_type": "stream",
     "text": [
      "Asking to truncate to max_length but no maximum length is provided and the model has no predefined maximum length. Default to no truncation.\n"
     ]
    }
   ],
   "source": [
    "encoded_inputs = tokenizer(texts, return_tensors=\"pt\", padding=True, truncation=True)\n",
    "with torch.no_grad():\n",
    "    outputs = model(**encoded_inputs)[0]  # get the last hidden state vector\n",
    "attention_mask = encoded_inputs[\"attention_mask\"][\n",
    "    ..., None\n",
    "]  # handle padding with attention mask"
   ]
  },
  {
   "cell_type": "code",
   "execution_count": 9,
   "metadata": {},
   "outputs": [],
   "source": [
    "sentence_embedding = torch.sum(outputs * attention_mask, dim=1) / torch.clamp(\n",
    "    torch.sum(attention_mask, dim=1), min=1e-9\n",
    ")"
   ]
  },
  {
   "cell_type": "code",
   "execution_count": 10,
   "metadata": {},
   "outputs": [
    {
     "data": {
      "text/plain": [
       "tensor([[-0.2993, -0.1205, -0.4987,  ...,  0.8281, -0.1082, -0.9280],\n",
       "        [-0.2576, -0.1558,  0.1248,  ...,  0.7627,  1.3915, -0.0368],\n",
       "        [-0.8967,  0.3811, -0.2032,  ..., -0.0026, -0.3606, -0.5183],\n",
       "        ...,\n",
       "        [ 0.2720, -0.0714, -0.1720,  ...,  0.5993, -1.2595, -0.2090],\n",
       "        [-0.4956,  0.0176, -0.7110,  ...,  1.2511, -1.0651, -0.3460],\n",
       "        [ 0.1386,  0.0774, -0.2331,  ...,  1.7877, -0.8214,  0.0385]])"
      ]
     },
     "execution_count": 10,
     "metadata": {},
     "output_type": "execute_result"
    }
   ],
   "source": [
    "sentence_embedding"
   ]
  },
  {
   "cell_type": "code",
   "execution_count": 11,
   "metadata": {},
   "outputs": [
    {
     "data": {
      "text/plain": [
       "torch.Size([500, 768])"
      ]
     },
     "execution_count": 11,
     "metadata": {},
     "output_type": "execute_result"
    }
   ],
   "source": [
    "sentence_embedding.shape"
   ]
  },
  {
   "cell_type": "code",
   "execution_count": 12,
   "metadata": {},
   "outputs": [],
   "source": [
    "norms = torch.clamp(torch.sqrt(torch.sum(sentence_embedding**2, dim=1)), min=1e-9)[\n",
    "    ..., None\n",
    "]\n",
    "sentence_embedding_normalized = sentence_embedding / norms"
   ]
  },
  {
   "cell_type": "code",
   "execution_count": 13,
   "metadata": {},
   "outputs": [],
   "source": [
    "# visualization\n",
    "# first use PCA\n",
    "pca_components = 50"
   ]
  },
  {
   "cell_type": "code",
   "execution_count": 14,
   "metadata": {},
   "outputs": [],
   "source": [
    "pca = PCA(n_components=pca_components, svd_solver=\"full\")\n",
    "X_pca = pca.fit_transform(sentence_embedding_normalized.numpy())"
   ]
  },
  {
   "cell_type": "code",
   "execution_count": 15,
   "metadata": {},
   "outputs": [
    {
     "name": "stderr",
     "output_type": "stream",
     "text": [
      "/Users/vin_bhaskara/miniconda3/envs/pytorch_env/lib/python3.8/site-packages/umap/umap_.py:1952: UserWarning: n_jobs value 1 overridden to 1 by setting random_state. Use no seed for parallelism.\n",
      "  warn(\n",
      "OMP: Info #276: omp_set_nested routine deprecated, please use omp_set_max_active_levels instead.\n",
      "huggingface/tokenizers: The current process just got forked, after parallelism has already been used. Disabling parallelism to avoid deadlocks...\n",
      "To disable this warning, you can either:\n",
      "\t- Avoid using `tokenizers` before the fork if possible\n",
      "\t- Explicitly set the environment variable TOKENIZERS_PARALLELISM=(true | false)\n"
     ]
    }
   ],
   "source": [
    "# then use UMAP (or tSNE)\n",
    "tsne = umap.UMAP(random_state=42)  # TSNE(n_components=2)\n",
    "X_tsne = tsne.fit_transform(X_pca)"
   ]
  },
  {
   "cell_type": "code",
   "execution_count": 16,
   "metadata": {},
   "outputs": [],
   "source": [
    "X_tsne_pd = pd.DataFrame(X_tsne)\n",
    "X_tsne_pd.columns = [\"tsne_x\", \"tsne_y\"]\n",
    "X_tsne_pd[\"text\"] = texts"
   ]
  },
  {
   "cell_type": "code",
   "execution_count": 17,
   "metadata": {},
   "outputs": [
    {
     "data": {
      "text/html": [
       "<div>\n",
       "<style scoped>\n",
       "    .dataframe tbody tr th:only-of-type {\n",
       "        vertical-align: middle;\n",
       "    }\n",
       "\n",
       "    .dataframe tbody tr th {\n",
       "        vertical-align: top;\n",
       "    }\n",
       "\n",
       "    .dataframe thead th {\n",
       "        text-align: right;\n",
       "    }\n",
       "</style>\n",
       "<table border=\"1\" class=\"dataframe\">\n",
       "  <thead>\n",
       "    <tr style=\"text-align: right;\">\n",
       "      <th></th>\n",
       "      <th>tsne_x</th>\n",
       "      <th>tsne_y</th>\n",
       "      <th>text</th>\n",
       "    </tr>\n",
       "  </thead>\n",
       "  <tbody>\n",
       "    <tr>\n",
       "      <th>0</th>\n",
       "      <td>7.862282</td>\n",
       "      <td>4.145305</td>\n",
       "      <td>road traffic accident</td>\n",
       "    </tr>\n",
       "    <tr>\n",
       "      <th>1</th>\n",
       "      <td>6.996767</td>\n",
       "      <td>5.301177</td>\n",
       "      <td>chylothorax</td>\n",
       "    </tr>\n",
       "    <tr>\n",
       "      <th>2</th>\n",
       "      <td>6.294518</td>\n",
       "      <td>3.694638</td>\n",
       "      <td>foreign body in gastrointestinal tract</td>\n",
       "    </tr>\n",
       "    <tr>\n",
       "      <th>3</th>\n",
       "      <td>8.049612</td>\n",
       "      <td>6.591092</td>\n",
       "      <td>prophylactic chemotherapy</td>\n",
       "    </tr>\n",
       "    <tr>\n",
       "      <th>4</th>\n",
       "      <td>5.234400</td>\n",
       "      <td>5.507451</td>\n",
       "      <td>vaccination site infection</td>\n",
       "    </tr>\n",
       "  </tbody>\n",
       "</table>\n",
       "</div>"
      ],
      "text/plain": [
       "     tsne_x    tsne_y                                    text\n",
       "0  7.862282  4.145305                   road traffic accident\n",
       "1  6.996767  5.301177                             chylothorax\n",
       "2  6.294518  3.694638  foreign body in gastrointestinal tract\n",
       "3  8.049612  6.591092               prophylactic chemotherapy\n",
       "4  5.234400  5.507451              vaccination site infection"
      ]
     },
     "execution_count": 17,
     "metadata": {},
     "output_type": "execute_result"
    }
   ],
   "source": [
    "X_tsne_pd.head()"
   ]
  },
  {
   "cell_type": "code",
   "execution_count": 18,
   "metadata": {},
   "outputs": [
    {
     "name": "stderr",
     "output_type": "stream",
     "text": [
      "/Users/vin_bhaskara/miniconda3/envs/pytorch_env/lib/python3.8/site-packages/sklearn/cluster/_kmeans.py:1416: FutureWarning: The default value of `n_init` will change from 10 to 'auto' in 1.4. Set the value of `n_init` explicitly to suppress the warning\n",
      "  super()._check_params_vs_input(X, default_n_init=10)\n",
      "huggingface/tokenizers: The current process just got forked, after parallelism has already been used. Disabling parallelism to avoid deadlocks...\n",
      "To disable this warning, you can either:\n",
      "\t- Avoid using `tokenizers` before the fork if possible\n",
      "\t- Explicitly set the environment variable TOKENIZERS_PARALLELISM=(true | false)\n"
     ]
    },
    {
     "data": {
      "text/plain": [
       "(500,)"
      ]
     },
     "execution_count": 18,
     "metadata": {},
     "output_type": "execute_result"
    }
   ],
   "source": [
    "# K-means clustering to visualize the closest neighbors\n",
    "n_clusters = 50\n",
    "\n",
    "kmeans = KMeans(n_clusters=n_clusters, random_state=42)\n",
    "kmeans_classes = kmeans.fit_predict(X_tsne)\n",
    "X_tsne_pd[\"KMeans_classes\"] = kmeans_classes\n",
    "kmeans_classes.shape"
   ]
  },
  {
   "cell_type": "code",
   "execution_count": 19,
   "metadata": {},
   "outputs": [
    {
     "data": {
      "application/vnd.plotly.v1+json": {
       "config": {
        "plotlyServerURL": "https://plot.ly"
       },
       "data": [
        {
         "customdata": [
          [
           "road traffic accident"
          ],
          [
           "chylothorax"
          ],
          [
           "foreign body in gastrointestinal tract"
          ],
          [
           "prophylactic chemotherapy"
          ],
          [
           "vaccination site infection"
          ],
          [
           "atopic keratoconjunctivitis"
          ],
          [
           "anti-aquaporin-4 antibody positive"
          ],
          [
           "thrombocytopenia"
          ],
          [
           "abscess soft tissue"
          ],
          [
           "amyotrophic lateral sclerosis"
          ],
          [
           "acute cutaneous lupus erythematosus"
          ],
          [
           "graft versus host disease in skin"
          ],
          [
           "pancreatitis acute"
          ],
          [
           "myeloproliferative neoplasm"
          ],
          [
           "noninfective encephalitis"
          ],
          [
           "inhibitory drug interaction"
          ],
          [
           "post-traumatic pain"
          ],
          [
           "contact lens therapy"
          ],
          [
           "anaplastic meningioma"
          ],
          [
           "bulimia nervosa"
          ],
          [
           "cardiomyopathy"
          ],
          [
           "ear canal erythema"
          ],
          [
           "toxic nodular goitre"
          ],
          [
           "anaphylaxis treatment"
          ],
          [
           "uterine contractions abnormal"
          ],
          [
           "diabetic nephropathy"
          ],
          [
           "carbon monoxide poisoning"
          ],
          [
           "plasmablastic lymphoma"
          ],
          [
           "staphylococcal abscess"
          ],
          [
           "cardiac failure congestive"
          ],
          [
           "hepatic enzyme increased"
          ],
          [
           "intestinal barrier dysfunction"
          ],
          [
           "facial paresis"
          ],
          [
           "rhesus incompatibility"
          ],
          [
           "substance dependence"
          ],
          [
           "vulvovaginal injury"
          ],
          [
           "prophylaxis against solar radiation"
          ],
          [
           "disseminated cryptococcosis"
          ],
          [
           "neuroendocrine carcinoma metastatic"
          ],
          [
           "small cell lung cancer"
          ],
          [
           "muscle disorder"
          ],
          [
           "myopic chorioretinal degeneration"
          ],
          [
           "oropharyngeal fistula"
          ],
          [
           "regressive behaviour"
          ],
          [
           "abdominal distension"
          ],
          [
           "glucose-6-phosphate dehydrogenase deficiency"
          ],
          [
           "vascular device user"
          ],
          [
           "therapy change"
          ],
          [
           "eye lubrication therapy"
          ],
          [
           "polyneuropathy chronic"
          ],
          [
           "radicular pain"
          ],
          [
           "splenectomy"
          ],
          [
           "paresis"
          ],
          [
           "cytokine increased"
          ],
          [
           "autoimmune pancreatitis"
          ],
          [
           "anal abscess"
          ],
          [
           "central serous chorioretinopathy"
          ],
          [
           "lip pruritus"
          ],
          [
           "door syndrome"
          ],
          [
           "retinitis pigmentosa"
          ],
          [
           "ganglioglioma"
          ],
          [
           "seborrhoeic keratosis"
          ],
          [
           "oesophageal squamous cell carcinoma"
          ],
          [
           "encephalitis"
          ],
          [
           "gastroenteritis adenovirus"
          ],
          [
           "brain neoplasm malignant"
          ],
          [
           "pathologic myopia"
          ],
          [
           "intestinal transit time abnormal"
          ],
          [
           "feeling hot"
          ],
          [
           "systemic scleroderma"
          ],
          [
           "ovarian germ cell endodermal sinus tumour stage i"
          ],
          [
           "enzyme supplementation"
          ],
          [
           "foot amputation"
          ],
          [
           "ovarian abscess"
          ],
          [
           "brain stem glioma"
          ],
          [
           "cystitis escherichia"
          ],
          [
           "pneumonia mycoplasmal"
          ],
          [
           "phenylketonuria"
          ],
          [
           "splenic infarction"
          ],
          [
           "acute graft versus host disease in liver"
          ],
          [
           "bronchopulmonary aspergillosis"
          ],
          [
           "animal bite"
          ],
          [
           "radioimmunotherapy"
          ],
          [
           "lymph node tuberculosis"
          ],
          [
           "retroviral infection"
          ],
          [
           "oromandibular dystonia"
          ],
          [
           "respiratory disorder"
          ],
          [
           "tonsil cancer"
          ],
          [
           "congenital hydrocephalus"
          ],
          [
           "lymphomatoid papulosis"
          ],
          [
           "acute endocarditis"
          ],
          [
           "aspiration pleural cavity"
          ],
          [
           "spinal compression fracture"
          ],
          [
           "deep vein thrombosis"
          ],
          [
           "appendix disorder"
          ],
          [
           "blood folate decreased"
          ],
          [
           "non-cardiogenic pulmonary oedema"
          ],
          [
           "glomerulonephritis rapidly progressive"
          ],
          [
           "borderline personality disorder"
          ],
          [
           "meningitis aseptic"
          ],
          [
           "b-cell unclassifiable lymphoma low grade"
          ],
          [
           "delirium tremens"
          ],
          [
           "neck injury"
          ],
          [
           "acne conglobata"
          ],
          [
           "protein s deficiency"
          ],
          [
           "perineal ulceration"
          ],
          [
           "injection site plaque"
          ],
          [
           "anaemia of pregnancy"
          ],
          [
           "endometrial thickening"
          ],
          [
           "her2 positive gastric cancer"
          ],
          [
           "\"sleep disorder due to general medical condition, insomnia type\""
          ],
          [
           "pulmonary artery aneurysm"
          ],
          [
           "streptococcal infection"
          ],
          [
           "complement factor c4 decreased"
          ],
          [
           "blood insulin abnormal"
          ],
          [
           "silicosis"
          ],
          [
           "diastolic dysfunction"
          ],
          [
           "accident at work"
          ],
          [
           "hyperornithinaemia-hyperammonaemia-homocitrullinuria syndrome"
          ],
          [
           "lip and/or oral cavity cancer recurrent"
          ],
          [
           "device related sepsis"
          ],
          [
           "biliary cirrhosis"
          ],
          [
           "throat clearing"
          ],
          [
           "autoimmune neuropathy"
          ],
          [
           "palpitations"
          ],
          [
           "patellofemoral pain syndrome"
          ],
          [
           "nasal septum deviation"
          ],
          [
           "porocarcinoma"
          ],
          [
           "elliptocytosis"
          ],
          [
           "hepatic neoplasm"
          ],
          [
           "pericardial excision"
          ],
          [
           "hyperbaric oxygen therapy"
          ],
          [
           "antithrombin iii deficiency"
          ],
          [
           "uterine polyp"
          ],
          [
           "perforation"
          ],
          [
           "naturopathy"
          ],
          [
           "soft tissue atrophy"
          ],
          [
           "vestibular disorder"
          ],
          [
           "chondrocalcinosis"
          ],
          [
           "cystic fibrosis"
          ],
          [
           "sympathetic ophthalmia"
          ],
          [
           "undifferentiated nasopharyngeal carcinoma"
          ],
          [
           "insulin resistant diabetes"
          ],
          [
           "abscess drainage"
          ],
          [
           "tendon rupture"
          ],
          [
           "gorham's disease"
          ],
          [
           "metastases to biliary tract"
          ],
          [
           "pneumocystis jirovecii infection"
          ],
          [
           "neurological symptom"
          ],
          [
           "hypoxia"
          ],
          [
           "hypertransaminasaemia"
          ],
          [
           "hyperthermia"
          ],
          [
           "ulcer haemorrhage"
          ],
          [
           "congenital absence of bile ducts"
          ],
          [
           "virilism"
          ],
          [
           "primary progressive multiple sclerosis"
          ],
          [
           "reproductive tract disorder"
          ],
          [
           "bursitis infective"
          ],
          [
           "hepatic vein occlusion"
          ],
          [
           "transurethral prostatectomy"
          ],
          [
           "schizophreniform disorder"
          ],
          [
           "thyroid disorder"
          ],
          [
           "tremor"
          ],
          [
           "laryngeal neoplasm"
          ],
          [
           "toxic shock syndrome staphylococcal"
          ],
          [
           "hormone receptor positive her2 negative breast cancer"
          ],
          [
           "endometrial atrophy"
          ],
          [
           "leiomyosarcoma"
          ],
          [
           "hypocholesterolaemia"
          ],
          [
           "vitamin b2"
          ],
          [
           "appendicectomy"
          ],
          [
           "corneal abrasion"
          ],
          [
           "obsessive-compulsive disorder"
          ],
          [
           "limb mass"
          ],
          [
           "placental infarction"
          ],
          [
           "bile duct adenocarcinoma"
          ],
          [
           "metastases to adrenals"
          ],
          [
           "acquired factor viii deficiency"
          ],
          [
           "cervical laser therapy"
          ],
          [
           "psychiatric disorder prophylaxis"
          ],
          [
           "laboratory test interference"
          ],
          [
           "skin swelling"
          ],
          [
           "gastrointestinal erosion"
          ],
          [
           "osteoporosis postmenopausal"
          ],
          [
           "coronary artery insufficiency"
          ],
          [
           "transgender operation"
          ],
          [
           "hepato-lenticular degeneration"
          ],
          [
           "symmetrical drug-related intertriginous and flexural exanthema"
          ],
          [
           "stress urinary incontinence"
          ],
          [
           "hand-foot-and-mouth disease"
          ],
          [
           "paranasal sinus haemorrhage"
          ],
          [
           "lung opacity"
          ],
          [
           "bronchioloalveolar carcinoma"
          ],
          [
           "familial haemophagocytic lymphohistiocytosis"
          ],
          [
           "pulmonary imaging procedure"
          ],
          [
           "product substitution"
          ],
          [
           "eyelid disorder"
          ],
          [
           "sensation of blood flow"
          ],
          [
           "\"hallucinations, mixed\""
          ],
          [
           "hernia"
          ],
          [
           "coronary artery stenosis"
          ],
          [
           "omphalitis"
          ],
          [
           "haemophilia a without inhibitors"
          ],
          [
           "transfusion reaction"
          ],
          [
           "herpes zoster immunisation"
          ],
          [
           "vitamin d increased"
          ],
          [
           "oesophagogastroduodenoscopy"
          ],
          [
           "typhoid fever immunisation"
          ],
          [
           "akinesia"
          ],
          [
           "urinary tract infection enterococcal"
          ],
          [
           "tachyphrenia"
          ],
          [
           "phaeochromocytoma"
          ],
          [
           "corticobasal degeneration"
          ],
          [
           "tyrosinaemia"
          ],
          [
           "nephrogenic diabetes insipidus"
          ],
          [
           "otospondylomegaepiphyseal dysplasia"
          ],
          [
           "lymph gland infection"
          ],
          [
           "intrauterine contraception"
          ],
          [
           "influenza immunisation"
          ],
          [
           "tubulointerstitial nephritis"
          ],
          [
           "csf pressure"
          ],
          [
           "oestrogen deficiency"
          ],
          [
           "antinuclear antibody"
          ],
          [
           "bone loss"
          ],
          [
           "heparin neutralisation therapy"
          ],
          [
           "foetal death"
          ],
          [
           "insulin therapy"
          ],
          [
           "normal tension glaucoma"
          ],
          [
           "hypomania"
          ],
          [
           "hormone level abnormal"
          ],
          [
           "maternal exposure timing unspecified"
          ],
          [
           "malignant neoplasm of thymus"
          ],
          [
           "malaise"
          ],
          [
           "adjustment disorder with anxiety"
          ],
          [
           "chronic actinic dermatitis"
          ],
          [
           "polydipsia"
          ],
          [
           "primary mediastinal large b-cell lymphoma stage ii"
          ],
          [
           "poor peripheral circulation"
          ],
          [
           "central nervous system leukaemia"
          ],
          [
           "leiomyosarcoma recurrent"
          ],
          [
           "blood testosterone increased"
          ],
          [
           "aortic valve stenosis"
          ],
          [
           "anal fissure"
          ],
          [
           "ureaplasma infection"
          ],
          [
           "endocrine neoplasm"
          ],
          [
           "rhinovirus infection"
          ],
          [
           "drug eruption"
          ],
          [
           "retinal vascular disorder"
          ],
          [
           "obsessive-compulsive symptom"
          ],
          [
           "aneurysm ruptured"
          ],
          [
           "pleomorphic adenoma"
          ],
          [
           "female sex hormone level abnormal"
          ],
          [
           "breast cancer stage iii"
          ],
          [
           "vitamin b12 decreased"
          ],
          [
           "crystal arthropathy"
          ],
          [
           "systemic infection"
          ],
          [
           "connective tissue disorder"
          ],
          [
           "cerebral palsy"
          ],
          [
           "gastrointestinal tube insertion"
          ],
          [
           "pseudoxanthoma elasticum-like syndrome"
          ],
          [
           "spinal cord compression"
          ],
          [
           "mixed incontinence"
          ],
          [
           "proctitis"
          ],
          [
           "muscular dystrophy"
          ],
          [
           "gait disturbance"
          ],
          [
           "dystonic tremor"
          ],
          [
           "small cell lung cancer metastatic"
          ],
          [
           "hypertrophic cardiomyopathy"
          ],
          [
           "new onset refractory status epilepticus"
          ],
          [
           "gastroenteritis viral"
          ],
          [
           "precocious puberty"
          ],
          [
           "mouth ulceration"
          ],
          [
           "ovarian cancer stage i"
          ],
          [
           "bile acid malabsorption"
          ],
          [
           "calculus urinary"
          ],
          [
           "sterilisation"
          ],
          [
           "respiration abnormal"
          ],
          [
           "dry gangrene"
          ],
          [
           "parasitic test positive"
          ],
          [
           "feeling cold"
          ],
          [
           "general physical condition"
          ],
          [
           "acute psychosis"
          ],
          [
           "ophthalmic herpes zoster"
          ],
          [
           "non-cardiac chest pain"
          ],
          [
           "blood potassium decreased"
          ],
          [
           "gestational hypertension"
          ],
          [
           "hypoferritinaemia"
          ],
          [
           "colorectal cancer metastatic"
          ],
          [
           "drug specific antibody"
          ],
          [
           "growth retardation"
          ],
          [
           "slow speech"
          ],
          [
           "bone lesion"
          ],
          [
           "helicobacter duodenal ulcer"
          ],
          [
           "oesophageal stenosis"
          ],
          [
           "papillary thyroid cancer"
          ],
          [
           "laryngeal cancer"
          ],
          [
           "myopathy"
          ],
          [
           "neuromyopathy"
          ],
          [
           "hysteroscopy"
          ],
          [
           "combined immunodeficiency"
          ],
          [
           "laryngoscopy"
          ],
          [
           "myoclonic epilepsy"
          ],
          [
           "trichodysplasia spinulosa"
          ],
          [
           "hypomenorrhoea"
          ],
          [
           "acquired haemophilia"
          ],
          [
           "immunodeficiency"
          ],
          [
           "refusal of treatment by patient"
          ],
          [
           "acquired epidermolysis bullosa"
          ],
          [
           "blood immunoglobulin m increased"
          ],
          [
           "carcinoma in situ of skin"
          ],
          [
           "anal pruritus"
          ],
          [
           "enzyme inhibition"
          ],
          [
           "infectious pleural effusion"
          ],
          [
           "hepatitis b virus test positive"
          ],
          [
           "eosinophilic fasciitis"
          ],
          [
           "b precursor type acute leukaemia"
          ],
          [
           "gastric adenoma"
          ],
          [
           "contrast-enhanced magnetic resonance venography"
          ],
          [
           "proteus infection"
          ],
          [
           "muscle relaxant therapy"
          ],
          [
           "circadian rhythm sleep disorder"
          ],
          [
           "ex-drug abuser"
          ],
          [
           "myositis"
          ],
          [
           "epileptic encephalopathy"
          ],
          [
           "gastric haemorrhage"
          ],
          [
           "torticollis"
          ],
          [
           "petit mal epilepsy"
          ],
          [
           "miliaria"
          ],
          [
           "malignant melanoma stage iii"
          ],
          [
           "chronic hepatic failure"
          ],
          [
           "telangiectasia"
          ],
          [
           "oesophageal adenocarcinoma stage iii"
          ],
          [
           "overgrowth bacterial"
          ],
          [
           "ovarian epithelial cancer stage iv"
          ],
          [
           "percutaneous coronary intervention"
          ],
          [
           "17-hydroxyprogesterone increased"
          ],
          [
           "bipolar i disorder"
          ],
          [
           "neurological decompensation"
          ],
          [
           "pseudopolyp"
          ],
          [
           "juvenile psoriatic arthritis"
          ],
          [
           "keratosis pilaris"
          ],
          [
           "mouth injury"
          ],
          [
           "fibrosarcoma metastatic"
          ],
          [
           "aortic valve replacement"
          ],
          [
           "sensation of foreign body"
          ],
          [
           "vaginal fistula"
          ],
          [
           "neuroendocrine tumour"
          ],
          [
           "allergy to arthropod sting"
          ],
          [
           "exfoliation glaucoma"
          ],
          [
           "genitourinary tract neoplasm"
          ],
          [
           "chronic kidney disease-mineral and bone disorder"
          ],
          [
           "haemophilic arthropathy"
          ],
          [
           "denys-drash syndrome"
          ],
          [
           "eructation"
          ],
          [
           "sputum abnormal"
          ],
          [
           "vasculitis gastrointestinal"
          ],
          [
           "pityriasis rosea"
          ],
          [
           "adrenocortical steroid therapy"
          ],
          [
           "intentional self-injury"
          ],
          [
           "hodgkin's disease stage ii"
          ],
          [
           "medullary thyroid cancer"
          ],
          [
           "metabolic disorder"
          ],
          [
           "toxic shock syndrome"
          ],
          [
           "peripheral vascular disorder"
          ],
          [
           "hand dermatitis"
          ],
          [
           "genital pain"
          ],
          [
           "glossopharyngeal neuralgia"
          ],
          [
           "pelvic pain"
          ],
          [
           "spinal cord neoplasm"
          ],
          [
           "bladder transitional cell carcinoma metastatic"
          ],
          [
           "cerebral ataxia"
          ],
          [
           "anhedonia"
          ],
          [
           "pulmonary vasculitis"
          ],
          [
           "oesophageal atresia"
          ],
          [
           "ovarian cancer metastatic"
          ],
          [
           "social (pragmatic) communication disorder"
          ],
          [
           "essential hypertension"
          ],
          [
           "testicular pain"
          ],
          [
           "neonatal insufficient breast milk syndrome"
          ],
          [
           "niemann-pick disease"
          ],
          [
           "symptom recurrence"
          ],
          [
           "portal hypertension"
          ],
          [
           "hypogonadism"
          ],
          [
           "lacrimation decreased"
          ],
          [
           "carcinoid tumour"
          ],
          [
           "pulmonary function test decreased"
          ],
          [
           "stress echocardiogram"
          ],
          [
           "actinic keratosis"
          ],
          [
           "bunion operation"
          ],
          [
           "bacteraemia"
          ],
          [
           "blister"
          ],
          [
           "prevention of endometrial hyperplasia"
          ],
          [
           "abdominal wall operation"
          ],
          [
           "menstrual cycle management"
          ],
          [
           "haemodynamic test"
          ],
          [
           "ovarian cancer stage iv"
          ],
          [
           "pulmonary veno-occlusive disease"
          ],
          [
           "cerebrovascular accident"
          ],
          [
           "idiopathic intracranial hypertension"
          ],
          [
           "disease recurrence"
          ],
          [
           "brief psychotic disorder with marked stressors"
          ],
          [
           "schizoaffective disorder"
          ],
          [
           "eye swelling"
          ],
          [
           "nasal operation"
          ],
          [
           "cervix carcinoma stage iv"
          ],
          [
           "arterial bypass operation"
          ],
          [
           "bladder irritation"
          ],
          [
           "endodontic procedure"
          ],
          [
           "genital infection bacterial"
          ],
          [
           "trans-sexualism"
          ],
          [
           "swallow study"
          ],
          [
           "cardiac ventriculogram"
          ],
          [
           "haemoglobin increased"
          ],
          [
           "chronic graft versus host disease in skin"
          ],
          [
           "retroperitoneal fibrosis"
          ],
          [
           "choroid melanoma"
          ],
          [
           "arterial haemorrhage"
          ],
          [
           "heart rate decreased"
          ],
          [
           "cervix carcinoma recurrent"
          ],
          [
           "uterine mass"
          ],
          [
           "performance enhancing product use"
          ],
          [
           "phlebotomy"
          ],
          [
           "dermatitis herpetiformis"
          ],
          [
           "intestinal ulcer"
          ],
          [
           "breast cancer stage ii"
          ],
          [
           "osteomyelitis bacterial"
          ],
          [
           "hypervolaemia"
          ],
          [
           "cholangitis infective"
          ],
          [
           "infection in an immunocompromised host"
          ],
          [
           "peripheral motor neuropathy"
          ],
          [
           "stomatitis"
          ],
          [
           "neuroendocrine carcinoma"
          ],
          [
           "aortic aneurysm rupture"
          ],
          [
           "nodular lymphocyte predominant hodgkin lymphoma"
          ],
          [
           "hyperuricaemia"
          ],
          [
           "cheilitis granulomatosa"
          ],
          [
           "optic perineuritis"
          ],
          [
           "laryngeal discomfort"
          ],
          [
           "glycosylated haemoglobin"
          ],
          [
           "decreased appetite"
          ],
          [
           "lip oedema"
          ],
          [
           "anovulatory cycle"
          ],
          [
           "frequent bowel movements"
          ],
          [
           "tularaemia"
          ],
          [
           "wheezing"
          ],
          [
           "onychoclasis"
          ],
          [
           "dupuytren's contracture"
          ],
          [
           "spinal meningeal cyst"
          ],
          [
           "eosinophilia"
          ],
          [
           "nipple infection"
          ],
          [
           "corneal perforation"
          ],
          [
           "ejection fraction"
          ],
          [
           "suicidal ideation"
          ],
          [
           "behcet's syndrome"
          ],
          [
           "colectomy"
          ],
          [
           "ammonia increased"
          ],
          [
           "anaplastic thyroid cancer"
          ],
          [
           "primary effusion lymphoma"
          ],
          [
           "computerised tomogram intestine"
          ],
          [
           "fluid balance assessment"
          ],
          [
           "hyperacusis"
          ],
          [
           "antibiotic prophylaxis"
          ],
          [
           "gaucher's disease type i"
          ],
          [
           "fibromuscular dysplasia"
          ],
          [
           "post procedural pulmonary embolism"
          ],
          [
           "joint swelling"
          ],
          [
           "mitochondrial toxicity"
          ],
          [
           "axial spondyloarthritis"
          ],
          [
           "incisional hernia"
          ],
          [
           "retinal degeneration"
          ],
          [
           "pre-engraftment immune reaction"
          ],
          [
           "polyneuropathy"
          ],
          [
           "neuroendocrine carcinoma of the bladder"
          ],
          [
           "diverticulitis intestinal perforated"
          ],
          [
           "sympathectomy"
          ],
          [
           "majeed's syndrome"
          ],
          [
           "bronchostenosis"
          ],
          [
           "serous cystadenocarcinoma ovary"
          ],
          [
           "anal haemorrhage"
          ],
          [
           "premature separation of placenta"
          ],
          [
           "non-hodgkin's lymphoma stage i"
          ],
          [
           "porphyria"
          ],
          [
           "labyrinthitis"
          ],
          [
           "conjunctival scar"
          ],
          [
           "sinus operation"
          ],
          [
           "auditory disorder"
          ],
          [
           "hypophysitis"
          ],
          [
           "radiotherapy to soft tissue"
          ],
          [
           "antidiarrhoeal supportive care"
          ],
          [
           "parapsoriasis"
          ],
          [
           "metastatic choriocarcinoma"
          ],
          [
           "swelling of eyelid"
          ],
          [
           "red blood cell transfusion"
          ],
          [
           "ectopic parathyroid hormone production"
          ],
          [
           "spider vein"
          ],
          [
           "autotransfusion"
          ],
          [
           "beta haemolytic streptococcal infection"
          ],
          [
           "germ cell cancer metastatic"
          ],
          [
           "thymic cancer metastatic"
          ],
          [
           "metastases to skin"
          ]
         ],
         "hovertemplate": "tsne_x=%{x}<br>tsne_y=%{y}<br>text=%{customdata[0]}<br>KMeans_classes=%{marker.color}<extra></extra>",
         "legendgroup": "",
         "marker": {
          "color": [
           41,
           40,
           12,
           47,
           5,
           20,
           11,
           30,
           28,
           17,
           20,
           5,
           31,
           22,
           6,
           11,
           46,
           19,
           22,
           25,
           26,
           42,
           36,
           45,
           15,
           33,
           41,
           9,
           28,
           26,
           27,
           35,
           17,
           47,
           13,
           10,
           47,
           18,
           14,
           14,
           43,
           3,
           10,
           13,
           31,
           1,
           40,
           24,
           19,
           17,
           46,
           34,
           17,
           38,
           31,
           28,
           3,
           20,
           39,
           3,
           22,
           20,
           2,
           6,
           35,
           22,
           3,
           35,
           29,
           17,
           14,
           7,
           44,
           28,
           22,
           29,
           5,
           33,
           34,
           5,
           18,
           41,
           47,
           2,
           5,
           43,
           49,
           2,
           45,
           9,
           28,
           18,
           46,
           40,
           13,
           27,
           18,
           16,
           25,
           28,
           9,
           6,
           41,
           20,
           27,
           10,
           40,
           7,
           15,
           32,
           49,
           4,
           48,
           27,
           27,
           18,
           26,
           41,
           33,
           2,
           48,
           21,
           29,
           17,
           49,
           46,
           1,
           14,
           37,
           36,
           0,
           24,
           30,
           15,
           35,
           17,
           42,
           49,
           23,
           18,
           3,
           2,
           24,
           28,
           41,
           39,
           21,
           5,
           6,
           24,
           33,
           47,
           34,
           21,
           28,
           17,
           15,
           48,
           40,
           10,
           25,
           36,
           43,
           2,
           28,
           32,
           15,
           22,
           33,
           27,
           0,
           19,
           25,
           44,
           7,
           21,
           14,
           30,
           2,
           25,
           11,
           42,
           35,
           15,
           4,
           0,
           3,
           37,
           29,
           44,
           34,
           18,
           18,
           45,
           40,
           11,
           19,
           29,
           25,
           31,
           4,
           28,
           30,
           30,
           47,
           27,
           12,
           47,
           13,
           29,
           23,
           45,
           3,
           33,
           33,
           23,
           5,
           15,
           47,
           16,
           45,
           38,
           11,
           1,
           30,
           7,
           24,
           19,
           25,
           38,
           7,
           36,
           39,
           25,
           20,
           33,
           9,
           40,
           22,
           22,
           27,
           4,
           10,
           5,
           36,
           5,
           37,
           3,
           25,
           31,
           41,
           38,
           32,
           27,
           8,
           48,
           43,
           43,
           35,
           37,
           22,
           10,
           10,
           43,
           13,
           43,
           14,
           26,
           6,
           35,
           33,
           10,
           32,
           21,
           29,
           18,
           1,
           44,
           11,
           29,
           49,
           25,
           3,
           46,
           27,
           24,
           33,
           14,
           11,
           38,
           1,
           23,
           35,
           12,
           36,
           2,
           43,
           17,
           15,
           47,
           2,
           6,
           37,
           23,
           30,
           47,
           1,
           20,
           27,
           19,
           20,
           7,
           18,
           11,
           16,
           9,
           35,
           40,
           5,
           43,
           49,
           13,
           43,
           6,
           34,
           37,
           6,
           8,
           32,
           21,
           8,
           32,
           48,
           32,
           4,
           38,
           25,
           6,
           24,
           8,
           20,
           41,
           14,
           4,
           29,
           10,
           36,
           41,
           19,
           2,
           1,
           30,
           39,
           37,
           18,
           35,
           20,
           7,
           41,
           32,
           36,
           49,
           34,
           17,
           20,
           46,
           17,
           46,
           22,
           36,
           39,
           25,
           18,
           12,
           14,
           49,
           45,
           46,
           7,
           39,
           49,
           45,
           1,
           19,
           36,
           38,
           26,
           19,
           0,
           48,
           44,
           15,
           31,
           15,
           47,
           32,
           40,
           41,
           45,
           1,
           25,
           25,
           19,
           0,
           32,
           40,
           10,
           34,
           5,
           16,
           12,
           26,
           27,
           5,
           16,
           3,
           34,
           38,
           36,
           15,
           11,
           40,
           20,
           35,
           32,
           48,
           24,
           21,
           5,
           17,
           10,
           36,
           31,
           9,
           33,
           8,
           17,
           29,
           30,
           38,
           42,
           49,
           35,
           48,
           1,
           23,
           43,
           22,
           16,
           5,
           19,
           26,
           25,
           39,
           0,
           27,
           36,
           9,
           12,
           11,
           23,
           28,
           39,
           37,
           40,
           42,
           7,
           8,
           31,
           3,
           30,
           17,
           36,
           35,
           34,
           39,
           18,
           14,
           34,
           7,
           9,
           37,
           23,
           19,
           0,
           49,
           23,
           46,
           24,
           17,
           14,
           19,
           30,
           38,
           40,
           7,
           48,
           14,
           14,
           14
          ],
          "coloraxis": "coloraxis",
          "symbol": "circle"
         },
         "mode": "markers",
         "name": "",
         "orientation": "v",
         "showlegend": false,
         "type": "scatter",
         "x": [
          7.8622822761535645,
          6.996767044067383,
          6.294517517089844,
          8.049612045288086,
          5.234400272369385,
          9.121898651123047,
          8.404044151306152,
          8.57099723815918,
          5.839918613433838,
          9.92824935913086,
          8.95734977722168,
          5.567629337310791,
          6.860986709594727,
          6.89782190322876,
          10.708362579345703,
          8.640846252441406,
          7.786647796630859,
          8.875824928283691,
          7.034282207489014,
          11.3540678024292,
          7.0419230461120605,
          8.554498672485352,
          5.87797737121582,
          8.369140625,
          10.835100173950195,
          8.918686866760254,
          7.95772123336792,
          6.95950984954834,
          5.560449123382568,
          7.01869535446167,
          9.628458976745605,
          6.222857475280762,
          10.060312271118164,
          7.977189540863037,
          11.036831855773926,
          7.721760272979736,
          8.03035831451416,
          6.047732830047607,
          6.0273237228393555,
          5.846907615661621,
          10.626168251037598,
          9.663810729980469,
          7.6252899169921875,
          11.100022315979004,
          6.98358154296875,
          9.835700035095215,
          7.303454875946045,
          9.333138465881348,
          8.94258975982666,
          10.362180709838867,
          7.824260234832764,
          7.31868839263916,
          10.224398612976074,
          9.786188125610352,
          6.976320743560791,
          5.82641077041626,
          9.73910140991211,
          8.82175064086914,
          10.320034980773926,
          9.681201934814453,
          7.01559591293335,
          9.066267013549805,
          6.264543533325195,
          10.610052108764648,
          6.3055925369262695,
          6.838817596435547,
          9.503934860229492,
          6.217811107635498,
          7.005288124084473,
          9.851595878601074,
          5.749305725097656,
          9.272659301757812,
          8.7694091796875,
          5.65975284576416,
          7.086124420166016,
          6.939269542694092,
          5.089623928070068,
          8.94718074798584,
          7.395881652832031,
          5.632629871368408,
          6.162747383117676,
          7.89497709274292,
          8.011240005493164,
          5.742156505584717,
          5.274044513702393,
          10.781184196472168,
          10.395211219787598,
          6.35391902923584,
          8.548493385314941,
          7.1483235359191895,
          5.689627647399902,
          6.7425665855407715,
          7.5891008377075195,
          7.117255210876465,
          10.761282920837402,
          9.64107894897461,
          6.8361077308654785,
          8.590725898742676,
          11.588750839233398,
          5.904210090637207,
          6.836545944213867,
          10.949841499328613,
          7.6935553550720215,
          9.056771278381348,
          9.30186939239502,
          7.542009353637695,
          7.0540876388549805,
          8.968701362609863,
          10.739288330078125,
          6.173274993896484,
          10.500677108764648,
          6.830863952636719,
          5.187690258026123,
          9.386669158935547,
          9.543951988220215,
          6.0226149559021,
          7.060246467590332,
          7.965842247009277,
          9.03674602508545,
          6.470873832702637,
          5.417280673980713,
          5.682438373565674,
          6.961657524108887,
          10.18294906616211,
          10.171948432922363,
          7.8394269943237305,
          9.731993675231934,
          5.687774658203125,
          9.21311092376709,
          6.474599361419678,
          7.14042854309082,
          9.253811836242676,
          8.700624465942383,
          10.762392044067383,
          6.794561862945557,
          10.371747016906738,
          8.325552940368652,
          10.475996971130371,
          9.581376075744629,
          6.3640971183776855,
          9.577873229980469,
          6.296699047088623,
          9.130646705627441,
          5.831557750701904,
          7.531800746917725,
          10.080262184143066,
          5.697875499725342,
          5.490111351013184,
          10.63857650756836,
          9.232710838317871,
          9.189529418945312,
          8.090767860412598,
          7.675444602966309,
          5.677104949951172,
          5.897431373596191,
          9.965389251708984,
          10.628332138061523,
          5.404360294342041,
          6.943282604217529,
          7.925046443939209,
          11.589362144470215,
          5.967869281768799,
          10.815633773803711,
          6.3970842361450195,
          5.632531642913818,
          6.093016147613525,
          10.748970031738281,
          7.039135932922363,
          9.216425895690918,
          9.454278945922852,
          7.019919395446777,
          8.971891403198242,
          11.518587112426758,
          8.574911117553711,
          9.166152954101562,
          5.739773750305176,
          6.203314781188965,
          8.904561996459961,
          6.641284465789795,
          11.325139045715332,
          8.455851554870605,
          8.539077758789062,
          6.467586040496826,
          10.210678100585938,
          6.8569183349609375,
          7.551191329956055,
          9.760976791381836,
          9.125428199768066,
          7.192173480987549,
          8.569936752319336,
          7.3652472496032715,
          6.596370220184326,
          6.3301849365234375,
          8.771747589111328,
          6.796607971191406,
          8.779067993164062,
          8.96108341217041,
          6.8483428955078125,
          11.14111614227295,
          7.342939853668213,
          6.842682838439941,
          5.660990238189697,
          8.625426292419434,
          8.56069278717041,
          7.89392614364624,
          9.554777145385742,
          6.264307022094727,
          8.103843688964844,
          10.947455406188965,
          6.608367919921875,
          9.20726203918457,
          8.519060134887695,
          9.961628913879395,
          8.882646560668945,
          9.025965690612793,
          9.419500350952148,
          5.328433990478516,
          10.659894943237305,
          7.974593162536621,
          8.637833595275879,
          8.350050926208496,
          10.25173282623291,
          8.407783508300781,
          9.832659721374512,
          8.471969604492188,
          9.180364608764648,
          9.15807056427002,
          9.13509464263916,
          11.219897270202637,
          9.921064376831055,
          9.170662879943848,
          6.437151908874512,
          9.745491027832031,
          11.53451919555664,
          9.011771202087402,
          9.070208549499512,
          6.760018348693848,
          7.314981460571289,
          7.356348037719727,
          6.852543830871582,
          9.744600296020508,
          6.648975372314453,
          7.803745269775391,
          5.086992263793945,
          6.289061069488525,
          5.44256067276001,
          9.055323600769043,
          9.884202003479004,
          11.419820785522461,
          7.427384853363037,
          7.994714736938477,
          10.168778419494629,
          6.0759968757629395,
          9.592218399047852,
          9.545221328735352,
          5.207345008850098,
          10.248117446899414,
          10.301198959350586,
          6.381270408630371,
          9.175548553466797,
          7.48257303237915,
          7.350051403045654,
          7.958402633666992,
          10.526304244995117,
          10.647138595581055,
          10.795804977416992,
          5.937543869018555,
          7.138640880584717,
          10.790056228637695,
          6.40436315536499,
          9.333841323852539,
          7.927234172821045,
          6.071537494659424,
          5.761978626251221,
          7.115901947021484,
          6.090950012207031,
          10.017702102661133,
          8.465156555175781,
          8.553498268127441,
          7.025725841522217,
          10.3346529006958,
          11.378052711486816,
          9.698831558227539,
          7.723466396331787,
          9.628872871398926,
          8.895151138305664,
          9.15494155883789,
          6.0482611656188965,
          8.579244613647461,
          9.818975448608398,
          10.131243705749512,
          9.671723365783691,
          6.58029842376709,
          6.2732439041137695,
          6.0462965965271,
          6.422520160675049,
          10.544525146484375,
          10.433520317077637,
          10.709065437316895,
          7.990312576293945,
          6.579141139984131,
          10.768177032470703,
          9.116671562194824,
          9.509726524353027,
          8.651379585266113,
          7.917602062225342,
          9.673519134521484,
          9.026378631591797,
          9.5183744430542,
          9.039813995361328,
          8.807223320007324,
          9.189929962158203,
          6.36312198638916,
          8.24454402923584,
          8.707633018493652,
          6.933728218078613,
          6.568782806396484,
          6.963626861572266,
          5.1536545753479,
          10.490518569946289,
          10.436867713928223,
          10.947933197021484,
          10.34560775756836,
          10.74071979522705,
          7.605546951293945,
          9.275979042053223,
          10.64130687713623,
          9.137362480163574,
          6.111893653869629,
          5.802720069885254,
          9.179422378540039,
          6.08501672744751,
          5.1333794593811035,
          6.085964679718018,
          6.884588718414307,
          9.791186332702637,
          11.437708854675293,
          10.830535888671875,
          9.098957061767578,
          9.552519798278809,
          9.079771995544434,
          7.854248046875,
          6.339547157287598,
          6.474969387054443,
          6.828539848327637,
          7.43513298034668,
          6.214324951171875,
          8.036636352539062,
          9.176219940185547,
          6.274516582489014,
          9.861564636230469,
          8.710612297058105,
          10.10987377166748,
          9.415428161621094,
          6.656511306762695,
          6.542370796203613,
          9.136710166931152,
          9.277336120605469,
          7.865992069244385,
          6.466696262359619,
          6.032487869262695,
          10.404842376708984,
          7.922406196594238,
          10.195993423461914,
          8.860427856445312,
          7.68095588684082,
          9.853843688964844,
          7.7302350997924805,
          7.325520038604736,
          6.0942816734313965,
          10.191615104675293,
          11.440308570861816,
          6.697468280792236,
          6.222601890563965,
          5.87385368347168,
          10.5745849609375,
          8.71717357635498,
          7.8031110763549805,
          9.357100486755371,
          10.096040725708008,
          10.074577331542969,
          8.667052268981934,
          9.5902681350708,
          8.872410774230957,
          6.154664993286133,
          9.918778419494629,
          7.111683368682861,
          9.099464416503906,
          7.720452785491943,
          5.394506931304932,
          8.722871780395508,
          10.663284301757812,
          7.242238998413086,
          10.6593017578125,
          7.621786594390869,
          6.029205322265625,
          6.94063138961792,
          7.972387313842773,
          8.636642456054688,
          9.888575553894043,
          11.561380386352539,
          11.578961372375488,
          8.764491081237793,
          7.367367267608643,
          6.088972568511963,
          7.021377086639404,
          7.318732261657715,
          7.5392537117004395,
          5.026116847991943,
          8.875727653503418,
          6.42144775390625,
          7.045567035675049,
          9.381023406982422,
          5.6133856773376465,
          8.512871742248535,
          9.5857515335083,
          7.7341413497924805,
          9.854744911193848,
          6.2678117752075195,
          10.736946105957031,
          8.602806091308594,
          7.171642780303955,
          9.144156455993652,
          6.654551029205322,
          6.155847072601318,
          5.187778949737549,
          8.829167366027832,
          5.551253795623779,
          5.418281555175781,
          10.241151809692383,
          7.866432189941406,
          6.1299357414245605,
          7.383000373840332,
          6.808297157287598,
          9.031908988952637,
          9.286623001098633,
          9.751389503479004,
          6.806809425354004,
          8.816012382507324,
          9.897317886352539,
          8.380796432495117,
          10.643035888671875,
          6.310746192932129,
          5.391762733459473,
          9.982039451599121,
          9.456646919250488,
          10.527237892150879,
          7.385670185089111,
          8.820937156677246,
          5.073404788970947,
          8.940349578857422,
          7.080917835235596,
          11.38487720489502,
          10.011207580566406,
          7.093275547027588,
          9.731528282165527,
          6.154279708862305,
          6.847236633300781,
          6.290152072906494,
          8.400298118591309,
          9.504936218261719,
          5.665938377380371,
          10.000242233276367,
          9.245742797851562,
          6.887802600860596,
          8.458707809448242,
          9.173428535461426,
          9.71615982055664,
          7.2852067947387695,
          9.774303436279297,
          8.492938041687012,
          10.309203147888184,
          6.070654392242432,
          6.483907222747803,
          7.612702369689941,
          9.985278129577637,
          6.403787136077881,
          5.790126800537109,
          7.743734359741211,
          9.243917465209961,
          6.659010887145996,
          9.365740776062012,
          9.598411560058594,
          8.86755657196045,
          7.29215669631958,
          10.534407615661621,
          9.444825172424316,
          8.140948295593262,
          9.054155349731445,
          10.168946266174316,
          5.76961612701416,
          8.713247299194336,
          8.680647850036621,
          10.109785079956055,
          7.18502950668335,
          8.78396224975586,
          5.243361949920654,
          5.817240238189697,
          6.028840065002441,
          6.5181121826171875
         ],
         "xaxis": "x",
         "y": [
          4.145305156707764,
          5.301177024841309,
          3.6946375370025635,
          6.591091632843018,
          5.507451057434082,
          2.487555503845215,
          5.945329666137695,
          6.920415878295898,
          6.125665664672852,
          2.8129096031188965,
          2.887791872024536,
          4.988461494445801,
          4.443942546844482,
          1.3445684909820557,
          3.7385976314544678,
          6.160564422607422,
          2.8056914806365967,
          1.6210843324661255,
          1.6804828643798828,
          4.634631633758545,
          7.006490707397461,
          2.315821886062622,
          2.06852388381958,
          4.694108963012695,
          5.9558563232421875,
          4.513344764709473,
          4.249986171722412,
          0.6403716802597046,
          6.120767593383789,
          6.9922776222229,
          6.831788539886475,
          4.157599925994873,
          2.560134172439575,
          6.2671098709106445,
          4.87436056137085,
          3.7809364795684814,
          6.706930160522461,
          5.288489818572998,
          1.302940845489502,
          0.8696030974388123,
          3.237295627593994,
          1.4513649940490723,
          3.358046054840088,
          4.776248455047607,
          4.049173831939697,
          4.777097225189209,
          5.910288333892822,
          5.808848857879639,
          1.7346978187561035,
          2.717233419418335,
          2.783951759338379,
          5.188250541687012,
          2.7583916187286377,
          6.662533283233643,
          4.400945663452148,
          6.149055004119873,
          1.5289151668548584,
          2.5028998851776123,
          4.232749938964844,
          1.5732207298278809,
          1.5600461959838867,
          2.388192653656006,
          2.1837446689605713,
          3.5231451988220215,
          4.408238410949707,
          1.568892478942871,
          1.5365805625915527,
          3.8979077339172363,
          3.07018780708313,
          3.0631558895111084,
          0.8966020345687866,
          6.716316223144531,
          3.0320887565612793,
          5.984523773193359,
          1.677369236946106,
          3.2771084308624268,
          5.543144226074219,
          4.961325645446777,
          5.235982418060303,
          4.953603744506836,
          5.279171466827393,
          4.225032329559326,
          6.615561485290527,
          2.524238109588623,
          5.41102933883667,
          3.146000862121582,
          5.142454147338867,
          2.122507095336914,
          4.981053829193115,
          0.7633912563323975,
          6.150227069854736,
          5.354601860046387,
          2.2948849201202393,
          5.886646747589111,
          4.589570045471191,
          7.036043167114258,
          5.331625461578369,
          4.168569564819336,
          4.7153000831604,
          5.997498989105225,
          0.49858811497688293,
          3.9957687854766846,
          3.993612766265869,
          2.761042833328247,
          6.903133392333984,
          3.5372211933135986,
          5.491064548492432,
          6.657510757446289,
          6.07399320602417,
          0.5903193354606628,
          4.755664348602295,
          6.272414684295654,
          5.829549789428711,
          7.19188117980957,
          6.929929256439209,
          5.234258651733398,
          7.015874862670898,
          4.196770668029785,
          4.915990829467773,
          2.041823387145996,
          5.862180709838867,
          4.418057441711426,
          2.9284169673919678,
          2.5597879886627197,
          4.923423767089844,
          2.8450675010681152,
          5.17408561706543,
          1.2831177711486816,
          3.927062511444092,
          1.5418404340744019,
          4.681018352508545,
          5.693833827972412,
          7.043460845947266,
          6.028059959411621,
          4.020634174346924,
          2.731193780899048,
          2.6888065338134766,
          4.71285343170166,
          4.424646377563477,
          5.090001106262207,
          1.6570372581481934,
          2.0250282287597656,
          5.333637237548828,
          6.04464054107666,
          4.04075288772583,
          4.044093132019043,
          3.985062837600708,
          5.389872074127197,
          4.081943035125732,
          5.9306440353393555,
          4.77203893661499,
          6.631155967712402,
          5.501772403717041,
          4.188061714172363,
          5.7080206871032715,
          2.9649977684020996,
          5.5170512199401855,
          5.640688419342041,
          5.9521565437316895,
          3.535282611846924,
          4.5809855461120605,
          1.8531296253204346,
          3.1903324127197266,
          2.0263445377349854,
          6.243063926696777,
          0.5159040093421936,
          6.040365219116211,
          1.6525437831878662,
          4.764149188995361,
          7.106855869293213,
          4.612959861755371,
          1.667726755142212,
          4.797010898590088,
          2.9207510948181152,
          6.315060615539551,
          4.172976016998291,
          1.2174345254898071,
          7.11281156539917,
          2.3722338676452637,
          4.808165550231934,
          6.093857765197754,
          2.308138608932495,
          4.014739036560059,
          5.760837078094482,
          6.456104755401611,
          4.703319072723389,
          1.5302951335906982,
          3.812697410583496,
          3.306216239929199,
          3.2919740676879883,
          5.068913459777832,
          5.439140796661377,
          5.139278411865234,
          4.994948387145996,
          5.715638160705566,
          6.119465351104736,
          1.8682488203048706,
          3.4723265171051025,
          4.243222713470459,
          3.970419406890869,
          6.410400390625,
          5.822025775909424,
          7.010146141052246,
          6.714720249176025,
          6.885499954223633,
          6.998114109039307,
          3.3516452312469482,
          6.818445682525635,
          4.292010307312012,
          3.128429889678955,
          4.45538330078125,
          4.769479274749756,
          1.7062171697616577,
          4.940888404846191,
          4.614107608795166,
          4.180696964263916,
          5.442781925201416,
          6.024744510650635,
          6.845615386962891,
          4.33986234664917,
          5.193424701690674,
          6.303225517272949,
          5.9726481437683105,
          5.076544761657715,
          6.857818126678467,
          6.475298881530762,
          5.796270370483398,
          1.533141016960144,
          4.353011608123779,
          6.6983418464660645,
          6.339601039886475,
          1.6212776899337769,
          3.8151133060455322,
          4.656620502471924,
          2.6339709758758545,
          4.686697006225586,
          0.4706355333328247,
          6.0276360511779785,
          1.8717083930969238,
          1.7809414863586426,
          6.938441753387451,
          6.588184356689453,
          3.3254892826080322,
          5.46455717086792,
          1.5298234224319458,
          5.303299903869629,
          3.753655433654785,
          1.693475365638733,
          4.765471935272217,
          4.372226715087891,
          4.722172737121582,
          6.572636127471924,
          0.42436739802360535,
          7.092251777648926,
          3.2897582054138184,
          5.646822452545166,
          3.2966468334198,
          3.114366054534912,
          3.8550779819488525,
          3.7941319942474365,
          2.145104169845581,
          3.2732317447662354,
          3.505988121032715,
          3.1257991790771484,
          4.482171535491943,
          3.1778430938720703,
          0.736656665802002,
          6.946914196014404,
          3.7142539024353027,
          4.253220558166504,
          4.909739017486572,
          3.5825908184051514,
          0.4206690192222595,
          4.127569675445557,
          3.268183469772339,
          5.599920272827148,
          5.713615894317627,
          3.263077974319458,
          5.724206924438477,
          3.0301451683044434,
          4.501865386962891,
          4.3963823318481445,
          2.1241416931152344,
          2.903536558151245,
          6.9922332763671875,
          5.681034564971924,
          4.936671733856201,
          1.0144094228744507,
          6.012572765350342,
          5.826728820800781,
          5.400953769683838,
          4.609353065490723,
          4.03715181350708,
          3.3086020946502686,
          1.7664928436279297,
          2.1687417030334473,
          2.943359613418579,
          2.794970989227295,
          6.138324737548828,
          6.2510457038879395,
          2.478761672973633,
          3.572442054748535,
          3.999199867248535,
          4.173090934753418,
          6.94797945022583,
          6.197249412536621,
          5.429537296295166,
          2.7818171977996826,
          7.058761119842529,
          1.9533735513687134,
          2.6195719242095947,
          6.343353748321533,
          5.4807257652282715,
          5.779147148132324,
          3.925806760787964,
          0.6517759561538696,
          4.173681735992432,
          5.853382110595703,
          5.5931501388549805,
          3.037407159805298,
          4.894582271575928,
          4.839319705963135,
          2.9875125885009766,
          3.6643104553222656,
          5.453577041625977,
          4.105240345001221,
          3.654268264770508,
          3.1908059120178223,
          0.39787644147872925,
          4.701047897338867,
          3.1048338413238525,
          0.43249139189720154,
          6.089045524597168,
          0.39862164855003357,
          6.333960056304932,
          6.639592170715332,
          4.719258785247803,
          4.100694179534912,
          5.4416351318359375,
          3.047903299331665,
          2.420454740524292,
          4.010191440582275,
          1.192492127418518,
          6.436160087585449,
          3.3871424198150635,
          3.3544204235076904,
          1.5828546285629272,
          4.380740165710449,
          1.5193088054656982,
          2.592384099960327,
          4.81422758102417,
          6.979135513305664,
          4.188877582550049,
          3.9686827659606934,
          5.299128532409668,
          4.270052433013916,
          2.8873794078826904,
          6.2173004150390625,
          4.126955509185791,
          0.3965122699737549,
          1.612162709236145,
          4.804574489593506,
          5.0863728523254395,
          2.311969757080078,
          2.6104543209075928,
          3.0691092014312744,
          2.5274124145507812,
          2.9107866287231445,
          1.9770922660827637,
          1.8360575437545776,
          3.732131242752075,
          4.410646438598633,
          4.801043510437012,
          3.4193115234375,
          0.797828197479248,
          5.072874546051025,
          5.350739002227783,
          2.941833734512329,
          6.55571174621582,
          4.046844005584717,
          4.8752570152282715,
          5.2633280754089355,
          5.212154865264893,
          1.9163180589675903,
          1.543519139289856,
          6.000843524932861,
          6.9299635887146,
          2.139307975769043,
          4.616098880767822,
          5.933525562286377,
          3.1257243156433105,
          6.105029582977295,
          4.374561786651611,
          5.846282958984375,
          6.446038246154785,
          0.4554469883441925,
          5.9264302253723145,
          4.258228302001953,
          5.1977715492248535,
          5.084792137145996,
          4.49534797668457,
          4.574890613555908,
          1.9001336097717285,
          4.711099624633789,
          0.44188886880874634,
          6.09065055847168,
          3.4333176612854004,
          5.0754876136779785,
          5.476353645324707,
          4.247438907623291,
          3.4882874488830566,
          6.89402437210083,
          6.94457483291626,
          5.001253604888916,
          4.111561298370361,
          1.6186379194259644,
          5.646614074707031,
          6.366142749786377,
          1.6047850847244263,
          6.014793395996094,
          5.994414806365967,
          5.704721927642822,
          2.7080814838409424,
          3.92499041557312,
          0.4849914312362671,
          5.992880821228027,
          5.487774848937988,
          4.725582122802734,
          5.382479667663574,
          2.6012520790100098,
          3.511441230773926,
          1.5083065032958984,
          4.329744815826416,
          0.45720767974853516,
          4.975585460662842,
          3.288886308670044,
          2.5476322174072266,
          2.818537950515747,
          6.667766571044922,
          6.337979793548584,
          2.4021787643432617,
          5.245691776275635,
          3.8394546508789062,
          5.937530040740967,
          5.457394599914551,
          4.16389274597168,
          3.144254684448242,
          2.0982542037963867,
          3.9056742191314697,
          5.551668643951416,
          1.6581147909164429,
          6.9769487380981445,
          4.74850606918335,
          3.951261281967163,
          4.754088401794434,
          6.7622528076171875,
          1.696701169013977,
          0.5778006911277771,
          3.702143907546997,
          5.620555877685547,
          4.467437267303467,
          5.922165393829346,
          4.010630130767822,
          3.9922444820404053,
          5.7913312911987305,
          2.4357988834381104,
          6.1936564445495605,
          3.1385104656219482,
          4.0247673988342285,
          1.4995038509368896,
          6.575499057769775,
          2.6278791427612305,
          1.6418310403823853,
          4.038115501403809,
          5.130392551422119,
          4.005436897277832,
          5.293980121612549,
          0.859057605266571,
          5.604795932769775,
          6.341789722442627,
          0.4111882746219635,
          3.561694860458374,
          4.439272880554199,
          1.6640408039093018,
          4.872003555297852,
          4.72213077545166,
          4.501536846160889,
          2.682806968688965,
          5.8747382164001465,
          3.0385355949401855,
          1.1755388975143433,
          1.8667261600494385,
          6.836188793182373,
          6.347970485687256,
          5.84290885925293,
          6.424752712249756,
          5.928917407989502,
          1.0343456268310547,
          1.1098774671554565,
          1.1427993774414062
         ],
         "yaxis": "y"
        }
       ],
       "layout": {
        "coloraxis": {
         "colorbar": {
          "title": {
           "text": "KMeans_classes"
          }
         },
         "colorscale": [
          [
           0,
           "#0d0887"
          ],
          [
           0.1111111111111111,
           "#46039f"
          ],
          [
           0.2222222222222222,
           "#7201a8"
          ],
          [
           0.3333333333333333,
           "#9c179e"
          ],
          [
           0.4444444444444444,
           "#bd3786"
          ],
          [
           0.5555555555555556,
           "#d8576b"
          ],
          [
           0.6666666666666666,
           "#ed7953"
          ],
          [
           0.7777777777777778,
           "#fb9f3a"
          ],
          [
           0.8888888888888888,
           "#fdca26"
          ],
          [
           1,
           "#f0f921"
          ]
         ]
        },
        "legend": {
         "tracegroupgap": 0
        },
        "margin": {
         "t": 60
        },
        "template": {
         "data": {
          "bar": [
           {
            "error_x": {
             "color": "#2a3f5f"
            },
            "error_y": {
             "color": "#2a3f5f"
            },
            "marker": {
             "line": {
              "color": "#E5ECF6",
              "width": 0.5
             },
             "pattern": {
              "fillmode": "overlay",
              "size": 10,
              "solidity": 0.2
             }
            },
            "type": "bar"
           }
          ],
          "barpolar": [
           {
            "marker": {
             "line": {
              "color": "#E5ECF6",
              "width": 0.5
             },
             "pattern": {
              "fillmode": "overlay",
              "size": 10,
              "solidity": 0.2
             }
            },
            "type": "barpolar"
           }
          ],
          "carpet": [
           {
            "aaxis": {
             "endlinecolor": "#2a3f5f",
             "gridcolor": "white",
             "linecolor": "white",
             "minorgridcolor": "white",
             "startlinecolor": "#2a3f5f"
            },
            "baxis": {
             "endlinecolor": "#2a3f5f",
             "gridcolor": "white",
             "linecolor": "white",
             "minorgridcolor": "white",
             "startlinecolor": "#2a3f5f"
            },
            "type": "carpet"
           }
          ],
          "choropleth": [
           {
            "colorbar": {
             "outlinewidth": 0,
             "ticks": ""
            },
            "type": "choropleth"
           }
          ],
          "contour": [
           {
            "colorbar": {
             "outlinewidth": 0,
             "ticks": ""
            },
            "colorscale": [
             [
              0,
              "#0d0887"
             ],
             [
              0.1111111111111111,
              "#46039f"
             ],
             [
              0.2222222222222222,
              "#7201a8"
             ],
             [
              0.3333333333333333,
              "#9c179e"
             ],
             [
              0.4444444444444444,
              "#bd3786"
             ],
             [
              0.5555555555555556,
              "#d8576b"
             ],
             [
              0.6666666666666666,
              "#ed7953"
             ],
             [
              0.7777777777777778,
              "#fb9f3a"
             ],
             [
              0.8888888888888888,
              "#fdca26"
             ],
             [
              1,
              "#f0f921"
             ]
            ],
            "type": "contour"
           }
          ],
          "contourcarpet": [
           {
            "colorbar": {
             "outlinewidth": 0,
             "ticks": ""
            },
            "type": "contourcarpet"
           }
          ],
          "heatmap": [
           {
            "colorbar": {
             "outlinewidth": 0,
             "ticks": ""
            },
            "colorscale": [
             [
              0,
              "#0d0887"
             ],
             [
              0.1111111111111111,
              "#46039f"
             ],
             [
              0.2222222222222222,
              "#7201a8"
             ],
             [
              0.3333333333333333,
              "#9c179e"
             ],
             [
              0.4444444444444444,
              "#bd3786"
             ],
             [
              0.5555555555555556,
              "#d8576b"
             ],
             [
              0.6666666666666666,
              "#ed7953"
             ],
             [
              0.7777777777777778,
              "#fb9f3a"
             ],
             [
              0.8888888888888888,
              "#fdca26"
             ],
             [
              1,
              "#f0f921"
             ]
            ],
            "type": "heatmap"
           }
          ],
          "heatmapgl": [
           {
            "colorbar": {
             "outlinewidth": 0,
             "ticks": ""
            },
            "colorscale": [
             [
              0,
              "#0d0887"
             ],
             [
              0.1111111111111111,
              "#46039f"
             ],
             [
              0.2222222222222222,
              "#7201a8"
             ],
             [
              0.3333333333333333,
              "#9c179e"
             ],
             [
              0.4444444444444444,
              "#bd3786"
             ],
             [
              0.5555555555555556,
              "#d8576b"
             ],
             [
              0.6666666666666666,
              "#ed7953"
             ],
             [
              0.7777777777777778,
              "#fb9f3a"
             ],
             [
              0.8888888888888888,
              "#fdca26"
             ],
             [
              1,
              "#f0f921"
             ]
            ],
            "type": "heatmapgl"
           }
          ],
          "histogram": [
           {
            "marker": {
             "pattern": {
              "fillmode": "overlay",
              "size": 10,
              "solidity": 0.2
             }
            },
            "type": "histogram"
           }
          ],
          "histogram2d": [
           {
            "colorbar": {
             "outlinewidth": 0,
             "ticks": ""
            },
            "colorscale": [
             [
              0,
              "#0d0887"
             ],
             [
              0.1111111111111111,
              "#46039f"
             ],
             [
              0.2222222222222222,
              "#7201a8"
             ],
             [
              0.3333333333333333,
              "#9c179e"
             ],
             [
              0.4444444444444444,
              "#bd3786"
             ],
             [
              0.5555555555555556,
              "#d8576b"
             ],
             [
              0.6666666666666666,
              "#ed7953"
             ],
             [
              0.7777777777777778,
              "#fb9f3a"
             ],
             [
              0.8888888888888888,
              "#fdca26"
             ],
             [
              1,
              "#f0f921"
             ]
            ],
            "type": "histogram2d"
           }
          ],
          "histogram2dcontour": [
           {
            "colorbar": {
             "outlinewidth": 0,
             "ticks": ""
            },
            "colorscale": [
             [
              0,
              "#0d0887"
             ],
             [
              0.1111111111111111,
              "#46039f"
             ],
             [
              0.2222222222222222,
              "#7201a8"
             ],
             [
              0.3333333333333333,
              "#9c179e"
             ],
             [
              0.4444444444444444,
              "#bd3786"
             ],
             [
              0.5555555555555556,
              "#d8576b"
             ],
             [
              0.6666666666666666,
              "#ed7953"
             ],
             [
              0.7777777777777778,
              "#fb9f3a"
             ],
             [
              0.8888888888888888,
              "#fdca26"
             ],
             [
              1,
              "#f0f921"
             ]
            ],
            "type": "histogram2dcontour"
           }
          ],
          "mesh3d": [
           {
            "colorbar": {
             "outlinewidth": 0,
             "ticks": ""
            },
            "type": "mesh3d"
           }
          ],
          "parcoords": [
           {
            "line": {
             "colorbar": {
              "outlinewidth": 0,
              "ticks": ""
             }
            },
            "type": "parcoords"
           }
          ],
          "pie": [
           {
            "automargin": true,
            "type": "pie"
           }
          ],
          "scatter": [
           {
            "fillpattern": {
             "fillmode": "overlay",
             "size": 10,
             "solidity": 0.2
            },
            "type": "scatter"
           }
          ],
          "scatter3d": [
           {
            "line": {
             "colorbar": {
              "outlinewidth": 0,
              "ticks": ""
             }
            },
            "marker": {
             "colorbar": {
              "outlinewidth": 0,
              "ticks": ""
             }
            },
            "type": "scatter3d"
           }
          ],
          "scattercarpet": [
           {
            "marker": {
             "colorbar": {
              "outlinewidth": 0,
              "ticks": ""
             }
            },
            "type": "scattercarpet"
           }
          ],
          "scattergeo": [
           {
            "marker": {
             "colorbar": {
              "outlinewidth": 0,
              "ticks": ""
             }
            },
            "type": "scattergeo"
           }
          ],
          "scattergl": [
           {
            "marker": {
             "colorbar": {
              "outlinewidth": 0,
              "ticks": ""
             }
            },
            "type": "scattergl"
           }
          ],
          "scattermapbox": [
           {
            "marker": {
             "colorbar": {
              "outlinewidth": 0,
              "ticks": ""
             }
            },
            "type": "scattermapbox"
           }
          ],
          "scatterpolar": [
           {
            "marker": {
             "colorbar": {
              "outlinewidth": 0,
              "ticks": ""
             }
            },
            "type": "scatterpolar"
           }
          ],
          "scatterpolargl": [
           {
            "marker": {
             "colorbar": {
              "outlinewidth": 0,
              "ticks": ""
             }
            },
            "type": "scatterpolargl"
           }
          ],
          "scatterternary": [
           {
            "marker": {
             "colorbar": {
              "outlinewidth": 0,
              "ticks": ""
             }
            },
            "type": "scatterternary"
           }
          ],
          "surface": [
           {
            "colorbar": {
             "outlinewidth": 0,
             "ticks": ""
            },
            "colorscale": [
             [
              0,
              "#0d0887"
             ],
             [
              0.1111111111111111,
              "#46039f"
             ],
             [
              0.2222222222222222,
              "#7201a8"
             ],
             [
              0.3333333333333333,
              "#9c179e"
             ],
             [
              0.4444444444444444,
              "#bd3786"
             ],
             [
              0.5555555555555556,
              "#d8576b"
             ],
             [
              0.6666666666666666,
              "#ed7953"
             ],
             [
              0.7777777777777778,
              "#fb9f3a"
             ],
             [
              0.8888888888888888,
              "#fdca26"
             ],
             [
              1,
              "#f0f921"
             ]
            ],
            "type": "surface"
           }
          ],
          "table": [
           {
            "cells": {
             "fill": {
              "color": "#EBF0F8"
             },
             "line": {
              "color": "white"
             }
            },
            "header": {
             "fill": {
              "color": "#C8D4E3"
             },
             "line": {
              "color": "white"
             }
            },
            "type": "table"
           }
          ]
         },
         "layout": {
          "annotationdefaults": {
           "arrowcolor": "#2a3f5f",
           "arrowhead": 0,
           "arrowwidth": 1
          },
          "autotypenumbers": "strict",
          "coloraxis": {
           "colorbar": {
            "outlinewidth": 0,
            "ticks": ""
           }
          },
          "colorscale": {
           "diverging": [
            [
             0,
             "#8e0152"
            ],
            [
             0.1,
             "#c51b7d"
            ],
            [
             0.2,
             "#de77ae"
            ],
            [
             0.3,
             "#f1b6da"
            ],
            [
             0.4,
             "#fde0ef"
            ],
            [
             0.5,
             "#f7f7f7"
            ],
            [
             0.6,
             "#e6f5d0"
            ],
            [
             0.7,
             "#b8e186"
            ],
            [
             0.8,
             "#7fbc41"
            ],
            [
             0.9,
             "#4d9221"
            ],
            [
             1,
             "#276419"
            ]
           ],
           "sequential": [
            [
             0,
             "#0d0887"
            ],
            [
             0.1111111111111111,
             "#46039f"
            ],
            [
             0.2222222222222222,
             "#7201a8"
            ],
            [
             0.3333333333333333,
             "#9c179e"
            ],
            [
             0.4444444444444444,
             "#bd3786"
            ],
            [
             0.5555555555555556,
             "#d8576b"
            ],
            [
             0.6666666666666666,
             "#ed7953"
            ],
            [
             0.7777777777777778,
             "#fb9f3a"
            ],
            [
             0.8888888888888888,
             "#fdca26"
            ],
            [
             1,
             "#f0f921"
            ]
           ],
           "sequentialminus": [
            [
             0,
             "#0d0887"
            ],
            [
             0.1111111111111111,
             "#46039f"
            ],
            [
             0.2222222222222222,
             "#7201a8"
            ],
            [
             0.3333333333333333,
             "#9c179e"
            ],
            [
             0.4444444444444444,
             "#bd3786"
            ],
            [
             0.5555555555555556,
             "#d8576b"
            ],
            [
             0.6666666666666666,
             "#ed7953"
            ],
            [
             0.7777777777777778,
             "#fb9f3a"
            ],
            [
             0.8888888888888888,
             "#fdca26"
            ],
            [
             1,
             "#f0f921"
            ]
           ]
          },
          "colorway": [
           "#636efa",
           "#EF553B",
           "#00cc96",
           "#ab63fa",
           "#FFA15A",
           "#19d3f3",
           "#FF6692",
           "#B6E880",
           "#FF97FF",
           "#FECB52"
          ],
          "font": {
           "color": "#2a3f5f"
          },
          "geo": {
           "bgcolor": "white",
           "lakecolor": "white",
           "landcolor": "#E5ECF6",
           "showlakes": true,
           "showland": true,
           "subunitcolor": "white"
          },
          "hoverlabel": {
           "align": "left"
          },
          "hovermode": "closest",
          "mapbox": {
           "style": "light"
          },
          "paper_bgcolor": "white",
          "plot_bgcolor": "#E5ECF6",
          "polar": {
           "angularaxis": {
            "gridcolor": "white",
            "linecolor": "white",
            "ticks": ""
           },
           "bgcolor": "#E5ECF6",
           "radialaxis": {
            "gridcolor": "white",
            "linecolor": "white",
            "ticks": ""
           }
          },
          "scene": {
           "xaxis": {
            "backgroundcolor": "#E5ECF6",
            "gridcolor": "white",
            "gridwidth": 2,
            "linecolor": "white",
            "showbackground": true,
            "ticks": "",
            "zerolinecolor": "white"
           },
           "yaxis": {
            "backgroundcolor": "#E5ECF6",
            "gridcolor": "white",
            "gridwidth": 2,
            "linecolor": "white",
            "showbackground": true,
            "ticks": "",
            "zerolinecolor": "white"
           },
           "zaxis": {
            "backgroundcolor": "#E5ECF6",
            "gridcolor": "white",
            "gridwidth": 2,
            "linecolor": "white",
            "showbackground": true,
            "ticks": "",
            "zerolinecolor": "white"
           }
          },
          "shapedefaults": {
           "line": {
            "color": "#2a3f5f"
           }
          },
          "ternary": {
           "aaxis": {
            "gridcolor": "white",
            "linecolor": "white",
            "ticks": ""
           },
           "baxis": {
            "gridcolor": "white",
            "linecolor": "white",
            "ticks": ""
           },
           "bgcolor": "#E5ECF6",
           "caxis": {
            "gridcolor": "white",
            "linecolor": "white",
            "ticks": ""
           }
          },
          "title": {
           "x": 0.05
          },
          "xaxis": {
           "automargin": true,
           "gridcolor": "white",
           "linecolor": "white",
           "ticks": "",
           "title": {
            "standoff": 15
           },
           "zerolinecolor": "white",
           "zerolinewidth": 2
          },
          "yaxis": {
           "automargin": true,
           "gridcolor": "white",
           "linecolor": "white",
           "ticks": "",
           "title": {
            "standoff": 15
           },
           "zerolinecolor": "white",
           "zerolinewidth": 2
          }
         }
        },
        "xaxis": {
         "anchor": "y",
         "domain": [
          0,
          1
         ],
         "title": {
          "text": "tsne_x"
         }
        },
        "yaxis": {
         "anchor": "x",
         "domain": [
          0,
          1
         ],
         "title": {
          "text": "tsne_y"
         }
        }
       }
      }
     },
     "metadata": {},
     "output_type": "display_data"
    }
   ],
   "source": [
    "fig = px.scatter(\n",
    "    X_tsne_pd, x=\"tsne_x\", y=\"tsne_y\", hover_data=[\"text\"], color=\"KMeans_classes\"\n",
    ")\n",
    "fig.show()"
   ]
  },
  {
   "cell_type": "code",
   "execution_count": 20,
   "metadata": {},
   "outputs": [
    {
     "data": {
      "text/html": [
       "<div>\n",
       "<style scoped>\n",
       "    .dataframe tbody tr th:only-of-type {\n",
       "        vertical-align: middle;\n",
       "    }\n",
       "\n",
       "    .dataframe tbody tr th {\n",
       "        vertical-align: top;\n",
       "    }\n",
       "\n",
       "    .dataframe thead th {\n",
       "        text-align: right;\n",
       "    }\n",
       "</style>\n",
       "<table border=\"1\" class=\"dataframe\">\n",
       "  <thead>\n",
       "    <tr style=\"text-align: right;\">\n",
       "      <th></th>\n",
       "      <th>tsne_x</th>\n",
       "      <th>tsne_y</th>\n",
       "      <th>text</th>\n",
       "      <th>KMeans_classes</th>\n",
       "    </tr>\n",
       "  </thead>\n",
       "  <tbody>\n",
       "    <tr>\n",
       "      <th>27</th>\n",
       "      <td>6.959510</td>\n",
       "      <td>0.640372</td>\n",
       "      <td>plasmablastic lymphoma</td>\n",
       "      <td>9</td>\n",
       "    </tr>\n",
       "    <tr>\n",
       "      <th>89</th>\n",
       "      <td>7.148324</td>\n",
       "      <td>0.763391</td>\n",
       "      <td>lymphomatoid papulosis</td>\n",
       "      <td>9</td>\n",
       "    </tr>\n",
       "    <tr>\n",
       "      <th>100</th>\n",
       "      <td>6.836546</td>\n",
       "      <td>0.498588</td>\n",
       "      <td>b-cell unclassifiable lymphoma low grade</td>\n",
       "      <td>9</td>\n",
       "    </tr>\n",
       "    <tr>\n",
       "      <th>236</th>\n",
       "      <td>6.760018</td>\n",
       "      <td>0.470636</td>\n",
       "      <td>primary mediastinal large b-cell lymphoma stage ii</td>\n",
       "      <td>9</td>\n",
       "    </tr>\n",
       "    <tr>\n",
       "      <th>315</th>\n",
       "      <td>6.933728</td>\n",
       "      <td>0.651776</td>\n",
       "      <td>b precursor type acute leukaemia</td>\n",
       "      <td>9</td>\n",
       "    </tr>\n",
       "    <tr>\n",
       "      <th>433</th>\n",
       "      <td>6.808297</td>\n",
       "      <td>0.457208</td>\n",
       "      <td>nodular lymphocyte predominant hodgkin lymphoma</td>\n",
       "      <td>9</td>\n",
       "    </tr>\n",
       "    <tr>\n",
       "      <th>457</th>\n",
       "      <td>6.847237</td>\n",
       "      <td>0.577801</td>\n",
       "      <td>primary effusion lymphoma</td>\n",
       "      <td>9</td>\n",
       "    </tr>\n",
       "    <tr>\n",
       "      <th>480</th>\n",
       "      <td>6.659011</td>\n",
       "      <td>0.411188</td>\n",
       "      <td>non-hodgkin's lymphoma stage i</td>\n",
       "      <td>9</td>\n",
       "    </tr>\n",
       "  </tbody>\n",
       "</table>\n",
       "</div>"
      ],
      "text/plain": [
       "       tsne_x    tsne_y                                                text  \\\n",
       "27   6.959510  0.640372                              plasmablastic lymphoma   \n",
       "89   7.148324  0.763391                              lymphomatoid papulosis   \n",
       "100  6.836546  0.498588            b-cell unclassifiable lymphoma low grade   \n",
       "236  6.760018  0.470636  primary mediastinal large b-cell lymphoma stage ii   \n",
       "315  6.933728  0.651776                    b precursor type acute leukaemia   \n",
       "433  6.808297  0.457208     nodular lymphocyte predominant hodgkin lymphoma   \n",
       "457  6.847237  0.577801                           primary effusion lymphoma   \n",
       "480  6.659011  0.411188                      non-hodgkin's lymphoma stage i   \n",
       "\n",
       "     KMeans_classes  \n",
       "27                9  \n",
       "89                9  \n",
       "100               9  \n",
       "236               9  \n",
       "315               9  \n",
       "433               9  \n",
       "457               9  \n",
       "480               9  "
      ]
     },
     "execution_count": 20,
     "metadata": {},
     "output_type": "execute_result"
    }
   ],
   "source": [
    "# visualize per kmeans class\n",
    "class_num = 9\n",
    "X_tsne_pd[X_tsne_pd[\"KMeans_classes\"] == class_num].head(20)"
   ]
  },
  {
   "cell_type": "code",
   "execution_count": 32,
   "metadata": {},
   "outputs": [
    {
     "name": "stdout",
     "output_type": "stream",
     "text": [
      "torch.Size([500, 768])\n"
     ]
    }
   ],
   "source": [
    "# Use Cosine Similarity for RAG -> This is the Retrieval part of Retrieval-augmented Generation\n",
    "# Cosine similarity is just a dot-product after normalizing vectors to be unit norm\n",
    "# For each embedding, we can compute the top K related sentences based on cosine similarity\n",
    "\n",
    "topK = 10\n",
    "topK_similar_texts = []\n",
    "topK_similar_texts_cosines = []\n",
    "\n",
    "print(sentence_embedding_normalized.shape)  # already normalized before\n",
    "for user_query_embedding_idx in range(sentence_embedding_normalized.shape[0]):\n",
    "    user_query = sentence_embedding_normalized[\n",
    "        user_query_embedding_idx : user_query_embedding_idx + 1\n",
    "    ]\n",
    "    dot_product = torch.mm(sentence_embedding_normalized, user_query.T)\n",
    "    top_matches = torch.argsort(dot_product, dim=0, descending=True).flatten()[\n",
    "        1:\n",
    "    ]  # discard the first elem as that will be itself\n",
    "\n",
    "    # keep topK\n",
    "    topK_matches = top_matches[:topK]\n",
    "    topK_similar_texts.append(\n",
    "        \", \".join(X_tsne_pd[\"text\"].to_numpy()[topK_matches].tolist())\n",
    "    )\n",
    "    topK_similar_texts_cosines.append(\n",
    "        \", \".join(\n",
    "            [str(i)[:5] for i in dot_product[topK_matches].flatten().numpy().tolist()]\n",
    "        )\n",
    "    )\n",
    "\n",
    "X_tsne_pd[\"topK_similar_texts\"] = topK_similar_texts\n",
    "X_tsne_pd[\"topK_similar_cosines\"] = topK_similar_texts_cosines"
   ]
  },
  {
   "cell_type": "code",
   "execution_count": 33,
   "metadata": {},
   "outputs": [
    {
     "data": {
      "text/html": [
       "<div>\n",
       "<style scoped>\n",
       "    .dataframe tbody tr th:only-of-type {\n",
       "        vertical-align: middle;\n",
       "    }\n",
       "\n",
       "    .dataframe tbody tr th {\n",
       "        vertical-align: top;\n",
       "    }\n",
       "\n",
       "    .dataframe thead th {\n",
       "        text-align: right;\n",
       "    }\n",
       "</style>\n",
       "<table border=\"1\" class=\"dataframe\">\n",
       "  <thead>\n",
       "    <tr style=\"text-align: right;\">\n",
       "      <th></th>\n",
       "      <th>tsne_x</th>\n",
       "      <th>tsne_y</th>\n",
       "      <th>text</th>\n",
       "      <th>KMeans_classes</th>\n",
       "      <th>topK_similar_texts</th>\n",
       "      <th>topK_similar_cosines</th>\n",
       "    </tr>\n",
       "  </thead>\n",
       "  <tbody>\n",
       "    <tr>\n",
       "      <th>0</th>\n",
       "      <td>7.862282</td>\n",
       "      <td>4.145305</td>\n",
       "      <td>road traffic accident</td>\n",
       "      <td>41</td>\n",
       "      <td>cerebrovascular accident, accident at work, neck injury, mouth injury, animal bite, intentional self-injury, aneurysm ruptured, carbon monoxide poisoning, vulvovaginal injury, aortic aneurysm rupture</td>\n",
       "      <td>0.663, 0.578, 0.504, 0.397, 0.392, 0.336, 0.331, 0.313, 0.303, 0.301</td>\n",
       "    </tr>\n",
       "    <tr>\n",
       "      <th>1</th>\n",
       "      <td>6.996767</td>\n",
       "      <td>5.301177</td>\n",
       "      <td>chylothorax</td>\n",
       "      <td>40</td>\n",
       "      <td>aspiration pleural cavity, bronchostenosis, infectious pleural effusion, sympathectomy, pericardial excision, phlebotomy, splenectomy, ulcer haemorrhage, bursitis infective, abscess drainage</td>\n",
       "      <td>0.469, 0.439, 0.426, 0.407, 0.394, 0.388, 0.371, 0.370, 0.370, 0.370</td>\n",
       "    </tr>\n",
       "    <tr>\n",
       "      <th>2</th>\n",
       "      <td>6.294518</td>\n",
       "      <td>3.694638</td>\n",
       "      <td>foreign body in gastrointestinal tract</td>\n",
       "      <td>12</td>\n",
       "      <td>sensation of foreign body, gastrointestinal tube insertion, gastrointestinal erosion, metastases to biliary tract, intestinal transit time abnormal, frequent bowel movements, genitourinary tract neoplasm, reproductive tract disorder, gastric adenoma, perforation</td>\n",
       "      <td>0.629, 0.562, 0.503, 0.417, 0.416, 0.413, 0.360, 0.352, 0.332, 0.314</td>\n",
       "    </tr>\n",
       "    <tr>\n",
       "      <th>3</th>\n",
       "      <td>8.049612</td>\n",
       "      <td>6.591092</td>\n",
       "      <td>prophylactic chemotherapy</td>\n",
       "      <td>47</td>\n",
       "      <td>antibiotic prophylaxis, prophylaxis against solar radiation, radioimmunotherapy, psychiatric disorder prophylaxis, appendicectomy, antidiarrhoeal supportive care, colectomy, colorectal cancer metastatic, blood folate decreased, drug eruption</td>\n",
       "      <td>0.537, 0.466, 0.380, 0.366, 0.284, 0.264, 0.264, 0.262, 0.255, 0.254</td>\n",
       "    </tr>\n",
       "    <tr>\n",
       "      <th>4</th>\n",
       "      <td>5.234400</td>\n",
       "      <td>5.507451</td>\n",
       "      <td>vaccination site infection</td>\n",
       "      <td>5</td>\n",
       "      <td>systemic infection, injection site plaque, nipple infection, streptococcal infection, lymph gland infection, genital infection bacterial, rhinovirus infection, herpes zoster immunisation, influenza immunisation, retroviral infection</td>\n",
       "      <td>0.570, 0.501, 0.450, 0.432, 0.432, 0.406, 0.388, 0.387, 0.385, 0.354</td>\n",
       "    </tr>\n",
       "  </tbody>\n",
       "</table>\n",
       "</div>"
      ],
      "text/plain": [
       "     tsne_x    tsne_y                                    text  KMeans_classes  \\\n",
       "0  7.862282  4.145305                   road traffic accident              41   \n",
       "1  6.996767  5.301177                             chylothorax              40   \n",
       "2  6.294518  3.694638  foreign body in gastrointestinal tract              12   \n",
       "3  8.049612  6.591092               prophylactic chemotherapy              47   \n",
       "4  5.234400  5.507451              vaccination site infection               5   \n",
       "\n",
       "                                                                                                                                                                                                                                                       topK_similar_texts  \\\n",
       "0                                                                 cerebrovascular accident, accident at work, neck injury, mouth injury, animal bite, intentional self-injury, aneurysm ruptured, carbon monoxide poisoning, vulvovaginal injury, aortic aneurysm rupture   \n",
       "1                                                                          aspiration pleural cavity, bronchostenosis, infectious pleural effusion, sympathectomy, pericardial excision, phlebotomy, splenectomy, ulcer haemorrhage, bursitis infective, abscess drainage   \n",
       "2  sensation of foreign body, gastrointestinal tube insertion, gastrointestinal erosion, metastases to biliary tract, intestinal transit time abnormal, frequent bowel movements, genitourinary tract neoplasm, reproductive tract disorder, gastric adenoma, perforation   \n",
       "3                       antibiotic prophylaxis, prophylaxis against solar radiation, radioimmunotherapy, psychiatric disorder prophylaxis, appendicectomy, antidiarrhoeal supportive care, colectomy, colorectal cancer metastatic, blood folate decreased, drug eruption   \n",
       "4                                systemic infection, injection site plaque, nipple infection, streptococcal infection, lymph gland infection, genital infection bacterial, rhinovirus infection, herpes zoster immunisation, influenza immunisation, retroviral infection   \n",
       "\n",
       "                                                   topK_similar_cosines  \n",
       "0  0.663, 0.578, 0.504, 0.397, 0.392, 0.336, 0.331, 0.313, 0.303, 0.301  \n",
       "1  0.469, 0.439, 0.426, 0.407, 0.394, 0.388, 0.371, 0.370, 0.370, 0.370  \n",
       "2  0.629, 0.562, 0.503, 0.417, 0.416, 0.413, 0.360, 0.352, 0.332, 0.314  \n",
       "3  0.537, 0.466, 0.380, 0.366, 0.284, 0.264, 0.264, 0.262, 0.255, 0.254  \n",
       "4  0.570, 0.501, 0.450, 0.432, 0.432, 0.406, 0.388, 0.387, 0.385, 0.354  "
      ]
     },
     "execution_count": 33,
     "metadata": {},
     "output_type": "execute_result"
    }
   ],
   "source": [
    "X_tsne_pd.head()"
   ]
  },
  {
   "cell_type": "code",
   "execution_count": null,
   "metadata": {},
   "outputs": [],
   "source": []
  }
 ],
 "metadata": {
  "kernelspec": {
   "display_name": "pytorch_env",
   "language": "python",
   "name": "python3"
  },
  "language_info": {
   "codemirror_mode": {
    "name": "ipython",
    "version": 3
   },
   "file_extension": ".py",
   "mimetype": "text/x-python",
   "name": "python",
   "nbconvert_exporter": "python",
   "pygments_lexer": "ipython3",
   "version": "3.8.12"
  }
 },
 "nbformat": 4,
 "nbformat_minor": 2
}
